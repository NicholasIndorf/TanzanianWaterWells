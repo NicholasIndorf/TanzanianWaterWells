{
 "cells": [
  {
   "cell_type": "markdown",
   "metadata": {},
   "source": [
    "# Data Modeling "
   ]
  },
  {
   "cell_type": "markdown",
   "metadata": {},
   "source": [
    "### In this notebook, we move forward with our cleaned data and start our preprocessing and modeling \n",
    "\n",
    "\n",
    "After cleaning our data, and determining what preprocessing steps we want to integrate into our code via pipelines, we then create our baseline models. Through an iterative process we work through better performing modeling types before using a combination of high performing models. In evaluating these models, we kept in mind that simply guessing the waterpoint is functioning each time will give you a model that performs with 54% accuracy. As we began modeling, it became very clear that non-parametric models were the best fit for our data, as they better tolerate a large proportion of categorical features. As we iterated through the models, this assumption was backed up by our results. \n"
   ]
  },
  {
   "cell_type": "code",
   "execution_count": 1,
   "metadata": {},
   "outputs": [],
   "source": [
    "#Importing the relevant libraries\n",
    "\n",
    "import numpy as np\n",
    "import pandas as pd\n",
    "import matplotlib.pyplot as plt\n",
    "import seaborn as sns\n",
    "from category_encoders.count import CountEncoder\n",
    "from category_encoders.one_hot import OneHotEncoder\n",
    "from category_encoders.cat_boost import CatBoostEncoder\n",
    "from sklearn.compose import ColumnTransformer\n",
    "from sklearn.model_selection import train_test_split\n",
    "from sklearn.experimental import enable_iterative_imputer\n",
    "from sklearn.impute import IterativeImputer\n",
    "from sklearn.preprocessing import StandardScaler, MinMaxScaler\n",
    "from sklearn.pipeline import Pipeline\n",
    "from sklearn.dummy import DummyClassifier\n",
    "from sklearn.linear_model import LogisticRegression\n",
    "from sklearn.tree import DecisionTreeClassifier\n",
    "from sklearn.ensemble import RandomForestClassifier, AdaBoostClassifier\n",
    "from sklearn.model_selection import cross_validate\n",
    "from sklearn.metrics import accuracy_score, precision_score, recall_score, f1_score, roc_auc_score\n",
    "from sklearn.metrics import roc_auc_score, plot_confusion_matrix, plot_roc_curve\n",
    "from sklearn.model_selection import GridSearchCV\n",
    "from sklearn.ensemble import GradientBoostingClassifier\n",
    "from sklearn.ensemble import VotingClassifier\n",
    "\n",
    "import warnings\n",
    "\n",
    "warnings.filterwarnings('ignore')\n",
    "\n",
    "# settings to display all columns\n",
    "pd.set_option(\"display.max_columns\", None)"
   ]
  },
  {
   "cell_type": "code",
   "execution_count": 2,
   "metadata": {},
   "outputs": [],
   "source": [
    "df = pd.read_csv('data/data_cleaned.csv')"
   ]
  },
  {
   "cell_type": "markdown",
   "metadata": {},
   "source": [
    "We can take a look again at our final cleaned dataset."
   ]
  },
  {
   "cell_type": "code",
   "execution_count": 3,
   "metadata": {},
   "outputs": [
    {
     "data": {
      "text/html": [
       "<div>\n",
       "<style scoped>\n",
       "    .dataframe tbody tr th:only-of-type {\n",
       "        vertical-align: middle;\n",
       "    }\n",
       "\n",
       "    .dataframe tbody tr th {\n",
       "        vertical-align: top;\n",
       "    }\n",
       "\n",
       "    .dataframe thead th {\n",
       "        text-align: right;\n",
       "    }\n",
       "</style>\n",
       "<table border=\"1\" class=\"dataframe\">\n",
       "  <thead>\n",
       "    <tr style=\"text-align: right;\">\n",
       "      <th></th>\n",
       "      <th>id</th>\n",
       "      <th>non_functional</th>\n",
       "      <th>amount_tsh</th>\n",
       "      <th>funder</th>\n",
       "      <th>gps_height</th>\n",
       "      <th>installer</th>\n",
       "      <th>longitude</th>\n",
       "      <th>latitude</th>\n",
       "      <th>basin</th>\n",
       "      <th>subvillage</th>\n",
       "      <th>region</th>\n",
       "      <th>lga</th>\n",
       "      <th>ward</th>\n",
       "      <th>population</th>\n",
       "      <th>public_meeting</th>\n",
       "      <th>scheme_management</th>\n",
       "      <th>permit</th>\n",
       "      <th>construction_year</th>\n",
       "      <th>extraction_type</th>\n",
       "      <th>management</th>\n",
       "      <th>payment</th>\n",
       "      <th>water_quality</th>\n",
       "      <th>quantity</th>\n",
       "      <th>source</th>\n",
       "      <th>waterpoint_type</th>\n",
       "    </tr>\n",
       "  </thead>\n",
       "  <tbody>\n",
       "    <tr>\n",
       "      <th>0</th>\n",
       "      <td>69572</td>\n",
       "      <td>0</td>\n",
       "      <td>6000.0</td>\n",
       "      <td>Roman</td>\n",
       "      <td>1390</td>\n",
       "      <td>Roman</td>\n",
       "      <td>34.938093</td>\n",
       "      <td>-9.856322</td>\n",
       "      <td>Lake Nyasa</td>\n",
       "      <td>Mnyusi B</td>\n",
       "      <td>Iringa</td>\n",
       "      <td>Ludewa</td>\n",
       "      <td>Mundindi</td>\n",
       "      <td>109</td>\n",
       "      <td>True</td>\n",
       "      <td>VWC</td>\n",
       "      <td>Unknown</td>\n",
       "      <td>1999.0</td>\n",
       "      <td>gravity</td>\n",
       "      <td>vwc</td>\n",
       "      <td>pay annually</td>\n",
       "      <td>soft</td>\n",
       "      <td>enough</td>\n",
       "      <td>spring</td>\n",
       "      <td>communal standpipe</td>\n",
       "    </tr>\n",
       "    <tr>\n",
       "      <th>1</th>\n",
       "      <td>8776</td>\n",
       "      <td>0</td>\n",
       "      <td>0.0</td>\n",
       "      <td>Grumeti</td>\n",
       "      <td>1399</td>\n",
       "      <td>GRUMETI</td>\n",
       "      <td>34.698766</td>\n",
       "      <td>-2.147466</td>\n",
       "      <td>Lake Victoria</td>\n",
       "      <td>Nyamara</td>\n",
       "      <td>Mara</td>\n",
       "      <td>Serengeti</td>\n",
       "      <td>Natta</td>\n",
       "      <td>280</td>\n",
       "      <td>Unknown</td>\n",
       "      <td>Other</td>\n",
       "      <td>True</td>\n",
       "      <td>2010.0</td>\n",
       "      <td>gravity</td>\n",
       "      <td>wug</td>\n",
       "      <td>never pay</td>\n",
       "      <td>soft</td>\n",
       "      <td>insufficient</td>\n",
       "      <td>rainwater harvesting</td>\n",
       "      <td>communal standpipe</td>\n",
       "    </tr>\n",
       "    <tr>\n",
       "      <th>2</th>\n",
       "      <td>34310</td>\n",
       "      <td>0</td>\n",
       "      <td>25.0</td>\n",
       "      <td>Lottery Club</td>\n",
       "      <td>686</td>\n",
       "      <td>World vision</td>\n",
       "      <td>37.460664</td>\n",
       "      <td>-3.821329</td>\n",
       "      <td>Pangani</td>\n",
       "      <td>Majengo</td>\n",
       "      <td>Manyara</td>\n",
       "      <td>Simanjiro</td>\n",
       "      <td>Ngorika</td>\n",
       "      <td>250</td>\n",
       "      <td>True</td>\n",
       "      <td>VWC</td>\n",
       "      <td>True</td>\n",
       "      <td>2009.0</td>\n",
       "      <td>gravity</td>\n",
       "      <td>vwc</td>\n",
       "      <td>pay per bucket</td>\n",
       "      <td>soft</td>\n",
       "      <td>enough</td>\n",
       "      <td>dam</td>\n",
       "      <td>communal standpipe multiple</td>\n",
       "    </tr>\n",
       "    <tr>\n",
       "      <th>3</th>\n",
       "      <td>67743</td>\n",
       "      <td>1</td>\n",
       "      <td>0.0</td>\n",
       "      <td>Unicef</td>\n",
       "      <td>263</td>\n",
       "      <td>UNICEF</td>\n",
       "      <td>38.486161</td>\n",
       "      <td>-11.155298</td>\n",
       "      <td>Ruvuma / Southern Coast</td>\n",
       "      <td>Mahakamani</td>\n",
       "      <td>Mtwara</td>\n",
       "      <td>Nanyumbu</td>\n",
       "      <td>Nanyumbu</td>\n",
       "      <td>58</td>\n",
       "      <td>True</td>\n",
       "      <td>VWC</td>\n",
       "      <td>True</td>\n",
       "      <td>1986.0</td>\n",
       "      <td>submersible</td>\n",
       "      <td>vwc</td>\n",
       "      <td>never pay</td>\n",
       "      <td>soft</td>\n",
       "      <td>dry</td>\n",
       "      <td>machine dbh</td>\n",
       "      <td>communal standpipe multiple</td>\n",
       "    </tr>\n",
       "    <tr>\n",
       "      <th>4</th>\n",
       "      <td>19728</td>\n",
       "      <td>0</td>\n",
       "      <td>0.0</td>\n",
       "      <td>Action In A</td>\n",
       "      <td>0</td>\n",
       "      <td>Artisan</td>\n",
       "      <td>31.130847</td>\n",
       "      <td>-1.825359</td>\n",
       "      <td>Lake Victoria</td>\n",
       "      <td>Kyanyamisa</td>\n",
       "      <td>Kagera</td>\n",
       "      <td>Karagwe</td>\n",
       "      <td>Nyakasimbi</td>\n",
       "      <td>0</td>\n",
       "      <td>True</td>\n",
       "      <td>Unknown</td>\n",
       "      <td>True</td>\n",
       "      <td>NaN</td>\n",
       "      <td>gravity</td>\n",
       "      <td>other</td>\n",
       "      <td>never pay</td>\n",
       "      <td>soft</td>\n",
       "      <td>seasonal</td>\n",
       "      <td>rainwater harvesting</td>\n",
       "      <td>communal standpipe</td>\n",
       "    </tr>\n",
       "  </tbody>\n",
       "</table>\n",
       "</div>"
      ],
      "text/plain": [
       "      id  non_functional  amount_tsh        funder  gps_height     installer  \\\n",
       "0  69572               0      6000.0         Roman        1390         Roman   \n",
       "1   8776               0         0.0       Grumeti        1399       GRUMETI   \n",
       "2  34310               0        25.0  Lottery Club         686  World vision   \n",
       "3  67743               1         0.0        Unicef         263        UNICEF   \n",
       "4  19728               0         0.0   Action In A           0       Artisan   \n",
       "\n",
       "   longitude   latitude                    basin  subvillage   region  \\\n",
       "0  34.938093  -9.856322               Lake Nyasa    Mnyusi B   Iringa   \n",
       "1  34.698766  -2.147466            Lake Victoria     Nyamara     Mara   \n",
       "2  37.460664  -3.821329                  Pangani     Majengo  Manyara   \n",
       "3  38.486161 -11.155298  Ruvuma / Southern Coast  Mahakamani   Mtwara   \n",
       "4  31.130847  -1.825359            Lake Victoria  Kyanyamisa   Kagera   \n",
       "\n",
       "         lga        ward  population public_meeting scheme_management  \\\n",
       "0     Ludewa    Mundindi         109           True               VWC   \n",
       "1  Serengeti       Natta         280        Unknown             Other   \n",
       "2  Simanjiro     Ngorika         250           True               VWC   \n",
       "3   Nanyumbu    Nanyumbu          58           True               VWC   \n",
       "4    Karagwe  Nyakasimbi           0           True           Unknown   \n",
       "\n",
       "    permit  construction_year extraction_type management         payment  \\\n",
       "0  Unknown             1999.0         gravity        vwc    pay annually   \n",
       "1     True             2010.0         gravity        wug       never pay   \n",
       "2     True             2009.0         gravity        vwc  pay per bucket   \n",
       "3     True             1986.0     submersible        vwc       never pay   \n",
       "4     True                NaN         gravity      other       never pay   \n",
       "\n",
       "  water_quality      quantity                source  \\\n",
       "0          soft        enough                spring   \n",
       "1          soft  insufficient  rainwater harvesting   \n",
       "2          soft        enough                   dam   \n",
       "3          soft           dry           machine dbh   \n",
       "4          soft      seasonal  rainwater harvesting   \n",
       "\n",
       "               waterpoint_type  \n",
       "0           communal standpipe  \n",
       "1           communal standpipe  \n",
       "2  communal standpipe multiple  \n",
       "3  communal standpipe multiple  \n",
       "4           communal standpipe  "
      ]
     },
     "execution_count": 3,
     "metadata": {},
     "output_type": "execute_result"
    }
   ],
   "source": [
    "df.head()"
   ]
  },
  {
   "cell_type": "markdown",
   "metadata": {},
   "source": [
    "## Modeling \n",
    "\n",
    "Because of the large number of categorical features in our dataset, we will choose model types that have high functionality with categories. \n",
    "\n"
   ]
  },
  {
   "cell_type": "markdown",
   "metadata": {},
   "source": [
    "First we start with selecting our X and y"
   ]
  },
  {
   "cell_type": "code",
   "execution_count": 4,
   "metadata": {},
   "outputs": [],
   "source": [
    "X = df.drop(columns='non_functional')\n",
    "y = df['non_functional']"
   ]
  },
  {
   "cell_type": "markdown",
   "metadata": {},
   "source": [
    "For preprocessing purposes, we have to split our features into three different groups. One group holds our numerical data. The next deals with categorical columns that have less than 25 unique values. Finally, out last column deals with any categorical columns that have 25 or more unique values. "
   ]
  },
  {
   "cell_type": "code",
   "execution_count": 5,
   "metadata": {
    "scrolled": true
   },
   "outputs": [],
   "source": [
    "#Lists to hold column names\n",
    "num_cols = []\n",
    "sm_cat_cols = []\n",
    "lg_cat_cols = []\n",
    "\n",
    "for c in X.columns:\n",
    "    if X[c].dtype in ['float64', 'int64']:\n",
    "        num_cols.append(c)\n",
    "    elif X[c].nunique() < 25:\n",
    "        sm_cat_cols.append(c)\n",
    "    else:\n",
    "        lg_cat_cols.append(c)"
   ]
  },
  {
   "cell_type": "markdown",
   "metadata": {},
   "source": [
    "Our deliverable to our stakeholders is the final model. With this in consideration, we decided to separate off a holdout set of values before modeling to use on our best model. After this first separation we proceed with a traditional train test split."
   ]
  },
  {
   "cell_type": "code",
   "execution_count": 6,
   "metadata": {},
   "outputs": [],
   "source": [
    "#First holdout set\n",
    "X_train_big, X_holdout, y_train_big, y_holdout = train_test_split(X, y,\n",
    "                                                          test_size = .10, random_state = 396)\n",
    "#Performing train test split on the remaining data\n",
    "X_train, X_test, y_train, y_test = train_test_split(X_train_big, y_train_big,\n",
    "                                                    test_size = .25, random_state = 396)\n",
    "\n"
   ]
  },
  {
   "cell_type": "code",
   "execution_count": 7,
   "metadata": {},
   "outputs": [],
   "source": [
    "def evaluate(estimator, X_tr, X_te, y_tr, y_te, cv=5, grid_search=False):\n",
    "    '''\n",
    "Function takes in estimator, training data, test data, a Boolean value indicating if the estimator is a grid search, \n",
    "and the cross validation splitting strategy if the estimator is not a grid search, \n",
    "and returns the accuracy, precision, recall, f1, and the ROC-AUC scores for the model \n",
    "and a confusion matrix visualization.  \n",
    "\n",
    "If ‘grid_search parameter is set to “True” then the function will not perform cross validation on the model. \n",
    "Based off of Lindsey Berlin’s evaluate function found at: \n",
    "https://github.com/lindseyberlin/Cat-in-the-Dat-Project/blob/main/notebooks/Lindsey/EDA-Initial-Models.ipynb\n",
    "------------------------------------------------------------------------------------------\n",
    "Inputs: \n",
    "-Estimator - Estimator object  \n",
    "-X_tr – X_train dataframe\n",
    "-X_te – X_test dataframe\n",
    "-Y_tr – y_train dataframe\n",
    "-Y_te – y_test dataframe\n",
    "-Cv – If cross_val  set to true this determines the cross-validation splitting strategy.  \n",
    "        Takes in all value options for sklearn.model_selection_cross_val_score “cv” parameter:\n",
    "        - None, to use the default 5-fold cross validation,\n",
    "        - int, to specify the number of folds in a (Stratified)KFold,\n",
    "        - CV splitter,\n",
    "        - An iterable yielding (train, test) splits as arrays of indices\n",
    "- grid_search – “ Boolean indicating whether a the estimator is a GridSearchCV object, \n",
    "        if set to “False” a cross validation will be performed with the number of iterations set by the “cv” parameter.  \n",
    "        Default value is “False”.\n",
    "\n",
    "Returns – nothing is returned \n",
    "\n",
    "\n",
    "    '''\n",
    "    #If no grid search is being performed, go through evaluation steps as normal, including cross validation\n",
    "    if grid_search == False:\n",
    "        #Cross-Validate\n",
    "        output = cross_validate(estimator, X_tr, y_tr, cv=cv,\n",
    "                                scoring=['accuracy', 'precision','recall', 'f1', 'roc_auc'])\n",
    "        #Printing out the mean of all of our evaluating metrics across the cross validation. \n",
    "        #Accuracy, precisionc recall, f1, and roc auc\n",
    "        print('Results of Cross-Validation:\\n')\n",
    "        print(f'Average accuracy: {output[\"test_accuracy\"].mean()}\\\n",
    "        +/- {output[\"test_accuracy\"].std()}')\n",
    "        print(f'Average precision: {output[\"test_precision\"].mean()}\\\n",
    "        +/- {output[\"test_precision\"].std()}')\n",
    "        print(f'**Average recall: {output[\"test_recall\"].mean()}\\\n",
    "        +/- {output[\"test_recall\"].std()}')\n",
    "        print(f'Average f1 score: {output[\"test_f1\"].mean()}\\\n",
    "        +/- {output[\"test_f1\"].std()}')\n",
    "        print(f'Average roc_auc: {output[\"test_roc_auc\"].mean()}\\\n",
    "        +/- {output[\"test_roc_auc\"].std()}\\n')\n",
    "        print('+'*20)\n",
    "    \n",
    "        \n",
    "        #Fitting the estimator to our X and y train data\n",
    "        estimator.fit(X_tr, y_tr)\n",
    "        #getting predictions for X train\n",
    "        tr_preds = estimator.predict(X_tr)\n",
    "        #getting predictions for X test\n",
    "        te_preds = estimator.predict(X_te)\n",
    "        \n",
    "        #Creating a confusion matrix from our data with custom labels\n",
    "        categories = ['Functional', 'Non-Functional']\n",
    "        print('\\nResults of Train-Test Split Validation:')\n",
    "        plot_confusion_matrix(estimator, X_te, y_te, display_labels= categories,\n",
    "                              cmap='mako')\n",
    "        \n",
    "        #Printing our final evaluating metrics across X train\n",
    "        #Evaluating using accuracy, precision, recall, f1, roc auc\n",
    "        print(\"\\nTraining Scores:\")\n",
    "        print(f\"Train accuracy: {accuracy_score(y_tr, tr_preds)}\")\n",
    "        print(f\"Train precision: {precision_score(y_tr, tr_preds)}\")\n",
    "        print(f\"**Train recall: {recall_score(y_tr, tr_preds)}\")\n",
    "        print(f\"Train f1 score: {f1_score(y_tr, tr_preds)}\")\n",
    "        print(f\"Train roc_auc: {roc_auc_score(y_tr, tr_preds)}\\n\")\n",
    "        print(\"<>\"*10)\n",
    "        #Printing our final evaluating metrics across X test\n",
    "        #Evaluating using accuracy, precision, recall, f1, roc auc\n",
    "        print(\"\\nTesting Scores:\")\n",
    "        print(f\"Test accuracy: {accuracy_score(y_te, te_preds)}\")\n",
    "        print(f\"Test precision: {precision_score(y_te, te_preds)}\")\n",
    "        print(f\"**Test recall: {recall_score(y_te, te_preds)}\")\n",
    "        print(f\"Test f1 score: {f1_score(y_te, te_preds)}\")\n",
    "        print(f\"Test roc_auc: {roc_auc_score(y_te, te_preds)}\")\n",
    "    \n",
    "    #If a grid search is being performed, do not perform a cross validate.\n",
    "    else:\n",
    "        #Fitting the estimator to our X and y train data\n",
    "        estimator.fit(X_tr, y_tr)\n",
    "        #getting predictions for X train\n",
    "        tr_preds = estimator.predict(X_tr)\n",
    "        #getting predictions for X test\n",
    "        te_preds = estimator.predict(X_te)\n",
    "        \n",
    "        #Creating a confusion matrix from our data with custom labels\n",
    "        categories = ['Functional', 'Non-Functional']\n",
    "        print('\\nResults of Train-Test Split Validation:')\n",
    "        plot_confusion_matrix(estimator, X_te, y_te, display_labels= categories,\n",
    "                              cmap='mako')\n",
    "        \n",
    "        #Printing our final evaluating metrics across X train \n",
    "        #Evaluating using accuracy, precision, recall, f1, roc auc\n",
    "        print(\"\\nTraining Scores:\")\n",
    "        print(f\"Train accuracy: {accuracy_score(y_tr, tr_preds)}\")\n",
    "        print(f\"Train precision: {precision_score(y_tr, tr_preds)}\")\n",
    "        print(f\"**Train recall: {recall_score(y_tr, tr_preds)}\")\n",
    "        print(f\"Train f1 score: {f1_score(y_tr, tr_preds)}\")\n",
    "        print(f\"Train roc_auc: {roc_auc_score(y_tr, tr_preds)}\\n\")\n",
    "        print(\"<>\"*10)\n",
    "        \n",
    "        #Printing our final evaluating metrics across X test\n",
    "        #Evaluating using accuracy, precision, recall, f1, roc auc\n",
    "        print(\"\\nTesting Scores:\")\n",
    "        print(f\"Test accuracy: {accuracy_score(y_te, te_preds)}\")\n",
    "        print(f\"Test precision: {precision_score(y_te, te_preds)}\")\n",
    "        print(f\"**Test recall: {recall_score(y_te, te_preds)}\")\n",
    "        print(f\"Test f1 score: {f1_score(y_te, te_preds)}\")\n",
    "        print(f\"Test roc_auc: {roc_auc_score(y_te, te_preds)}\")\n",
    "        \n",
    "        print('\\nGrid Search Results (you animal):\\n')\n",
    "        return pd.DataFrame(estimator.cv_results_)"
   ]
  },
  {
   "cell_type": "markdown",
   "metadata": {},
   "source": [
    "### Preprocessing\n",
    "\n",
    "Our preprocessing involved splitting our data into three different categories; numerical, small categorical, and large categorical. The preprossing steps for each group was as follows: \n",
    "\n",
    "- **Numeric Columns**\n",
    "Our numerical columns were first run through an Iterative Imputer to deal with missing values by modeling each feature with missing values as a function of other features. We then use a MinMaxScaler on all numeric data to better scale our non normal distributions. \n",
    "\n",
    "- **Small Categorical Columns**\n",
    "Our small categorical columns were run through OneHotEncoder to split each unique value into its own binary column. Columns in this category were selected due to having less than 25 unique values in their column.\n",
    "\n",
    "- **Large Categorical Columns**\n",
    "Our large categorical columns were run through a categorical encoder called Count Encoder. This was done because of their large number of unique values. The Count Encoder keeps a single column and reduces the categories in the column to their value counts. \n",
    "\n",
    "- **All Categorical Columns**\n",
    "Alternatively we explored the use of [catboost encoding](https://contrib.scikit-learn.org/category_encoders/catboost.html) for all of our categorical encoders. \n"
   ]
  },
  {
   "cell_type": "markdown",
   "metadata": {},
   "source": [
    "Our first step in our modeling process is to set up some pipelines to deal with our data. "
   ]
  },
  {
   "cell_type": "code",
   "execution_count": 8,
   "metadata": {},
   "outputs": [],
   "source": [
    "# creating Pipelines for each column type:\n",
    "# numeric, categorical with under 25 categories, categorical with over 25 categories\n",
    "\n",
    "\n",
    "num_col_pipe = Pipeline(steps = [\n",
    "    ('ii', IterativeImputer(random_state=396, add_indicator=True)),\n",
    "    ('mm', MinMaxScaler())\n",
    "])\n",
    "\n",
    "sm_cat_col_pipe = Pipeline(steps = [\n",
    "    ('ohe', OneHotEncoder(handle_unknown = 'indicator'))\n",
    "])\n",
    "\n",
    "lg_cat_col_pipe = Pipeline(steps = [\n",
    "    ('count', CountEncoder(min_group_size=10, min_group_name='Other'))\n",
    "])\n",
    "\n",
    "#We created category that would use catboost for all categorical features for further evaluation.\n",
    "\n",
    "all_cat_col_pipe = Pipeline(steps = [\n",
    "    ('catboost', CatBoostEncoder(random_state=396))\n",
    "])"
   ]
  },
  {
   "cell_type": "markdown",
   "metadata": {},
   "source": [
    "Our next step is to create preprocessors that will easily streamline the handling of our data for use in future pipelines. "
   ]
  },
  {
   "cell_type": "code",
   "execution_count": 9,
   "metadata": {},
   "outputs": [],
   "source": [
    "#Preprocessor1 makes a distinction between our small and large categorical columns \n",
    "preprocessor1 = ColumnTransformer(transformers=[\n",
    "    ('numeric', num_col_pipe, num_cols),\n",
    "    ('small_cat', sm_cat_col_pipe, sm_cat_cols),\n",
    "    ('large_cat', lg_cat_col_pipe, lg_cat_cols )\n",
    "])\n",
    "#Preprocessor2 takes in all categorical features no matter the size\n",
    "# and handles them using CatBoostEncoder\n",
    "preprocessor2 = ColumnTransformer(transformers=[\n",
    "    ('numeric', num_col_pipe, num_cols),\n",
    "    ('cat', all_cat_col_pipe, [*sm_cat_cols, *lg_cat_cols]),\n",
    "])"
   ]
  },
  {
   "cell_type": "markdown",
   "metadata": {},
   "source": [
    "## Baseline Evaluation\n",
    "\n",
    "To get an initial understanding of what a modelless prediction looks like, we used DummyClassifier. Our most frequent value in our predictor column is `functioning`. If we were to predict functioning on our test dataset, we would be right around 54% of the time. Any model we create moving forward should outperform this baseline."
   ]
  },
  {
   "cell_type": "code",
   "execution_count": 10,
   "metadata": {},
   "outputs": [
    {
     "name": "stdout",
     "output_type": "stream",
     "text": [
      "Results of Cross-Validation:\n",
      "\n",
      "Average accuracy: 0.5431494883953081        +/- 4.9912652857475586e-05\n",
      "Average precision: 0.0        +/- 0.0\n",
      "**Average recall: 0.0        +/- 0.0\n",
      "Average f1 score: 0.0        +/- 0.0\n",
      "Average roc_auc: 0.5        +/- 0.0\n",
      "\n",
      "++++++++++++++++++++\n",
      "\n",
      "Results of Train-Test Split Validation:\n",
      "\n",
      "Training Scores:\n",
      "Train accuracy: 0.5431494883953082\n",
      "Train precision: 0.0\n",
      "**Train recall: 0.0\n",
      "Train f1 score: 0.0\n",
      "Train roc_auc: 0.5\n",
      "\n",
      "<><><><><><><><><><>\n",
      "\n",
      "Testing Scores:\n",
      "Test accuracy: 0.5414389458710789\n",
      "Test precision: 0.0\n",
      "**Test recall: 0.0\n",
      "Test f1 score: 0.0\n",
      "Test roc_auc: 0.5\n"
     ]
    },
    {
     "data": {
      "image/png": "[encoded data removed]",
      "text/plain": [
       "<Figure size 432x288 with 2 Axes>"
      ]
     },
     "metadata": {
      "needs_background": "light"
     },
     "output_type": "display_data"
    }
   ],
   "source": [
    "#Pipeline for preprocessing and modeling\n",
    "baseline_evaluation = Pipeline(steps=[\n",
    "    ('preprocessor', preprocessor1),\n",
    "    ('classifier', DummyClassifier(strategy='most_frequent'))\n",
    "])\n",
    "\n",
    "#Putting our model through our evaluate function\n",
    "evaluate(baseline_evaluation, X_train, X_test, y_train, y_test, cv=5)"
   ]
  },
  {
   "cell_type": "markdown",
   "metadata": {},
   "source": [
    "**Results**\n",
    "\n",
    "- After evaluating our baseline model, we see that it has an accuracy of 54% on the testing data. All other evaluating metric scores are 0 and our roc_auc shows a value of .5, confirming this is a poor model."
   ]
  },
  {
   "cell_type": "markdown",
   "metadata": {},
   "source": [
    "# Parametric vs. Non-parametric Modeling\n",
    "\n",
    "As we move forward in our modeling, we want to make an initial evaluation of parametric and non-parametric models against one another to provide direction for future modeling decisions. We will compare a logistic regresison model to a decision tree model. We expect the non-parametric decision tree to perform better because it is well equiped to handle categorical data. "
   ]
  },
  {
   "cell_type": "markdown",
   "metadata": {},
   "source": [
    "## Logistic Regression Model\n",
    "\n"
   ]
  },
  {
   "cell_type": "code",
   "execution_count": 11,
   "metadata": {},
   "outputs": [
    {
     "name": "stdout",
     "output_type": "stream",
     "text": [
      "Results of Cross-Validation:\n",
      "\n",
      "Average accuracy: 0.7174943848265535        +/- 0.015325501044653429\n",
      "Average precision: 0.7358609891647862        +/- 0.01680253180110356\n",
      "**Average recall: 0.5948851690908241        +/- 0.025143502775855472\n",
      "Average f1 score: 0.6578082563573079        +/- 0.02160212307885155\n",
      "Average roc_auc: 0.7809795185127753        +/- 0.015509342705686022\n",
      "\n",
      "++++++++++++++++++++\n",
      "\n",
      "Results of Train-Test Split Validation:\n",
      "\n",
      "Training Scores:\n",
      "Train accuracy: 0.5673072123783379\n",
      "Train precision: 0.5509473684210526\n",
      "**Train recall: 0.28591718562220036\n",
      "Train f1 score: 0.3764655110407825\n",
      "Train roc_auc: 0.544952711539275\n",
      "\n",
      "<><><><><><><><><><>\n",
      "\n",
      "Testing Scores:\n",
      "Test accuracy: 0.5666691622370292\n",
      "Test precision: 0.5527386541471049\n",
      "**Test recall: 0.2883265306122449\n",
      "Test f1 score: 0.3789699570815451\n",
      "Test roc_auc: 0.5453662520317862\n"
     ]
    },
    {
     "data": {
      "image/png": "[encoded data removed]",
      "text/plain": [
       "<Figure size 432x288 with 2 Axes>"
      ]
     },
     "metadata": {
      "needs_background": "light"
     },
     "output_type": "display_data"
    }
   ],
   "source": [
    "#Pipeline for preprocessing and modeling\n",
    "logreg = Pipeline(steps=[\n",
    "    ('preprocessor', preprocessor1),\n",
    "    ('classifier', LogisticRegression(random_state=396))\n",
    "])\n",
    "\n",
    "#Putting our logistic regression model through our evaluate function\n",
    "evaluate(logreg, X_train, X_test, y_train, y_test, cv=5)"
   ]
  },
  {
   "cell_type": "markdown",
   "metadata": {},
   "source": [
    "**Results**\n",
    "- Our baseline logistic regression shows only a slight improvement over our dummy classifier model in every single metric used to evaluate.\n",
    "- All metrics are quite low -- in particular our recall score is unacceptably low at 29%. Given the large number of categorical features, this is all to be expected."
   ]
  },
  {
   "cell_type": "markdown",
   "metadata": {},
   "source": [
    "## Decision Tree"
   ]
  },
  {
   "cell_type": "code",
   "execution_count": 12,
   "metadata": {},
   "outputs": [
    {
     "name": "stdout",
     "output_type": "stream",
     "text": [
      "Results of Cross-Validation:\n",
      "\n",
      "Average accuracy: 0.750262041427502        +/- 0.006833022123599001\n",
      "Average precision: 0.7218269684965126        +/- 0.009263669744064939\n",
      "**Average recall: 0.7377904673987746        +/- 0.004731566221769646\n",
      "Average f1 score: 0.7297018074987742        +/- 0.006378236817575044\n",
      "Average roc_auc: 0.749271185122341        +/- 0.006563798539038056\n",
      "\n",
      "++++++++++++++++++++\n",
      "\n",
      "Results of Train-Test Split Validation:\n",
      "\n",
      "Training Scores:\n",
      "Train accuracy: 1.0\n",
      "Train precision: 1.0\n",
      "**Train recall: 1.0\n",
      "Train f1 score: 1.0\n",
      "Train roc_auc: 1.0\n",
      "\n",
      "<><><><><><><><><><>\n",
      "\n",
      "Testing Scores:\n",
      "Test accuracy: 0.7573556936437823\n",
      "Test precision: 0.7296909843899331\n",
      "**Test recall: 0.7479183673469387\n",
      "Test f1 score: 0.7386922518745465\n",
      "Test roc_auc: 0.7566334093371861\n"
     ]
    },
    {
     "data": {
      "image/png": "[encoded data removed]",
      "text/plain": [
       "<Figure size 432x288 with 2 Axes>"
      ]
     },
     "metadata": {
      "needs_background": "light"
     },
     "output_type": "display_data"
    }
   ],
   "source": [
    "#Pipeline for preprocessing and modeling \n",
    "dt = Pipeline(steps=[\n",
    "    ('preprocessor', preprocessor1),\n",
    "    ('classifier', DecisionTreeClassifier(random_state=396))\n",
    "])\n",
    "\n",
    "#Putting our decision tree baseline through our evaluate function\n",
    "evaluate(dt, X_train, X_test, y_train, y_test, cv=5)"
   ]
  },
  {
   "cell_type": "markdown",
   "metadata": {},
   "source": [
    "**Results**\n",
    "- Our decision tree model performed significantly better than our baseline model and logistic regression in every metric of evaluation. It is worth noting that this model is overfit on the training data but it stills performs much much better than previous models on the testing data."
   ]
  },
  {
   "cell_type": "markdown",
   "metadata": {},
   "source": [
    "# Further Non-parametric Modeling \n",
    "\n",
    "Because our initial Decision Tree performs better than Logistic Regression across all metrics, we will continue moving forward with non-parametric modeling. "
   ]
  },
  {
   "cell_type": "markdown",
   "metadata": {},
   "source": [
    "## Random Forest\n",
    "\n",
    "We found that a single decision tree gave us a significant improvement in results. To move forward, we will start working with Random Forest which uses multiple decision trees in its modeling. We will also compare our different preprocessing options to see if there are any differences in results."
   ]
  },
  {
   "cell_type": "code",
   "execution_count": 13,
   "metadata": {},
   "outputs": [
    {
     "name": "stdout",
     "output_type": "stream",
     "text": [
      "Results of Cross-Validation:\n",
      "\n",
      "Average accuracy: 0.8163214374844022        +/- 0.002409287424237006\n",
      "Average precision: 0.826344324310344        +/- 0.005677841054201111\n",
      "**Average recall: 0.7571287745079245        +/- 0.006276391866409888\n",
      "Average f1 score: 0.790188166446984        +/- 0.002844295514499265\n",
      "Average roc_auc: 0.894404629088819        +/- 0.0024281142451172293\n",
      "\n",
      "++++++++++++++++++++\n",
      "\n",
      "Results of Train-Test Split Validation:\n",
      "\n",
      "Training Scores:\n",
      "Train accuracy: 1.0\n",
      "Train precision: 1.0\n",
      "**Train recall: 1.0\n",
      "Train f1 score: 1.0\n",
      "Train roc_auc: 1.0\n",
      "\n",
      "<><><><><><><><><><>\n",
      "\n",
      "Testing Scores:\n",
      "Test accuracy: 0.8209927378902449\n",
      "Test precision: 0.8333928571428572\n",
      "**Test recall: 0.7619591836734694\n",
      "Test f1 score: 0.7960767590618337\n",
      "Test roc_auc: 0.8164746139606285\n"
     ]
    },
    {
     "data": {
      "image/png": "[encoded data removed]",
      "text/plain": [
       "<Figure size 432x288 with 2 Axes>"
      ]
     },
     "metadata": {
      "needs_background": "light"
     },
     "output_type": "display_data"
    }
   ],
   "source": [
    "#Pipeline for preprocessing and modeling \n",
    "rf1 = Pipeline(steps=[\n",
    "    ('preprocessor', preprocessor1),\n",
    "    ('classifier', RandomForestClassifier(random_state=396))\n",
    "])\n",
    "#Putting our random forest through our evaluate function\n",
    "evaluate(rf1, X_train, X_test, y_train, y_test, cv=5)"
   ]
  },
  {
   "cell_type": "markdown",
   "metadata": {},
   "source": [
    "**Results**\n",
    "- Random Forest is performing better than a single decision tree on all metrics. \n",
    "- Like the decision tree, this model is also overfit on the training data but performs well on testing data.\n",
    "- **Note:** Not presented in this notebook is further hyperparameter tuning to try to improve metric scores. Ultimately the default hyperparameters performed best."
   ]
  },
  {
   "cell_type": "markdown",
   "metadata": {},
   "source": [
    "Running the model through our other preprocessor to evaluate differences with the type of categorical preprocssing. Let's see if CatBoost does any better."
   ]
  },
  {
   "cell_type": "code",
   "execution_count": 14,
   "metadata": {},
   "outputs": [
    {
     "name": "stdout",
     "output_type": "stream",
     "text": [
      "Results of Cross-Validation:\n",
      "\n",
      "Average accuracy: 0.8017718991764411        +/- 0.003928224081846972\n",
      "Average precision: 0.8253557646774837        +/- 0.006802787290684527\n",
      "**Average recall: 0.7181249180439877        +/- 0.007776437575354086\n",
      "Average f1 score: 0.7679744663185317        +/- 0.004911935790124266\n",
      "Average roc_auc: 0.8786947891492594        +/- 0.0025936439275698344\n",
      "\n",
      "++++++++++++++++++++\n",
      "\n",
      "Results of Train-Test Split Validation:\n",
      "\n",
      "Training Scores:\n",
      "Train accuracy: 0.865710007486898\n",
      "Train precision: 0.8979126901052891\n",
      "**Train recall: 0.7966240576860046\n",
      "Train f1 score: 0.8442411786841116\n",
      "Train roc_auc: 0.8602216042886924\n",
      "\n",
      "<><><><><><><><><><>\n",
      "\n",
      "Testing Scores:\n",
      "Test accuracy: 0.8046717077187991\n",
      "Test precision: 0.8297074268567142\n",
      "**Test recall: 0.7222857142857143\n",
      "Test f1 score: 0.7722789560967094\n",
      "Test roc_auc: 0.7983663084702908\n"
     ]
    },
    {
     "data": {
      "image/png": "[encoded data removed]",
      "text/plain": [
       "<Figure size 432x288 with 2 Axes>"
      ]
     },
     "metadata": {
      "needs_background": "light"
     },
     "output_type": "display_data"
    }
   ],
   "source": [
    "#Pipeline for preprocessing and modeling\n",
    "rf2 = Pipeline(steps=[\n",
    "    ('preprocessor2', preprocessor2),\n",
    "    ('classifier', RandomForestClassifier(random_state=396))\n",
    "])\n",
    "#Putting our random forest with preprocessor2 through our evaluate function\n",
    "evaluate(rf2, X_train, X_test, y_train, y_test, cv=5)"
   ]
  },
  {
   "cell_type": "markdown",
   "metadata": {},
   "source": [
    "**Results**\n",
    "- The catboost encoding did not lead to an increase in model performance in any metric despite reducing overfitting."
   ]
  },
  {
   "cell_type": "markdown",
   "metadata": {},
   "source": [
    "## Adaboost"
   ]
  },
  {
   "cell_type": "markdown",
   "metadata": {},
   "source": [
    "We decided to explore other non-parametric ensemble methods, beyond random forest. Adaboost is included here because it contributes to our final model, despite its lower scoring in comparison to random forest. \n",
    "\n",
    "A gradient boost classifier was also examined but is not included here because it did not do as well as other models. Look further in personal notebooks if you're curious."
   ]
  },
  {
   "cell_type": "code",
   "execution_count": 15,
   "metadata": {},
   "outputs": [
    {
     "name": "stdout",
     "output_type": "stream",
     "text": [
      "Results of Cross-Validation:\n",
      "\n",
      "Average accuracy: 0.7467681557274769        +/- 0.003431472196308603\n",
      "Average precision: 0.7844656567033667        +/- 0.0024194159171063044\n",
      "**Average recall: 0.6146060643943401        +/- 0.012452073374971798\n",
      "Average f1 score: 0.6891391631449573        +/- 0.007173486992449794\n",
      "Average roc_auc: 0.8244678458973114        +/- 0.0032480373855838635\n",
      "\n",
      "++++++++++++++++++++\n",
      "\n",
      "Results of Train-Test Split Validation:\n",
      "\n",
      "Training Scores:\n",
      "Train accuracy: 0.7478911904167707\n",
      "Train precision: 0.784623924507355\n",
      "**Train recall: 0.6177209658035617\n",
      "Train f1 score: 0.6912402958616052\n",
      "Train roc_auc: 0.737550062023266\n",
      "\n",
      "<><><><><><><><><><>\n",
      "\n",
      "Testing Scores:\n",
      "Test accuracy: 0.7475481021187392\n",
      "Test precision: 0.7864724245577523\n",
      "**Test recall: 0.6169795918367347\n",
      "Test f1 score: 0.691491308325709\n",
      "Test roc_auc: 0.737555061405093\n"
     ]
    },
    {
     "data": {
      "image/png": "[encoded data removed]",
      "text/plain": [
       "<Figure size 432x288 with 2 Axes>"
      ]
     },
     "metadata": {
      "needs_background": "light"
     },
     "output_type": "display_data"
    }
   ],
   "source": [
    "#Pipeline for preprocessing and modeling\n",
    "adbst = Pipeline(steps=[\n",
    "    ('preprocessor', preprocessor1),\n",
    "    ('classifier', AdaBoostClassifier(random_state=396))\n",
    "])\n",
    "\n",
    "#Putting adaboost through our evaluate function\n",
    "evaluate(adbst, X_train, X_test, y_train, y_test, cv=5)"
   ]
  },
  {
   "cell_type": "markdown",
   "metadata": {},
   "source": [
    "**Results**\n",
    "- Due to the significant drop in recall score, adaboost on it's own was discarded as a standalone potential final model."
   ]
  },
  {
   "cell_type": "markdown",
   "metadata": {},
   "source": [
    "### Other Considerations\n",
    "- We performed a gridsearch on a few of our models in notebooks found in personal folders. The results were subpar and not fit for inclusion in our final model.\n",
    "- Other Model types were examined, please reference personal notebooks."
   ]
  },
  {
   "cell_type": "markdown",
   "metadata": {},
   "source": [
    "## Voting Classifier - Final Model\n",
    "\n",
    "We felt that the logic behind AdaBoost was sound, despite its low scores, so we wanted to see if it could help improve our top performer, RandomForest. We used a VotingClassifier and weighed it more heavily in favor of RandomForest."
   ]
  },
  {
   "cell_type": "code",
   "execution_count": 16,
   "metadata": {},
   "outputs": [],
   "source": [
    "w_avg = VotingClassifier(estimators=[\n",
    "    ('ada', adbst),\n",
    "    ('rndfor', rf1)],\n",
    "    weights=[0.25, 0.75], voting = 'soft')"
   ]
  },
  {
   "cell_type": "code",
   "execution_count": 17,
   "metadata": {},
   "outputs": [
    {
     "name": "stdout",
     "output_type": "stream",
     "text": [
      "Results of Cross-Validation:\n",
      "\n",
      "Average accuracy: 0.816246568505116        +/- 0.0025942578477496534\n",
      "Average precision: 0.8250221415085994        +/- 0.005128887445870006\n",
      "**Average recall: 0.7587675814760242        +/- 0.006842820600317659\n",
      "Average f1 score: 0.7904750774468964        +/- 0.0033039917197465215\n",
      "Average roc_auc: 0.8947367035469279        +/- 0.0024034085678559212\n",
      "\n",
      "++++++++++++++++++++\n",
      "\n",
      "Results of Train-Test Split Validation:\n",
      "\n",
      "Training Scores:\n",
      "Train accuracy: 1.0\n",
      "Train precision: 1.0\n",
      "**Train recall: 1.0\n",
      "Train f1 score: 1.0\n",
      "Train roc_auc: 1.0\n",
      "\n",
      "<><><><><><><><><><>\n",
      "\n",
      "Testing Scores:\n",
      "Test accuracy: 0.8212173392228794\n",
      "Test precision: 0.8322959274408679\n",
      "**Test recall: 0.7640816326530612\n",
      "Test f1 score: 0.7967313585291114\n",
      "Test roc_auc: 0.8168444667690085\n"
     ]
    },
    {
     "data": {
      "image/png": "[encoded data removed]",
      "text/plain": [
       "<Figure size 432x288 with 2 Axes>"
      ]
     },
     "metadata": {
      "needs_background": "light"
     },
     "output_type": "display_data"
    }
   ],
   "source": [
    "evaluate(w_avg, X_train, X_test, y_train, y_test, cv=5)"
   ]
  },
  {
   "cell_type": "markdown",
   "metadata": {},
   "source": [
    "**Results**\n",
    "- This composite classifier did indeed perform marginally better than the lone RandomForest on the testing scores."
   ]
  },
  {
   "cell_type": "markdown",
   "metadata": {},
   "source": [
    "### Testing on Holdout Set\n",
    "Now that we have our top performer, let's see how it does on the holdout set. This simulates the accuracy of the model on unseen data."
   ]
  },
  {
   "cell_type": "code",
   "execution_count": 18,
   "metadata": {},
   "outputs": [
    {
     "name": "stdout",
     "output_type": "stream",
     "text": [
      "Results of Cross-Validation:\n",
      "\n",
      "Average accuracy: 0.8210455096697835        +/- 0.0037431677412490313\n",
      "Average precision: 0.8299271714429152        +/- 0.0026153039664668603\n",
      "**Average recall: 0.7655433174516902        +/- 0.009866371532775137\n",
      "Average f1 score: 0.7963999654838649        +/- 0.005407150440460352\n",
      "Average roc_auc: 0.8989890413424089        +/- 0.002955958156236045\n",
      "\n",
      "++++++++++++++++++++\n",
      "\n",
      "Results of Train-Test Split Validation:\n",
      "\n",
      "Training Scores:\n",
      "Train accuracy: 0.9999812828719561\n",
      "Train precision: 1.0\n",
      "**Train recall: 0.9999590683967091\n",
      "Train f1 score: 0.9999795337794969\n",
      "Train roc_auc: 0.9999795341983546\n",
      "\n",
      "<><><><><><><><><><>\n",
      "\n",
      "Testing Scores:\n",
      "Test accuracy: 0.8271854471955533\n",
      "Test precision: 0.8342674139311449\n",
      "**Test recall: 0.7729970326409495\n",
      "Test f1 score: 0.8024643819792068\n",
      "Test roc_auc: 0.8226293401402835\n"
     ]
    },
    {
     "data": {
      "image/png": "[encoded data removed]",
      "text/plain": [
       "<Figure size 432x288 with 2 Axes>"
      ]
     },
     "metadata": {
      "needs_background": "light"
     },
     "output_type": "display_data"
    }
   ],
   "source": [
    "evaluate(w_avg, X_train_big, X_holdout, y_train_big, y_holdout)"
   ]
  },
  {
   "cell_type": "markdown",
   "metadata": {},
   "source": [
    "## Final Evaluation and Conclusion\n",
    "\n",
    "As we can see, the composite VotingClassifier model performs very well with the holdout data! The scores are all the highest of any model, and importantly the recall is the highest. \n",
    "\n",
    "The problem we are trying to address is to create a model that can predict the function state of a water pump based on the data collected about it. In particular, we care about whether a pump is correctly identified as non-functional so we can reduce the number of people suffering without water. Because of this, recall was deemed the most important metric, as it gives the correct guess frequency among the pumps that are indeed non-functional.\n",
    "\n",
    "As our final composite classifier performed so well on the holdout data, we are highly confident that our model is generalizable to unseen data and would be an effective tool for the government of Tanzania. However, it is worth noting that this model can only do so much with the data it received. If the Tanzanian government wished to improve their predictive capabilities, we would recommend they revisit their data collection methods, as more robust descriptors and information would lead to a more robust predictive model."
   ]
  }
 ],
 "metadata": {
  "kernelspec": {
   "display_name": "Python (learn-env)",
   "language": "python",
   "name": "learn-env"
  },
  "language_info": {
   "codemirror_mode": {
    "name": "ipython",
    "version": 3
   },
   "file_extension": ".py",
   "mimetype": "text/x-python",
   "name": "python",
   "nbconvert_exporter": "python",
   "pygments_lexer": "ipython3",
   "version": "3.8.5"
  }
 },
 "nbformat": 4,
 "nbformat_minor": 4
}
