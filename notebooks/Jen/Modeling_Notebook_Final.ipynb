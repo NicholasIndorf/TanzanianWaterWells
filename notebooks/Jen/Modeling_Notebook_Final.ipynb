{
 "cells": [
  {
   "cell_type": "markdown",
   "metadata": {},
   "source": [
    "# Data Modeling "
   ]
  },
  {
   "cell_type": "markdown",
   "metadata": {},
   "source": [
    "### In this notebook, we move forward with our cleaned data and start our preprocessing and modeling \n",
    "\n",
    "How will you analyze the data to arrive at an initial approach?\n",
    "How will you iterate on your initial approach to make it better?\n",
    "What model type is most appropriate, given the data and the business problem?"
   ]
  },
  {
   "cell_type": "code",
   "execution_count": 155,
   "metadata": {},
   "outputs": [],
   "source": [
    "#Importing the relevant libraries\n",
    "\n",
    "import numpy as np\n",
    "import pandas as pd\n",
    "import matplotlib.pyplot as plt\n",
    "import seaborn as sns\n",
    "from category_encoders.count import CountEncoder\n",
    "from category_encoders.one_hot import OneHotEncoder\n",
    "from category_encoders.cat_boost import CatBoostEncoder\n",
    "from sklearn.compose import ColumnTransformer\n",
    "from sklearn.model_selection import train_test_split\n",
    "from sklearn.experimental import enable_iterative_imputer\n",
    "from sklearn.impute import IterativeImputer\n",
    "from sklearn.preprocessing import StandardScaler, MinMaxScaler\n",
    "from sklearn.pipeline import Pipeline\n",
    "from sklearn.dummy import DummyClassifier\n",
    "from sklearn.linear_model import LogisticRegression\n",
    "from sklearn.tree import DecisionTreeClassifier\n",
    "from sklearn.ensemble import RandomForestClassifier, AdaBoostClassifier\n",
    "from sklearn.model_selection import cross_validate\n",
    "from sklearn.metrics import accuracy_score, precision_score, recall_score, f1_score, roc_auc_score\n",
    "from sklearn.metrics import roc_auc_score, plot_confusion_matrix, plot_roc_curve\n",
    "from sklearn.model_selection import GridSearchCV\n",
    "from sklearn.ensemble import GradientBoostingClassifier\n",
    "from sklearn.ensemble import VotingClassifier\n",
    "\n",
    "# settings to display all columns\n",
    "pd.set_option(\"display.max_columns\", None)"
   ]
  },
  {
   "cell_type": "code",
   "execution_count": 156,
   "metadata": {},
   "outputs": [],
   "source": [
    "df = pd.read_csv('data_cleaned_final.csv')"
   ]
  },
  {
   "cell_type": "markdown",
   "metadata": {},
   "source": [
    "We can take a look again at our final cleaned dataset."
   ]
  },
  {
   "cell_type": "code",
   "execution_count": 158,
   "metadata": {},
   "outputs": [
    {
     "data": {
      "text/html": [
       "<div>\n",
       "<style scoped>\n",
       "    .dataframe tbody tr th:only-of-type {\n",
       "        vertical-align: middle;\n",
       "    }\n",
       "\n",
       "    .dataframe tbody tr th {\n",
       "        vertical-align: top;\n",
       "    }\n",
       "\n",
       "    .dataframe thead th {\n",
       "        text-align: right;\n",
       "    }\n",
       "</style>\n",
       "<table border=\"1\" class=\"dataframe\">\n",
       "  <thead>\n",
       "    <tr style=\"text-align: right;\">\n",
       "      <th></th>\n",
       "      <th>id</th>\n",
       "      <th>non_functional</th>\n",
       "      <th>amount_tsh</th>\n",
       "      <th>funder</th>\n",
       "      <th>gps_height</th>\n",
       "      <th>installer</th>\n",
       "      <th>longitude</th>\n",
       "      <th>latitude</th>\n",
       "      <th>basin</th>\n",
       "      <th>region</th>\n",
       "      <th>lga</th>\n",
       "      <th>ward</th>\n",
       "      <th>population</th>\n",
       "      <th>scheme_management</th>\n",
       "      <th>permit</th>\n",
       "      <th>construction_year</th>\n",
       "      <th>extraction_type_class</th>\n",
       "      <th>management_group</th>\n",
       "      <th>payment</th>\n",
       "      <th>quality_group</th>\n",
       "      <th>quantity</th>\n",
       "      <th>source</th>\n",
       "      <th>source_class</th>\n",
       "      <th>waterpoint_type_group</th>\n",
       "    </tr>\n",
       "  </thead>\n",
       "  <tbody>\n",
       "    <tr>\n",
       "      <th>0</th>\n",
       "      <td>69572</td>\n",
       "      <td>0</td>\n",
       "      <td>6000.0</td>\n",
       "      <td>Roman</td>\n",
       "      <td>1390</td>\n",
       "      <td>Roman</td>\n",
       "      <td>34.938093</td>\n",
       "      <td>-9.856322</td>\n",
       "      <td>Lake Nyasa</td>\n",
       "      <td>Iringa</td>\n",
       "      <td>Ludewa</td>\n",
       "      <td>Mundindi</td>\n",
       "      <td>109</td>\n",
       "      <td>VWC</td>\n",
       "      <td>Unknown</td>\n",
       "      <td>1999.0</td>\n",
       "      <td>gravity</td>\n",
       "      <td>user-group</td>\n",
       "      <td>pay annually</td>\n",
       "      <td>good</td>\n",
       "      <td>enough</td>\n",
       "      <td>spring</td>\n",
       "      <td>groundwater</td>\n",
       "      <td>communal standpipe</td>\n",
       "    </tr>\n",
       "    <tr>\n",
       "      <th>1</th>\n",
       "      <td>8776</td>\n",
       "      <td>0</td>\n",
       "      <td>0.0</td>\n",
       "      <td>Grumeti</td>\n",
       "      <td>1399</td>\n",
       "      <td>GRUMETI</td>\n",
       "      <td>34.698766</td>\n",
       "      <td>-2.147466</td>\n",
       "      <td>Lake Victoria</td>\n",
       "      <td>Mara</td>\n",
       "      <td>Serengeti</td>\n",
       "      <td>Natta</td>\n",
       "      <td>280</td>\n",
       "      <td>Other</td>\n",
       "      <td>True</td>\n",
       "      <td>2010.0</td>\n",
       "      <td>gravity</td>\n",
       "      <td>user-group</td>\n",
       "      <td>never pay</td>\n",
       "      <td>good</td>\n",
       "      <td>insufficient</td>\n",
       "      <td>rainwater harvesting</td>\n",
       "      <td>surface</td>\n",
       "      <td>communal standpipe</td>\n",
       "    </tr>\n",
       "    <tr>\n",
       "      <th>2</th>\n",
       "      <td>34310</td>\n",
       "      <td>0</td>\n",
       "      <td>25.0</td>\n",
       "      <td>Lottery Club</td>\n",
       "      <td>686</td>\n",
       "      <td>World vision</td>\n",
       "      <td>37.460664</td>\n",
       "      <td>-3.821329</td>\n",
       "      <td>Pangani</td>\n",
       "      <td>Manyara</td>\n",
       "      <td>Simanjiro</td>\n",
       "      <td>Ngorika</td>\n",
       "      <td>250</td>\n",
       "      <td>VWC</td>\n",
       "      <td>True</td>\n",
       "      <td>2009.0</td>\n",
       "      <td>gravity</td>\n",
       "      <td>user-group</td>\n",
       "      <td>pay per bucket</td>\n",
       "      <td>good</td>\n",
       "      <td>enough</td>\n",
       "      <td>dam</td>\n",
       "      <td>surface</td>\n",
       "      <td>communal standpipe</td>\n",
       "    </tr>\n",
       "    <tr>\n",
       "      <th>3</th>\n",
       "      <td>67743</td>\n",
       "      <td>1</td>\n",
       "      <td>0.0</td>\n",
       "      <td>Unicef</td>\n",
       "      <td>263</td>\n",
       "      <td>UNICEF</td>\n",
       "      <td>38.486161</td>\n",
       "      <td>-11.155298</td>\n",
       "      <td>Ruvuma / Southern Coast</td>\n",
       "      <td>Mtwara</td>\n",
       "      <td>Nanyumbu</td>\n",
       "      <td>Nanyumbu</td>\n",
       "      <td>58</td>\n",
       "      <td>VWC</td>\n",
       "      <td>True</td>\n",
       "      <td>1986.0</td>\n",
       "      <td>submersible</td>\n",
       "      <td>user-group</td>\n",
       "      <td>never pay</td>\n",
       "      <td>good</td>\n",
       "      <td>dry</td>\n",
       "      <td>machine dbh</td>\n",
       "      <td>groundwater</td>\n",
       "      <td>communal standpipe</td>\n",
       "    </tr>\n",
       "    <tr>\n",
       "      <th>4</th>\n",
       "      <td>19728</td>\n",
       "      <td>0</td>\n",
       "      <td>0.0</td>\n",
       "      <td>Action In A</td>\n",
       "      <td>0</td>\n",
       "      <td>Artisan</td>\n",
       "      <td>31.130847</td>\n",
       "      <td>-1.825359</td>\n",
       "      <td>Lake Victoria</td>\n",
       "      <td>Kagera</td>\n",
       "      <td>Karagwe</td>\n",
       "      <td>Nyakasimbi</td>\n",
       "      <td>0</td>\n",
       "      <td>Unknown</td>\n",
       "      <td>True</td>\n",
       "      <td>NaN</td>\n",
       "      <td>gravity</td>\n",
       "      <td>other</td>\n",
       "      <td>never pay</td>\n",
       "      <td>good</td>\n",
       "      <td>seasonal</td>\n",
       "      <td>rainwater harvesting</td>\n",
       "      <td>surface</td>\n",
       "      <td>communal standpipe</td>\n",
       "    </tr>\n",
       "  </tbody>\n",
       "</table>\n",
       "</div>"
      ],
      "text/plain": [
       "      id  non_functional  amount_tsh        funder  gps_height     installer  \\\n",
       "0  69572               0      6000.0         Roman        1390         Roman   \n",
       "1   8776               0         0.0       Grumeti        1399       GRUMETI   \n",
       "2  34310               0        25.0  Lottery Club         686  World vision   \n",
       "3  67743               1         0.0        Unicef         263        UNICEF   \n",
       "4  19728               0         0.0   Action In A           0       Artisan   \n",
       "\n",
       "   longitude   latitude                    basin   region        lga  \\\n",
       "0  34.938093  -9.856322               Lake Nyasa   Iringa     Ludewa   \n",
       "1  34.698766  -2.147466            Lake Victoria     Mara  Serengeti   \n",
       "2  37.460664  -3.821329                  Pangani  Manyara  Simanjiro   \n",
       "3  38.486161 -11.155298  Ruvuma / Southern Coast   Mtwara   Nanyumbu   \n",
       "4  31.130847  -1.825359            Lake Victoria   Kagera    Karagwe   \n",
       "\n",
       "         ward  population scheme_management   permit  construction_year  \\\n",
       "0    Mundindi         109               VWC  Unknown             1999.0   \n",
       "1       Natta         280             Other     True             2010.0   \n",
       "2     Ngorika         250               VWC     True             2009.0   \n",
       "3    Nanyumbu          58               VWC     True             1986.0   \n",
       "4  Nyakasimbi           0           Unknown     True                NaN   \n",
       "\n",
       "  extraction_type_class management_group         payment quality_group  \\\n",
       "0               gravity       user-group    pay annually          good   \n",
       "1               gravity       user-group       never pay          good   \n",
       "2               gravity       user-group  pay per bucket          good   \n",
       "3           submersible       user-group       never pay          good   \n",
       "4               gravity            other       never pay          good   \n",
       "\n",
       "       quantity                source source_class waterpoint_type_group  \n",
       "0        enough                spring  groundwater    communal standpipe  \n",
       "1  insufficient  rainwater harvesting      surface    communal standpipe  \n",
       "2        enough                   dam      surface    communal standpipe  \n",
       "3           dry           machine dbh  groundwater    communal standpipe  \n",
       "4      seasonal  rainwater harvesting      surface    communal standpipe  "
      ]
     },
     "execution_count": 158,
     "metadata": {},
     "output_type": "execute_result"
    }
   ],
   "source": [
    "df.head()"
   ]
  },
  {
   "cell_type": "markdown",
   "metadata": {},
   "source": [
    "## Modeling \n",
    "\n",
    "Because of the large number of categorical features in our dataset, we will choose model types that have high functionality with categories. \n",
    "\n"
   ]
  },
  {
   "cell_type": "markdown",
   "metadata": {},
   "source": [
    "First we start with selecting our X and y"
   ]
  },
  {
   "cell_type": "code",
   "execution_count": 102,
   "metadata": {},
   "outputs": [],
   "source": [
    "X = df.drop(columns='non_functional')\n",
    "y = df['non_functional']"
   ]
  },
  {
   "cell_type": "markdown",
   "metadata": {},
   "source": [
    "For preprocessing purposes, we have to split our features into three different groups. One group holds our numerica data. The next deals with categorical columns that have less than 25 unique vales. FInally, out last column deals with any categorical columns that have 25 or more unique values. "
   ]
  },
  {
   "cell_type": "code",
   "execution_count": 159,
   "metadata": {
    "scrolled": true
   },
   "outputs": [],
   "source": [
    "#Lists to hold column names\n",
    "num_cols = []\n",
    "sm_cat_cols = []\n",
    "lg_cat_cols = []\n",
    "\n",
    "for c in X.columns:\n",
    "    if X[c].dtype in ['float64', 'int64']:\n",
    "        num_cols.append(c)\n",
    "    elif X[c].nunique() < 25:\n",
    "        sm_cat_cols.append(c)\n",
    "    else:\n",
    "        lg_cat_cols.append(c)"
   ]
  },
  {
   "cell_type": "markdown",
   "metadata": {},
   "source": [
    "Our deliverable to our stakeholders is the final model. With this in consideration, we decided to separate off a holdout set of values before modeling to use on our best model. After this first separation we proceed with a traditional train test split."
   ]
  },
  {
   "cell_type": "code",
   "execution_count": 104,
   "metadata": {},
   "outputs": [],
   "source": [
    "#First holdout set\n",
    "X_train, X_holdout, y_train, y_holdout = train_test_split(X, y,\n",
    "                                                          test_size = .10, random_state = 396)\n",
    "#Performing train test split on the remaining data\n",
    "X_train, X_test, y_train, y_test = train_test_split(X_train, y_train,\n",
    "                                                    test_size = .25, random_state = 396)"
   ]
  },
  {
   "cell_type": "code",
   "execution_count": 106,
   "metadata": {},
   "outputs": [],
   "source": [
    "def evaluate(estimator, X_tr, X_te, y_tr, y_te, cv=5, grid_search=False):\n",
    "    '''\n",
    "Function takes in evaluator, training data, and test data and returns the accuracy, precision, recall, f1, \n",
    "and the ROC-AUC scores for the model.  If ‘cv’ parameter is set to “True”,  \n",
    "the function will perform cross-evaluation on model. \n",
    "If ‘cv’ parameter is set to “True” then a confusion matrix plot will not be generated. \n",
    "\n",
    "Based off of Lindsey Berlin’s evaluate function found at: \n",
    "https://github.com/lindseyberlin/Cat-in-the-Dat-Project/blob/main/notebooks/Lindsey/EDA-Initial-Models.ipynb\n",
    "------------------------------------------------------------------------------------------\n",
    "Inputs: \n",
    "-Estimator - Estimator object  \n",
    "-X_tr – X_train dataframe\n",
    "-X_te – X_test dataframe\n",
    "-Y_tr – y_train dataframe\n",
    "-Y_te – y_test dataframe\n",
    "-Cross_val – Boolean value indicating whether to perform cross validation using the estimator, defaults to True\n",
    "-Cv – If cross_val  set to true this determines the cross-validation splitting strategy.  Takes in all value options for sklearn.model_selection_cross_val_score “cv” parameter:\n",
    "        -None, to use the default 5-fold cross validation,\n",
    "        -int, to specify the number of folds in a (Stratified)KFold,\n",
    "        -CV splitter,\n",
    "        -An iterable yielding (train, test) splits as arrays of indices\n",
    "\n",
    "Returns – nothing is returned \n",
    "\n",
    "    '''\n",
    "    if grid_search == False:\n",
    "        # Cross-Validate\n",
    "        output = cross_validate(estimator, X_tr, y_tr, cv=cv,\n",
    "                                scoring=['accuracy', 'precision','recall', 'f1', 'roc_auc'])\n",
    "        print('Results of Cross-Validation:\\n')\n",
    "        print(f'Average accuracy: {output[\"test_accuracy\"].mean()}\\\n",
    "        +/- {output[\"test_accuracy\"].std()}')\n",
    "        print(f'Average precision: {output[\"test_precision\"].mean()}\\\n",
    "        +/- {output[\"test_precision\"].std()}')\n",
    "        print(f'**Average recall: {output[\"test_recall\"].mean()}\\\n",
    "        +/- {output[\"test_recall\"].std()}')\n",
    "        print(f'Average f1 score: {output[\"test_f1\"].mean()}\\\n",
    "        +/- {output[\"test_f1\"].std()}')\n",
    "        print(f'Average roc_auc: {output[\"test_roc_auc\"].mean()}\\\n",
    "        +/- {output[\"test_roc_auc\"].std()}\\n')\n",
    "        print('+'*20)\n",
    "    \n",
    "        # Test Validate\n",
    "        estimator.fit(X_tr, y_tr)\n",
    "        tr_preds = estimator.predict(X_tr)\n",
    "        te_preds = estimator.predict(X_te)\n",
    "        categories = ['Functional', 'Non-Functional']\n",
    "        print('\\nResults of Train-Test Split Validation:')\n",
    "        plot_confusion_matrix(estimator, X_te, y_te, display_labels= categories,\n",
    "                              cmap='mako')\n",
    "        print(\"\\nTraining Scores:\")\n",
    "        print(f\"Train accuracy: {accuracy_score(y_tr, tr_preds)}\")\n",
    "        print(f\"Train precision: {precision_score(y_tr, tr_preds)}\")\n",
    "        print(f\"**Train recall: {recall_score(y_tr, tr_preds)}\")\n",
    "        print(f\"Train f1 score: {f1_score(y_tr, tr_preds)}\")\n",
    "        print(f\"Train roc_auc: {roc_auc_score(y_tr, tr_preds)}\\n\")\n",
    "        print(\"<>\"*10)\n",
    "        print(\"\\nTesting Scores:\")\n",
    "        print(f\"Test accuracy: {accuracy_score(y_te, te_preds)}\")\n",
    "        print(f\"Test precision: {precision_score(y_te, te_preds)}\")\n",
    "        print(f\"**Test recall: {recall_score(y_te, te_preds)}\")\n",
    "        print(f\"Test f1 score: {f1_score(y_te, te_preds)}\")\n",
    "        print(f\"Test roc_auc: {roc_auc_score(y_te, te_preds)}\")\n",
    "    \n",
    "    else:\n",
    "        estimator.fit(X_tr, y_tr)\n",
    "        tr_preds = estimator.predict(X_tr)\n",
    "        te_preds = estimator.predict(X_te)\n",
    "        categories = ['Functional', 'Non-Functional']\n",
    "        print('\\nResults of Train-Test Split Validation:')\n",
    "        plot_confusion_matrix(estimator, X_te, y_te, display_labels= categories,\n",
    "                              cmap='mako')\n",
    "        print(\"\\nTraining Scores:\")\n",
    "        print(f\"Train accuracy: {accuracy_score(y_tr, tr_preds)}\")\n",
    "        print(f\"Train precision: {precision_score(y_tr, tr_preds)}\")\n",
    "        print(f\"**Train recall: {recall_score(y_tr, tr_preds)}\")\n",
    "        print(f\"Train f1 score: {f1_score(y_tr, tr_preds)}\")\n",
    "        print(f\"Train roc_auc: {roc_auc_score(y_tr, tr_preds)}\\n\")\n",
    "        print(\"<>\"*10)\n",
    "        print(\"\\nTesting Scores:\")\n",
    "        print(f\"Test accuracy: {accuracy_score(y_te, te_preds)}\")\n",
    "        print(f\"Test precision: {precision_score(y_te, te_preds)}\")\n",
    "        print(f\"**Test recall: {recall_score(y_te, te_preds)}\")\n",
    "        print(f\"Test f1 score: {f1_score(y_te, te_preds)}\")\n",
    "        print(f\"Test roc_auc: {roc_auc_score(y_te, te_preds)}\")"
   ]
  },
  {
   "cell_type": "markdown",
   "metadata": {},
   "source": [
    "### Preprocessing\n",
    "\n",
    "**NUMERIC COLUMNS**\n",
    "\n",
    "- (Prob not) Create new t/f columns for construction year and population\n",
    "- IterativeImputer\n",
    "    - construction year - 0 doesn't make sense -> nan\n",
    "    - lat/long 'hidden nans' \n",
    "- MinMaxScaler - doesn't assume normal distribution\n",
    "\n",
    "**CATEGORICAL COLUMNS**\n",
    "- \"Unknown\" becomes separate category\n",
    "- OHE for small\n",
    "- CountEncoder for large¶\n",
    "\n"
   ]
  },
  {
   "cell_type": "markdown",
   "metadata": {},
   "source": [
    "Our first step in our modeling process is to set up some pipelines to deal with our data. "
   ]
  },
  {
   "cell_type": "code",
   "execution_count": 107,
   "metadata": {},
   "outputs": [],
   "source": [
    "# creating Pipelines for each column type:\n",
    "# numeric, categorical with under 25 categories, categorical with over 25 categories\n",
    "\n",
    "num_col_pipe = Pipeline(steps = [\n",
    "    ('ii', IterativeImputer(random_state=396, add_indicator=True)),\n",
    "    ('mm', MinMaxScaler())\n",
    "])\n",
    "\n",
    "sm_cat_col_pipe = Pipeline(steps = [\n",
    "    ('ohe', OneHotEncoder(handle_unknown = 'indicator'))\n",
    "])\n",
    "\n",
    "lg_cat_col_pipe = Pipeline(steps = [\n",
    "    ('count', CountEncoder(min_group_size=10, min_group_name='Other'))\n",
    "])\n",
    "\n",
    "all_cat_col_pipe = Pipeline(steps = [\n",
    "    ('catboost', CatBoostEncoder(random_state=396))\n",
    "])"
   ]
  },
  {
   "cell_type": "code",
   "execution_count": 108,
   "metadata": {},
   "outputs": [],
   "source": [
    "preprocessor1 = ColumnTransformer(transformers=[\n",
    "    ('numeric', num_col_pipe, num_cols),\n",
    "    ('small_cat', sm_cat_col_pipe, sm_cat_cols),\n",
    "    ('large_cat', lg_cat_col_pipe, lg_cat_cols )\n",
    "])\n",
    "\n",
    "preprocessor2 = ColumnTransformer(transformers=[\n",
    "    ('numeric', num_col_pipe, num_cols),\n",
    "    ('cat', all_cat_col_pipe, [*sm_cat_cols, *lg_cat_cols]),\n",
    "])"
   ]
  },
  {
   "cell_type": "markdown",
   "metadata": {},
   "source": [
    "## Stupid Dummy Idiot Model"
   ]
  },
  {
   "cell_type": "code",
   "execution_count": 109,
   "metadata": {},
   "outputs": [
    {
     "name": "stderr",
     "output_type": "stream",
     "text": [
      "C:\\Users\\Jenny\\anaconda3.1\\envs\\learn-env\\lib\\site-packages\\sklearn\\metrics\\_classification.py:1221: UndefinedMetricWarning: Precision is ill-defined and being set to 0.0 due to no predicted samples. Use `zero_division` parameter to control this behavior.\n",
      "  _warn_prf(average, modifier, msg_start, len(result))\n",
      "C:\\Users\\Jenny\\anaconda3.1\\envs\\learn-env\\lib\\site-packages\\sklearn\\metrics\\_classification.py:1221: UndefinedMetricWarning: Precision is ill-defined and being set to 0.0 due to no predicted samples. Use `zero_division` parameter to control this behavior.\n",
      "  _warn_prf(average, modifier, msg_start, len(result))\n",
      "C:\\Users\\Jenny\\anaconda3.1\\envs\\learn-env\\lib\\site-packages\\sklearn\\metrics\\_classification.py:1221: UndefinedMetricWarning: Precision is ill-defined and being set to 0.0 due to no predicted samples. Use `zero_division` parameter to control this behavior.\n",
      "  _warn_prf(average, modifier, msg_start, len(result))\n",
      "C:\\Users\\Jenny\\anaconda3.1\\envs\\learn-env\\lib\\site-packages\\sklearn\\metrics\\_classification.py:1221: UndefinedMetricWarning: Precision is ill-defined and being set to 0.0 due to no predicted samples. Use `zero_division` parameter to control this behavior.\n",
      "  _warn_prf(average, modifier, msg_start, len(result))\n",
      "C:\\Users\\Jenny\\anaconda3.1\\envs\\learn-env\\lib\\site-packages\\sklearn\\metrics\\_classification.py:1221: UndefinedMetricWarning: Precision is ill-defined and being set to 0.0 due to no predicted samples. Use `zero_division` parameter to control this behavior.\n",
      "  _warn_prf(average, modifier, msg_start, len(result))\n"
     ]
    },
    {
     "name": "stdout",
     "output_type": "stream",
     "text": [
      "Results of Cross-Validation:\n",
      "\n",
      "Average accuracy: 0.5431494883953081        +/- 4.9912652857475586e-05\n",
      "Average precision: 0.0        +/- 0.0\n",
      "**Average recall: 0.0        +/- 0.0\n",
      "Average f1 score: 0.0        +/- 0.0\n",
      "Average roc_auc: 0.5        +/- 0.0\n",
      "\n",
      "++++++++++++++++++++\n",
      "\n",
      "Results of Train-Test Split Validation:\n",
      "\n",
      "Training Scores:\n",
      "Train accuracy: 0.5431494883953082\n",
      "Train precision: 0.0\n",
      "**Train recall: 0.0\n",
      "Train f1 score: 0.0\n",
      "Train roc_auc: 0.5\n",
      "\n",
      "<><><><><><><><><><>\n",
      "\n",
      "Testing Scores:\n",
      "Test accuracy: 0.5414389458710789\n",
      "Test precision: 0.0\n",
      "**Test recall: 0.0\n",
      "Test f1 score: 0.0\n",
      "Test roc_auc: 0.5\n"
     ]
    },
    {
     "name": "stderr",
     "output_type": "stream",
     "text": [
      "C:\\Users\\Jenny\\anaconda3.1\\envs\\learn-env\\lib\\site-packages\\sklearn\\metrics\\_classification.py:1221: UndefinedMetricWarning: Precision is ill-defined and being set to 0.0 due to no predicted samples. Use `zero_division` parameter to control this behavior.\n",
      "  _warn_prf(average, modifier, msg_start, len(result))\n",
      "C:\\Users\\Jenny\\anaconda3.1\\envs\\learn-env\\lib\\site-packages\\sklearn\\metrics\\_classification.py:1221: UndefinedMetricWarning: Precision is ill-defined and being set to 0.0 due to no predicted samples. Use `zero_division` parameter to control this behavior.\n",
      "  _warn_prf(average, modifier, msg_start, len(result))\n"
     ]
    },
    {
     "data": {
      "image/png": "[encoded data removed]",
      "text/plain": [
       "<Figure size 432x288 with 2 Axes>"
      ]
     },
     "metadata": {
      "needs_background": "light"
     },
     "output_type": "display_data"
    }
   ],
   "source": [
    "dumbdumbdumb = logreg = Pipeline(steps=[\n",
    "    ('preprocessor', preprocessor1),\n",
    "    ('classifier', DummyClassifier(strategy='most_frequent'))\n",
    "])\n",
    "\n",
    "evaluate(dumbdumbdumb, X_train, X_test, y_train, y_test, cv=5)"
   ]
  },
  {
   "cell_type": "code",
   "execution_count": 110,
   "metadata": {},
   "outputs": [
    {
     "name": "stdout",
     "output_type": "stream",
     "text": [
      "Results of Cross-Validation:\n",
      "\n",
      "Average accuracy: 0.7415273271774394        +/- 0.003431472196308592\n",
      "Average precision: 0.7825199949751209        +/- 0.005480220895394305\n",
      "**Average recall: 0.6013872738032707        +/- 0.004677557418871714\n",
      "Average f1 score: 0.6800896861477266        +/- 0.004334142966588388\n",
      "Average roc_auc: 0.8134909862383065        +/- 0.005338088336358814\n",
      "\n",
      "++++++++++++++++++++\n",
      "\n",
      "Results of Train-Test Split Validation:\n",
      "\n",
      "Training Scores:\n",
      "Train accuracy: 0.740379336161717\n",
      "Train precision: 0.7823911955977989\n",
      "**Train recall: 0.5980552824210641\n",
      "Train f1 score: 0.6779157249450447\n",
      "Train roc_auc: 0.7290726696979425\n",
      "\n",
      "<><><><><><><><><><>\n",
      "\n",
      "Testing Scores:\n",
      "Test accuracy: 0.7359436999326197\n",
      "Test precision: 0.7772087067861716\n",
      "**Test recall: 0.5946122448979592\n",
      "Test f1 score: 0.6737582092313386\n",
      "Test roc_auc: 0.7251269189091566\n"
     ]
    },
    {
     "data": {
      "image/png": "[encoded data removed]",
      "text/plain": [
       "<Figure size 432x288 with 2 Axes>"
      ]
     },
     "metadata": {
      "needs_background": "light"
     },
     "output_type": "display_data"
    }
   ],
   "source": [
    "# ~2 minutes\n",
    "logreg = Pipeline(steps=[\n",
    "    ('preprocessor', preprocessor1),\n",
    "    ('classifier', LogisticRegression(random_state=396, max_iter=1000))\n",
    "])\n",
    "\n",
    "evaluate(logreg, X_train, X_test, y_train, y_test, cv=5)"
   ]
  },
  {
   "cell_type": "code",
   "execution_count": 111,
   "metadata": {},
   "outputs": [
    {
     "name": "stdout",
     "output_type": "stream",
     "text": [
      "Results of Cross-Validation:\n",
      "\n",
      "Average accuracy: 0.757025205889693        +/- 0.004205270596414361\n",
      "Average precision: 0.7306503483158818        +/- 0.006045429633321334\n",
      "**Average recall: 0.7416146039311139        +/- 0.006498050925369052\n",
      "Average f1 score: 0.7360643759690839        +/- 0.0043672121274495315\n",
      "Average roc_auc: 0.7558008377370329        +/- 0.004118197665999735\n",
      "\n",
      "++++++++++++++++++++\n",
      "\n",
      "Results of Train-Test Split Validation:\n",
      "\n",
      "Training Scores:\n",
      "Train accuracy: 1.0\n",
      "Train precision: 1.0\n",
      "**Train recall: 1.0\n",
      "Train f1 score: 1.0\n",
      "Train roc_auc: 1.0\n",
      "\n",
      "<><><><><><><><><><>\n",
      "\n",
      "Testing Scores:\n",
      "Test accuracy: 0.7545856105412893\n",
      "Test precision: 0.7305263157894737\n",
      "**Test recall: 0.7364897959183674\n",
      "Test f1 score: 0.7334959349593496\n",
      "Test roc_auc: 0.7532006501715731\n"
     ]
    },
    {
     "data": {
      "image/png": "[encoded data removed]",
      "text/plain": [
       "<Figure size 432x288 with 2 Axes>"
      ]
     },
     "metadata": {
      "needs_background": "light"
     },
     "output_type": "display_data"
    }
   ],
   "source": [
    "dt = Pipeline(steps=[\n",
    "    ('preprocessor', preprocessor1),\n",
    "    ('classifier', DecisionTreeClassifier(random_state=396))\n",
    "])\n",
    "\n",
    "evaluate(dt, X_train, X_test, y_train, y_test, cv=5)"
   ]
  },
  {
   "cell_type": "code",
   "execution_count": 112,
   "metadata": {},
   "outputs": [
    {
     "name": "stdout",
     "output_type": "stream",
     "text": [
      "Results of Cross-Validation:\n",
      "\n",
      "Average accuracy: 0.8152732717743948        +/- 0.0023299106597422107\n",
      "Average precision: 0.82439132524158        +/- 0.0042771856420080285\n",
      "**Average recall: 0.7569648997783329        +/- 0.009397070290811993\n",
      "Average f1 score: 0.7891869362345965        +/- 0.0038763126085326854\n",
      "Average roc_auc: 0.8927354780665431        +/- 0.0026139743500277843\n",
      "\n",
      "++++++++++++++++++++\n",
      "\n",
      "Results of Train-Test Split Validation:\n",
      "\n",
      "Training Scores:\n",
      "Train accuracy: 1.0\n",
      "Train precision: 1.0\n",
      "**Train recall: 1.0\n",
      "Train f1 score: 1.0\n",
      "Train roc_auc: 1.0\n",
      "\n",
      "<><><><><><><><><><>\n",
      "\n",
      "Testing Scores:\n",
      "Test accuracy: 0.8213670734446358\n",
      "Test precision: 0.831648039737449\n",
      "**Test recall: 0.7653877551020408\n",
      "Test f1 score: 0.797143342968883\n",
      "Test roc_auc: 0.8170827049846489\n"
     ]
    },
    {
     "data": {
      "image/png": "[encoded data removed]",
      "text/plain": [
       "<Figure size 432x288 with 2 Axes>"
      ]
     },
     "metadata": {
      "needs_background": "light"
     },
     "output_type": "display_data"
    }
   ],
   "source": [
    "rf1 = Pipeline(steps=[\n",
    "    ('preprocessor', preprocessor1),\n",
    "    ('classifier', RandomForestClassifier(random_state=396))\n",
    "])\n",
    "\n",
    "evaluate(rf1, X_train, X_test, y_train, y_test, cv=5)"
   ]
  },
  {
   "cell_type": "code",
   "execution_count": 113,
   "metadata": {},
   "outputs": [
    {
     "name": "stdout",
     "output_type": "stream",
     "text": [
      "Results of Cross-Validation:\n",
      "\n",
      "Average accuracy: 0.7979785375592714        +/- 0.002804673640546303\n",
      "Average precision: 0.8174167934834685        +/- 0.003822635296663712\n",
      "**Average recall: 0.7182344314158523        +/- 0.004207145368195593\n",
      "Average f1 score: 0.7646159482454393        +/- 0.003397808422977967\n",
      "Average roc_auc: 0.8758848972817003        +/- 0.003410831681977849\n",
      "\n",
      "++++++++++++++++++++\n",
      "\n",
      "Results of Train-Test Split Validation:\n",
      "\n",
      "Training Scores:\n",
      "Train accuracy: 0.8566259046668331\n",
      "Train precision: 0.8849053134767421\n",
      "**Train recall: 0.7887577843330056\n",
      "Train f1 score: 0.83406983796898\n",
      "Train roc_auc: 0.8512342496375559\n",
      "\n",
      "<><><><><><><><><><>\n",
      "\n",
      "Testing Scores:\n",
      "Test accuracy: 0.8028748970577225\n",
      "Test precision: 0.8235730170496665\n",
      "**Test recall: 0.7255510204081632\n",
      "Test f1 score: 0.7714608106935162\n",
      "Test roc_auc: 0.7969569261332852\n"
     ]
    },
    {
     "data": {
      "image/png": "[encoded data removed]",
      "text/plain": [
       "<Figure size 432x288 with 2 Axes>"
      ]
     },
     "metadata": {
      "needs_background": "light"
     },
     "output_type": "display_data"
    }
   ],
   "source": [
    "# using CatBoost Encoding\n",
    "# ~\n",
    "rf2 = Pipeline(steps=[\n",
    "    ('preprocessor2', preprocessor2),\n",
    "    ('classifier', RandomForestClassifier(random_state=396))\n",
    "])\n",
    "\n",
    "evaluate(rf2, X_train, X_test, y_train, y_test, cv=5)"
   ]
  },
  {
   "cell_type": "code",
   "execution_count": 114,
   "metadata": {},
   "outputs": [],
   "source": [
    "abdt = Pipeline(steps=[\n",
    "    ('preprocessor', preprocessor1),\n",
    "    ('classifier', AdaBoostClassifier(base_estimator=DecisionTreeClassifier(max_depth=2),\n",
    "                                      random_state=396))\n",
    "])\n",
    "\n"
   ]
  },
  {
   "cell_type": "code",
   "execution_count": 115,
   "metadata": {},
   "outputs": [],
   "source": [
    "grid = {'n_estimators': [10,20,30,50,100,200,300,400,500,1000,1500],\n",
    "        'learning_rate': [.1,.2,.3,.4,.5,.6,.7,.8,.9,1.0,1.5,2.0]\n",
    "    }"
   ]
  },
  {
   "cell_type": "code",
   "execution_count": 116,
   "metadata": {},
   "outputs": [],
   "source": [
    "abdt = Pipeline(steps=[\n",
    "    ('preprocessor', preprocessor1),\n",
    "    ('classifier', GridSearchCV(estimator=AdaBoostClassifier(), param_grid = grid, verbose = 4))\n",
    "])"
   ]
  },
  {
   "cell_type": "code",
   "execution_count": null,
   "metadata": {},
   "outputs": [],
   "source": [
    "gs_pipe = GridSearchCV(estimator=test_model_loop, param_grid=x['params'])\n",
    "gs_pipe.fit(X,y)\n",
    "print('Best Params: {}'.format(gs_pipe.best_params_))\n",
    "print('Best Score: {}'.format(gs_pipe.best_score_))"
   ]
  },
  {
   "cell_type": "code",
   "execution_count": 117,
   "metadata": {},
   "outputs": [
    {
     "name": "stdout",
     "output_type": "stream",
     "text": [
      "Results of Cross-Validation:\n",
      "\n",
      "Average accuracy: 0.7636136760668828        +/- 0.0030448763774888056\n",
      "Average precision: 0.8278196378339084        +/- 0.003975316848702932\n",
      "**Average recall: 0.6093620730474032        +/- 0.009875412739295259\n",
      "Average f1 score: 0.7019254928360223        +/- 0.0058993093766013015\n",
      "Average roc_auc: 0.8427338851299018        +/- 0.0027408639534880243\n",
      "\n",
      "++++++++++++++++++++\n",
      "\n",
      "Results of Train-Test Split Validation:\n",
      "\n",
      "Training Scores:\n",
      "Train accuracy: 0.7663339156476167\n",
      "Train precision: 0.8334203265975691\n",
      "**Train recall: 0.610564842128264\n",
      "Train f1 score: 0.7047955355172305\n",
      "Train roc_auc: 0.7539591349034998\n",
      "\n",
      "<><><><><><><><><><>\n",
      "\n",
      "Testing Scores:\n",
      "Test accuracy: 0.7629707269596466\n",
      "Test precision: 0.8297303320704257\n",
      "**Test recall: 0.6078367346938776\n",
      "Test f1 score: 0.7016584998115342\n",
      "Test roc_auc: 0.7510975708867618\n"
     ]
    },
    {
     "data": {
      "image/png": "[encoded data removed]",
      "text/plain": [
       "<Figure size 432x288 with 2 Axes>"
      ]
     },
     "metadata": {
      "needs_background": "light"
     },
     "output_type": "display_data"
    }
   ],
   "source": [
    "gbc = Pipeline(steps=[\n",
    "    ('preprocessor1', preprocessor1),\n",
    "    ('classifier', GradientBoostingClassifier())\n",
    "])\n",
    "\n",
    "evaluate(gbc, X_train, X_test, y_train, y_test, cv=5)"
   ]
  },
  {
   "cell_type": "code",
   "execution_count": 118,
   "metadata": {},
   "outputs": [
    {
     "name": "stdout",
     "output_type": "stream",
     "text": [
      "Results of Cross-Validation:\n",
      "\n",
      "Average accuracy: 0.7636136760668828        +/- 0.0030448763774888056\n",
      "Average precision: 0.8278196378339084        +/- 0.003975316848702932\n",
      "**Average recall: 0.6093620730474032        +/- 0.009875412739295259\n",
      "Average f1 score: 0.7019254928360223        +/- 0.0058993093766013015\n",
      "Average roc_auc: 0.8427322160724156        +/- 0.0027385010290350994\n",
      "\n",
      "++++++++++++++++++++\n",
      "\n",
      "Results of Train-Test Split Validation:\n",
      "\n",
      "Training Scores:\n",
      "Train accuracy: 0.7663339156476167\n",
      "Train precision: 0.8334203265975691\n",
      "**Train recall: 0.610564842128264\n",
      "Train f1 score: 0.7047955355172305\n",
      "Train roc_auc: 0.7539591349034998\n",
      "\n",
      "<><><><><><><><><><>\n",
      "\n",
      "Testing Scores:\n",
      "Test accuracy: 0.7629707269596466\n",
      "Test precision: 0.8297303320704257\n",
      "**Test recall: 0.6078367346938776\n",
      "Test f1 score: 0.7016584998115342\n",
      "Test roc_auc: 0.7510975708867618\n"
     ]
    },
    {
     "data": {
      "image/png": "[encoded data removed]",
      "text/plain": [
       "<Figure size 432x288 with 2 Axes>"
      ]
     },
     "metadata": {
      "needs_background": "light"
     },
     "output_type": "display_data"
    }
   ],
   "source": [
    "gbc2 = Pipeline(steps=[\n",
    "    ('preprocessor1', preprocessor1),\n",
    "    ('classifier', GradientBoostingClassifier(loss = 'exponential'))\n",
    "])\n",
    "\n",
    "evaluate(gbc, X_train, X_test, y_train, y_test, cv=5)"
   ]
  },
  {
   "cell_type": "code",
   "execution_count": 119,
   "metadata": {},
   "outputs": [],
   "source": [
    "ada = Pipeline(steps=[\n",
    "    ('preprocessor', preprocessor1),\n",
    "    ('classifier', AdaBoostClassifier())\n",
    "])"
   ]
  },
  {
   "cell_type": "code",
   "execution_count": 120,
   "metadata": {},
   "outputs": [],
   "source": [
    "rndfor = Pipeline(steps=[\n",
    "    ('preprocessor', preprocessor1),\n",
    "    ('classifier', RandomForestClassifier(random_state=396))\n",
    "])"
   ]
  },
  {
   "cell_type": "code",
   "execution_count": 121,
   "metadata": {},
   "outputs": [],
   "source": [
    "X_train_fix = preprocessor1.fit_transform(X_train)"
   ]
  },
  {
   "cell_type": "code",
   "execution_count": 122,
   "metadata": {},
   "outputs": [],
   "source": [
    "w_avg = VotingClassifier(estimators=[\n",
    "    ('ada', ada),\n",
    "    ('rndfor', rndfor)],\n",
    "    weights=[0.25, 0.75], voting = 'soft')\n",
    "\n"
   ]
  },
  {
   "cell_type": "code",
   "execution_count": 123,
   "metadata": {},
   "outputs": [
    {
     "data": {
      "text/plain": [
       "VotingClassifier(estimators=[('ada',\n",
       "                              Pipeline(steps=[('preprocessor',\n",
       "                                               ColumnTransformer(transformers=[('numeric',\n",
       "                                                                                Pipeline(steps=[('ii',\n",
       "                                                                                                 IterativeImputer(add_indicator=True,\n",
       "                                                                                                                  random_state=396)),\n",
       "                                                                                                ('mm',\n",
       "                                                                                                 MinMaxScaler())]),\n",
       "                                                                                ['id',\n",
       "                                                                                 'amount_tsh',\n",
       "                                                                                 'gps_height',\n",
       "                                                                                 'longitude',\n",
       "                                                                                 'latitude',\n",
       "                                                                                 'population',\n",
       "                                                                                 'construction_year']),\n",
       "                                                                               ('small_cat',\n",
       "                                                                                Pipeline(steps=[('ohe',\n",
       "                                                                                                 OneHotEncode...\n",
       "                                                                                 'management_group',\n",
       "                                                                                 'payment',\n",
       "                                                                                 'quality_group',\n",
       "                                                                                 'quantity',\n",
       "                                                                                 'source',\n",
       "                                                                                 'source_class',\n",
       "                                                                                 'waterpoint_type_group']),\n",
       "                                                                               ('large_cat',\n",
       "                                                                                Pipeline(steps=[('count',\n",
       "                                                                                                 CountEncoder(combine_min_nan_groups=True,\n",
       "                                                                                                              min_group_name='Other',\n",
       "                                                                                                              min_group_size=10))]),\n",
       "                                                                                ['funder',\n",
       "                                                                                 'installer',\n",
       "                                                                                 'lga',\n",
       "                                                                                 'ward'])])),\n",
       "                                              ('classifier',\n",
       "                                               RandomForestClassifier(random_state=396))]))],\n",
       "                 voting='soft', weights=[0.25, 0.75])"
      ]
     },
     "execution_count": 123,
     "metadata": {},
     "output_type": "execute_result"
    }
   ],
   "source": [
    "w_avg.fit(X_test, y_test)"
   ]
  },
  {
   "cell_type": "code",
   "execution_count": 124,
   "metadata": {},
   "outputs": [
    {
     "name": "stdout",
     "output_type": "stream",
     "text": [
      "Results of Cross-Validation:\n",
      "\n",
      "Average accuracy: 0.8150985774893936        +/- 0.002682543907518888\n",
      "Average precision: 0.8227747359439732        +/- 0.004185907317656219\n",
      "**Average recall: 0.7587676113121151        +/- 0.009549252654216177\n",
      "Average f1 score: 0.7894244284090602        +/- 0.004210308386576149\n",
      "Average roc_auc: 0.893114859110214        +/- 0.002597691013057002\n",
      "\n",
      "++++++++++++++++++++\n",
      "\n",
      "Results of Train-Test Split Validation:\n",
      "\n",
      "Training Scores:\n",
      "Train accuracy: 1.0\n",
      "Train precision: 1.0\n",
      "**Train recall: 1.0\n",
      "Train f1 score: 1.0\n",
      "Train roc_auc: 1.0\n",
      "\n",
      "<><><><><><><><><><>\n",
      "\n",
      "Testing Scores:\n",
      "Test accuracy: 0.8209178707793666\n",
      "Test precision: 0.8298285916239618\n",
      "**Test recall: 0.7666938775510204\n",
      "Test f1 score: 0.7970128988458927\n",
      "Test roc_auc: 0.8167678458551563\n"
     ]
    },
    {
     "data": {
      "image/png": "[encoded data removed]",
      "text/plain": [
       "<Figure size 432x288 with 2 Axes>"
      ]
     },
     "metadata": {
      "needs_background": "light"
     },
     "output_type": "display_data"
    }
   ],
   "source": [
    "evaluate(w_avg, X_train, X_test, y_train, y_test, cv=5)"
   ]
  },
  {
   "cell_type": "code",
   "execution_count": 135,
   "metadata": {},
   "outputs": [],
   "source": [
    "rndfor2 = Pipeline(steps=[\n",
    "    ('preprocessor', preprocessor1),\n",
    "    ('classifier', RandomForestClassifier(random_state=396, class_weight='balanced', criterion='entropy', max_depth=20, n_estimators=1000))\n",
    "])"
   ]
  },
  {
   "cell_type": "code",
   "execution_count": 136,
   "metadata": {},
   "outputs": [],
   "source": [
    "X_train_fix = preprocessor1.fit_transform(X_train)"
   ]
  },
  {
   "cell_type": "code",
   "execution_count": 137,
   "metadata": {},
   "outputs": [],
   "source": [
    "w_avg2 = VotingClassifier(estimators=[\n",
    "    ('ada', ada),\n",
    "    ('rndfor2', rndfor2)],\n",
    "    weights=[0.20, 0.80], voting = 'soft')"
   ]
  },
  {
   "cell_type": "code",
   "execution_count": 138,
   "metadata": {},
   "outputs": [
    {
     "data": {
      "text/plain": [
       "VotingClassifier(estimators=[('ada',\n",
       "                              Pipeline(steps=[('preprocessor',\n",
       "                                               ColumnTransformer(transformers=[('numeric',\n",
       "                                                                                Pipeline(steps=[('ii',\n",
       "                                                                                                 IterativeImputer(add_indicator=True,\n",
       "                                                                                                                  random_state=396)),\n",
       "                                                                                                ('mm',\n",
       "                                                                                                 MinMaxScaler())]),\n",
       "                                                                                ['id',\n",
       "                                                                                 'amount_tsh',\n",
       "                                                                                 'gps_height',\n",
       "                                                                                 'longitude',\n",
       "                                                                                 'latitude',\n",
       "                                                                                 'population',\n",
       "                                                                                 'construction_year']),\n",
       "                                                                               ('small_cat',\n",
       "                                                                                Pipeline(steps=[('ohe',\n",
       "                                                                                                 OneHotEncode...\n",
       "                                                                                 'waterpoint_type_group']),\n",
       "                                                                               ('large_cat',\n",
       "                                                                                Pipeline(steps=[('count',\n",
       "                                                                                                 CountEncoder(combine_min_nan_groups=True,\n",
       "                                                                                                              min_group_name='Other',\n",
       "                                                                                                              min_group_size=10))]),\n",
       "                                                                                ['funder',\n",
       "                                                                                 'installer',\n",
       "                                                                                 'lga',\n",
       "                                                                                 'ward'])])),\n",
       "                                              ('classifier',\n",
       "                                               RandomForestClassifier(class_weight='balanced',\n",
       "                                                                      criterion='entropy',\n",
       "                                                                      max_depth=20,\n",
       "                                                                      n_estimators=1000,\n",
       "                                                                      random_state=396))]))],\n",
       "                 voting='soft', weights=[0.2, 0.8])"
      ]
     },
     "execution_count": 138,
     "metadata": {},
     "output_type": "execute_result"
    }
   ],
   "source": [
    "w_avg2.fit(X_test, y_test)"
   ]
  },
  {
   "cell_type": "code",
   "execution_count": 139,
   "metadata": {},
   "outputs": [
    {
     "name": "stdout",
     "output_type": "stream",
     "text": [
      "Results of Cross-Validation:\n",
      "\n",
      "Average accuracy: 0.8195657599201398        +/- 0.0032985806731768547\n",
      "Average precision: 0.8370072768233386        +/- 0.003686886526927026\n",
      "**Average recall: 0.7513927561849844        +/- 0.008383753887224418\n",
      "Average f1 score: 0.7918612565394569        +/- 0.0046602141393743335\n",
      "Average roc_auc: 0.8978746676562913        +/- 0.0019784534669153803\n",
      "\n",
      "++++++++++++++++++++\n",
      "\n",
      "Results of Train-Test Split Validation:\n",
      "\n",
      "Training Scores:\n",
      "Train accuracy: 0.9514349887696532\n",
      "Train precision: 0.9726684386917832\n",
      "**Train recall: 0.9195345788266143\n",
      "Train f1 score: 0.9453554981466922\n",
      "Train roc_auc: 0.9489007207678375\n",
      "\n",
      "<><><><><><><><><><>\n",
      "\n",
      "Testing Scores:\n",
      "Test accuracy: 0.8201691996705847\n",
      "Test precision: 0.8361928842333394\n",
      "**Test recall: 0.7559183673469387\n",
      "Test f1 score: 0.7940318984736752\n",
      "Test roc_auc: 0.8152517721690447\n"
     ]
    },
    {
     "data": {
      "image/png": "[encoded data removed]",
      "text/plain": [
       "<Figure size 432x288 with 2 Axes>"
      ]
     },
     "metadata": {
      "needs_background": "light"
     },
     "output_type": "display_data"
    }
   ],
   "source": [
    "evaluate(w_avg2, X_train, X_test, y_train, y_test, cv=5)"
   ]
  },
  {
   "cell_type": "code",
   "execution_count": 140,
   "metadata": {},
   "outputs": [
    {
     "data": {
      "text/plain": [
       "['basin',\n",
       " 'region',\n",
       " 'scheme_management',\n",
       " 'permit',\n",
       " 'extraction_type_class',\n",
       " 'management_group',\n",
       " 'payment',\n",
       " 'quality_group',\n",
       " 'quantity',\n",
       " 'source',\n",
       " 'source_class',\n",
       " 'waterpoint_type_group']"
      ]
     },
     "execution_count": 140,
     "metadata": {},
     "output_type": "execute_result"
    }
   ],
   "source": [
    "sm_cat_cols"
   ]
  },
  {
   "cell_type": "code",
   "execution_count": 141,
   "metadata": {},
   "outputs": [
    {
     "data": {
      "text/plain": [
       "['funder', 'installer', 'lga', 'ward']"
      ]
     },
     "execution_count": 141,
     "metadata": {},
     "output_type": "execute_result"
    }
   ],
   "source": [
    "lg_cat_cols"
   ]
  },
  {
   "cell_type": "code",
   "execution_count": 142,
   "metadata": {},
   "outputs": [
    {
     "data": {
      "text/plain": [
       "['id',\n",
       " 'amount_tsh',\n",
       " 'gps_height',\n",
       " 'longitude',\n",
       " 'latitude',\n",
       " 'population',\n",
       " 'construction_year']"
      ]
     },
     "execution_count": 142,
     "metadata": {},
     "output_type": "execute_result"
    }
   ],
   "source": [
    "num_cols"
   ]
  },
  {
   "cell_type": "code",
   "execution_count": null,
   "metadata": {},
   "outputs": [],
   "source": []
  },
  {
   "cell_type": "code",
   "execution_count": null,
   "metadata": {},
   "outputs": [],
   "source": []
  },
  {
   "cell_type": "code",
   "execution_count": null,
   "metadata": {},
   "outputs": [],
   "source": [
    "test_dict = {'dec_tree':KNeighborsClassifier(), 'lr':LogisticRegression()}\n",
    "\n",
    "def basic_model_tests(X, y, test_dict):\n",
    "    '''Takes in X and y data as well as dictionary of name:test entries to run'''\n",
    "    scores = []\n",
    "    for key, value in test_dict.items():\n",
    "        test_model_loop = Pipeline(steps=[\n",
    "            (key, value)\n",
    "        ])\n",
    "        test_model_loop.fit(X, y)\n",
    "        score = test_model_loop.score(X, y)\n",
    "        scores.append({'name':key, 'type':value, 'score':score})\n",
    "    return scores"
   ]
  },
  {
   "cell_type": "code",
   "execution_count": null,
   "metadata": {},
   "outputs": [],
   "source": [
    "test_list = [{'name':'knn', 'type': KNeighborsClassifier(), 'params':{'knn__n_neighbors': [3, 5, 7], 'knn__p': [1, 2, 3]}},\n",
    "            {'name': 'lr', 'type': LogisticRegression(), 'params':{'lr__fit_intercept':[False], 'lr__C':[1, 1000, 1e12],\n",
    "                                                                  'lr__solver':['liblinear','newton-cg', 'lbfgs']}}]\n",
    "#fit_intercept=False, C= 1e12, solver='liblinear'"
   ]
  },
  {
   "cell_type": "code",
   "execution_count": null,
   "metadata": {},
   "outputs": [],
   "source": [
    "def model_tests(X, y, test_list):\n",
    "    '''Takes in X and y data as well as a list of dictionaries'''\n",
    "    scores = []\n",
    "    for x in test_list:\n",
    "        test_model_loop = Pipeline(steps=[\n",
    "            (x['name'], x['type'])\n",
    "        ])\n",
    "        test_model_loop.fit(X, y)\n",
    "#         score = test_model_loop.score(X, y)\n",
    "#         scores.append({'name':x['name'], 'type':x['type'], 'score':score})\n",
    "        \n",
    "        gs_pipe = GridSearchCV(estimator=test_model_loop, param_grid=x['params'])\n",
    "        gs_pipe.fit(X,y)\n",
    "        scores.append(gs_pipe.cv_results_)\n",
    "    return scores"
   ]
  }
 ],
 "metadata": {
  "kernelspec": {
   "display_name": "Python (learn-env)",
   "language": "python",
   "name": "learn-env"
  },
  "language_info": {
   "codemirror_mode": {
    "name": "ipython",
    "version": 3
   },
   "file_extension": ".py",
   "mimetype": "text/x-python",
   "name": "python",
   "nbconvert_exporter": "python",
   "pygments_lexer": "ipython3",
   "version": "3.8.5"
  }
 },
 "nbformat": 4,
 "nbformat_minor": 4
}
