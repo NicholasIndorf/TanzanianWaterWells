{
 "cells": [
  {
   "cell_type": "code",
   "execution_count": 37,
   "metadata": {},
   "outputs": [],
   "source": [
    "import numpy as np\n",
    "import pandas as pd\n",
    "# settings to display all columns\n",
    "pd.set_option(\"display.max_columns\", None)\n",
    "import matplotlib.pyplot as plt\n",
    "import seaborn as sns\n",
    "\n",
    "from category_encoders.count import CountEncoder\n",
    "from category_encoders.one_hot import OneHotEncoder\n",
    "\n",
    "from sklearn.compose import ColumnTransformer\n",
    "\n",
    "from sklearn.model_selection import train_test_split\n",
    "from sklearn.experimental import enable_iterative_imputer\n",
    "from sklearn.impute import IterativeImputer\n",
    "from sklearn.preprocessing import StandardScaler, MinMaxScaler\n",
    "from sklearn.pipeline import Pipeline\n",
    "from sklearn.linear_model import LogisticRegression\n",
    "from sklearn.tree import DecisionTreeClassifier\n",
    "from sklearn.ensemble import RandomForestClassifier\n",
    "from sklearn.model_selection import cross_validate\n",
    "from sklearn.metrics import accuracy_score, precision_score, recall_score, f1_score, roc_auc_score\n",
    "from sklearn.metrics import roc_auc_score, plot_confusion_matrix, plot_roc_curve\n",
    "from sklearn.model_selection import GridSearchCV"
   ]
  },
  {
   "cell_type": "code",
   "execution_count": 8,
   "metadata": {},
   "outputs": [],
   "source": [
    "df = pd.read_csv('../../data/data_cleaned.csv')"
   ]
  },
  {
   "cell_type": "code",
   "execution_count": 9,
   "metadata": {},
   "outputs": [],
   "source": [
    "X = df.drop(columns='functional')\n",
    "y = df['functional']"
   ]
  },
  {
   "cell_type": "code",
   "execution_count": 10,
   "metadata": {
    "scrolled": true
   },
   "outputs": [],
   "source": [
    "num_cols = []\n",
    "sm_cat_cols = []\n",
    "lg_cat_cols = []\n",
    "\n",
    "for c in X.columns:\n",
    "    if X[c].dtype in ['float64', 'int64']:\n",
    "        num_cols.append(c)\n",
    "    elif X[c].nunique() < 25:\n",
    "        sm_cat_cols.append(c)\n",
    "    else:\n",
    "        lg_cat_cols.append(c)"
   ]
  },
  {
   "cell_type": "code",
   "execution_count": 11,
   "metadata": {},
   "outputs": [],
   "source": [
    "X_train, X_holdout, y_train, y_holdout = train_test_split(X, y,\n",
    "                                                          test_size = .10, random_state = 396)\n",
    "X_train, X_test, y_train, y_test = train_test_split(X_train, y_train,\n",
    "                                                    test_size = .25, random_state = 396)"
   ]
  },
  {
   "cell_type": "code",
   "execution_count": 12,
   "metadata": {},
   "outputs": [
    {
     "data": {
      "text/plain": [
       "((40070, 22), (40070,), (13357, 22), (13357,), (5937, 22), (5937,))"
      ]
     },
     "execution_count": 12,
     "metadata": {},
     "output_type": "execute_result"
    }
   ],
   "source": [
    "X_train.shape, y_train.shape, X_test.shape, y_test.shape, X_holdout.shape, y_holdout.shape"
   ]
  },
  {
   "cell_type": "code",
   "execution_count": 43,
   "metadata": {},
   "outputs": [],
   "source": [
    "def evaluate(estimator, X_tr, X_te, y_tr, y_te, cross_val=True, cv=5):\n",
    "    '''\n",
    "    \n",
    "    '''\n",
    "    if cross_val == True:\n",
    "        output = cross_validate(estimator, X_tr, y_tr, cv=cv,\n",
    "                                scoring=['accuracy', 'precision','recall', 'f1', 'roc_auc'])\n",
    "\n",
    "        print(f'Average accuracy: {output[\"test_accuracy\"].mean()}\\\n",
    "        +/- {output[\"test_accuracy\"].std()}')\n",
    "        print(f'Average precision: {output[\"test_precision\"].mean()}\\\n",
    "        +/- {output[\"test_precision\"].std()}')\n",
    "        print(f'Average recall: {output[\"test_recall\"].mean()}\\\n",
    "        +/- {output[\"test_recall\"].std()}')\n",
    "        print(f'Average f1 score: {output[\"test_f1\"].mean()}\\\n",
    "        +/- {output[\"test_f1\"].std()}')\n",
    "        print(f'Average roc_auc: {output[\"test_roc_auc\"].mean()}\\\n",
    "        +/- {output[\"test_roc_auc\"].std()}')\n",
    "    \n",
    "    else:\n",
    "        estimator.fit(X_tr, y_tr)\n",
    "        tr_preds = estimator.predict(X_tr)\n",
    "        te_preds = estimator.predict(X_te)\n",
    "    \n",
    "        plot_confusion_matrix(estimator, X_te, y_te)\n",
    "    \n",
    "        print(\"Training Scores:\")\n",
    "        print(f\"Train accuracy: {accuracy_score(y_tr, tr_preds)}\")\n",
    "        print(f\"Train precision: {precision_score(y_tr, tr_preds)}\")\n",
    "        print(f\"Train recall: {recall_score(y_tr, tr_preds)}\")\n",
    "        print(f\"Train f1 score: {f1_score(y_tr, tr_preds)}\")\n",
    "        print(f\"Train roc_auc: {roc_auc_score(y_tr, tr_preds)}\")\n",
    "\n",
    "        print(\"<>\"*10)\n",
    "        print(\"Testing Scores:\")\n",
    "        print(f\"Test accuracy: {accuracy_score(y_te, te_preds)}\")\n",
    "        print(f\"Test precision: {precision_score(y_te, te_preds)}\")\n",
    "        print(f\"Test recall: {recall_score(y_te, te_preds)}\")\n",
    "        print(f\"Test f1 score: {f1_score(y_te, te_preds)}\")\n",
    "        print(f\"Test roc_auc: {roc_auc_score(y_te, te_preds)}\")"
   ]
  },
  {
   "cell_type": "markdown",
   "metadata": {},
   "source": [
    "### Pre-modeling transformations\n",
    "\n",
    "**NUMERIC COLUMNS**\n",
    "\n",
    "- (Prob not) Create new t/f columns for construction year and population\n",
    "- IterativeImputer\n",
    "    - construction year - 0 doesn't make sense -> nan\n",
    "    - lat/long 'hidden nans' \n",
    "- MinMaxScaler - doesn't assume normal distribution\n",
    "\n",
    "**CATEGORICAL COLUMNS**\n",
    "- \"Unknown\" becomes separate category\n",
    "- OHE for small\n",
    "- CountEncoder for large¶\n",
    "\n"
   ]
  },
  {
   "cell_type": "code",
   "execution_count": 14,
   "metadata": {},
   "outputs": [],
   "source": [
    "#creating Pipelines for each column type: numeric, categorical with under 10 categories, categorical with over 10 categories\n",
    "#We moved iterative imputer to numeric columns because it will only work on numerics\n",
    "\n",
    "num_col_pipe = Pipeline(steps = [\n",
    "    ('ii', IterativeImputer()),\n",
    "    ('mm', MinMaxScaler())\n",
    "    \n",
    "])\n",
    "\n",
    "sm_cat_col_pipe = Pipeline(steps = [\n",
    "    ('ohe', OneHotEncoder(handle_unknown = 'indicator'))\n",
    "])\n",
    "\n",
    "lg_cat_col_pipe = Pipeline(steps = [\n",
    "    ('count', CountEncoder(min_group_size=10, min_group_name='Other'))\n",
    "])\n",
    "\n",
    "\n"
   ]
  },
  {
   "cell_type": "markdown",
   "metadata": {},
   "source": [
    "### Important Note About IterativeImputer text\n",
    "\n",
    "This is straight up copied from : https://machinelearningmastery.com/iterative-imputation-for-missing-values-in-machine-learning/\n",
    "So if we use any of the below we need to rewrite and cite"
   ]
  },
  {
   "cell_type": "code",
   "execution_count": 19,
   "metadata": {},
   "outputs": [],
   "source": [
    "#This works!\n",
    "preprocessor = ColumnTransformer(transformers=[\n",
    "    ('numeric', num_col_pipe, num_cols),\n",
    "    ('small_cat', sm_cat_col_pipe, sm_cat_cols),\n",
    "    ('large_cat', lg_cat_col_pipe, lg_cat_cols )\n",
    "])"
   ]
  },
  {
   "cell_type": "code",
   "execution_count": 34,
   "metadata": {},
   "outputs": [
    {
     "name": "stderr",
     "output_type": "stream",
     "text": [
      "/opt/anaconda3/envs/learn-env/lib/python3.8/site-packages/sklearn/linear_model/_logistic.py:762: ConvergenceWarning: lbfgs failed to converge (status=1):\n",
      "STOP: TOTAL NO. of ITERATIONS REACHED LIMIT.\n",
      "\n",
      "Increase the number of iterations (max_iter) or scale the data as shown in:\n",
      "    https://scikit-learn.org/stable/modules/preprocessing.html\n",
      "Please also refer to the documentation for alternative solver options:\n",
      "    https://scikit-learn.org/stable/modules/linear_model.html#logistic-regression\n",
      "  n_iter_i = _check_optimize_result(\n",
      "/opt/anaconda3/envs/learn-env/lib/python3.8/site-packages/sklearn/linear_model/_logistic.py:762: ConvergenceWarning: lbfgs failed to converge (status=1):\n",
      "STOP: TOTAL NO. of ITERATIONS REACHED LIMIT.\n",
      "\n",
      "Increase the number of iterations (max_iter) or scale the data as shown in:\n",
      "    https://scikit-learn.org/stable/modules/preprocessing.html\n",
      "Please also refer to the documentation for alternative solver options:\n",
      "    https://scikit-learn.org/stable/modules/linear_model.html#logistic-regression\n",
      "  n_iter_i = _check_optimize_result(\n",
      "/opt/anaconda3/envs/learn-env/lib/python3.8/site-packages/sklearn/linear_model/_logistic.py:762: ConvergenceWarning: lbfgs failed to converge (status=1):\n",
      "STOP: TOTAL NO. of ITERATIONS REACHED LIMIT.\n",
      "\n",
      "Increase the number of iterations (max_iter) or scale the data as shown in:\n",
      "    https://scikit-learn.org/stable/modules/preprocessing.html\n",
      "Please also refer to the documentation for alternative solver options:\n",
      "    https://scikit-learn.org/stable/modules/linear_model.html#logistic-regression\n",
      "  n_iter_i = _check_optimize_result(\n",
      "/opt/anaconda3/envs/learn-env/lib/python3.8/site-packages/sklearn/linear_model/_logistic.py:762: ConvergenceWarning: lbfgs failed to converge (status=1):\n",
      "STOP: TOTAL NO. of ITERATIONS REACHED LIMIT.\n",
      "\n",
      "Increase the number of iterations (max_iter) or scale the data as shown in:\n",
      "    https://scikit-learn.org/stable/modules/preprocessing.html\n",
      "Please also refer to the documentation for alternative solver options:\n",
      "    https://scikit-learn.org/stable/modules/linear_model.html#logistic-regression\n",
      "  n_iter_i = _check_optimize_result(\n",
      "/opt/anaconda3/envs/learn-env/lib/python3.8/site-packages/sklearn/linear_model/_logistic.py:762: ConvergenceWarning: lbfgs failed to converge (status=1):\n",
      "STOP: TOTAL NO. of ITERATIONS REACHED LIMIT.\n",
      "\n",
      "Increase the number of iterations (max_iter) or scale the data as shown in:\n",
      "    https://scikit-learn.org/stable/modules/preprocessing.html\n",
      "Please also refer to the documentation for alternative solver options:\n",
      "    https://scikit-learn.org/stable/modules/linear_model.html#logistic-regression\n",
      "  n_iter_i = _check_optimize_result(\n"
     ]
    },
    {
     "name": "stdout",
     "output_type": "stream",
     "text": [
      "Average accuracy: 0.7284502121287746        +/- 0.003933611073398366\n",
      "Average precision: 0.708478154543054        +/- 0.003588671165890485\n",
      "Average recall: 0.8497517347738544        +/- 0.010523544089075361\n",
      "Average f1 score: 0.7726697389062357        +/- 0.004197640382474238\n",
      "Average roc_auc: 0.7932230357872366        +/- 0.008262167502537414\n"
     ]
    }
   ],
   "source": [
    "logreg = Pipeline(steps=[\n",
    "    ('preprocessor', preprocessor),\n",
    "    ('classifier', LogisticRegression(random_state=5))\n",
    "])\n",
    "\n",
    "evaluate(logreg, X_train, X_test, y_train, y_test, cross_val=True, cv=5)"
   ]
  },
  {
   "cell_type": "code",
   "execution_count": 35,
   "metadata": {},
   "outputs": [
    {
     "name": "stdout",
     "output_type": "stream",
     "text": [
      "Average accuracy: 0.7569004242575493        +/- 0.0033402343856459003\n",
      "Average precision: 0.7772284804972205        +/- 0.0029958045602210405\n",
      "Average recall: 0.7743978755354657        +/- 0.006319154356992929\n",
      "Average f1 score: 0.7757959639653416        +/- 0.0036122299334117648\n",
      "Average roc_auc: 0.7552476618944342        +/- 0.0032062926450818464\n"
     ]
    }
   ],
   "source": [
    "dt = Pipeline(steps=[\n",
    "    ('preprocessor', preprocessor),\n",
    "    ('classifier', DecisionTreeClassifier(random_state=5))\n",
    "])\n",
    "\n",
    "evaluate(dt, X_train, X_test, y_train, y_test, cross_val=True, cv=5)"
   ]
  },
  {
   "cell_type": "code",
   "execution_count": 38,
   "metadata": {},
   "outputs": [
    {
     "name": "stdout",
     "output_type": "stream",
     "text": [
      "Average accuracy: 0.8130771150486649        +/- 0.0036686648695082235\n",
      "Average precision: 0.8099472160281366        +/- 0.005415740673274335\n",
      "Average recall: 0.8570114022952392        +/- 0.005072842431654899\n",
      "Average f1 score: 0.83279271558281        +/- 0.003019336827775486\n",
      "Average roc_auc: 0.8918135975468038        +/- 0.002431646491144121\n"
     ]
    }
   ],
   "source": [
    "rf = Pipeline(steps=[\n",
    "    ('preprocessor', preprocessor),\n",
    "    ('classifier', RandomForestClassifier(random_state=5))\n",
    "])\n",
    "\n",
    "evaluate(rf, X_train, X_test, y_train, y_test, cross_val=True, cv=5)"
   ]
  },
  {
   "cell_type": "code",
   "execution_count": 44,
   "metadata": {},
   "outputs": [
    {
     "name": "stdout",
     "output_type": "stream",
     "text": [
      "Training Scores:\n",
      "Train accuracy: 1.0\n",
      "Train precision: 1.0\n",
      "Train recall: 1.0\n",
      "Train f1 score: 1.0\n",
      "Train roc_auc: 1.0\n",
      "<><><><><><><><><><>\n",
      "Testing Scores:\n",
      "Test accuracy: 0.8176237179007262\n",
      "Test precision: 0.8161919831223629\n",
      "Test recall: 0.8559181415929203\n",
      "Test f1 score: 0.8355831533477321\n",
      "Test roc_auc: 0.8141631524291133\n"
     ]
    },
    {
     "data": {
      "image/png": "[encoded data removed]",
      "text/plain": [
       "<Figure size 432x288 with 2 Axes>"
      ]
     },
     "metadata": {
      "needs_background": "light"
     },
     "output_type": "display_data"
    }
   ],
   "source": [
    "rf = Pipeline(steps=[\n",
    "    ('preprocessor', preprocessor),\n",
    "    ('classifier', RandomForestClassifier(random_state=5))\n",
    "])\n",
    "evaluate(rf, X_train, X_test, y_train, y_test, cross_val=False, cv=5)"
   ]
  },
  {
   "cell_type": "code",
   "execution_count": null,
   "metadata": {},
   "outputs": [],
   "source": [
    "test_dict = {'dec_tree':KNeighborsClassifier(), 'lr':LogisticRegression()}\n",
    "\n",
    "def basic_model_tests(X, y, test_dict):\n",
    "    '''Takes in X and y data as well as dictionary of name:test entries to run'''\n",
    "    scores = []\n",
    "    for key, value in test_dict.items():\n",
    "        test_model_loop = Pipeline(steps=[\n",
    "            (key, value)\n",
    "        ])\n",
    "        test_model_loop.fit(X, y)\n",
    "        score = test_model_loop.score(X, y)\n",
    "        scores.append({'name':key, 'type':value, 'score':score})\n",
    "    return scores"
   ]
  },
  {
   "cell_type": "code",
   "execution_count": null,
   "metadata": {},
   "outputs": [],
   "source": [
    "test_list = [{'name':'knn', 'type': KNeighborsClassifier(), 'params':{'knn__n_neighbors': [3, 5, 7], 'knn__p': [1, 2, 3]}},\n",
    "            {'name': 'lr', 'type': LogisticRegression(), 'params':{'lr__fit_intercept':[False], 'lr__C':[1, 1000, 1e12],\n",
    "                                                                  'lr__solver':['liblinear','newton-cg', 'lbfgs']}}]\n",
    "#fit_intercept=False, C= 1e12, solver='liblinear'"
   ]
  },
  {
   "cell_type": "code",
   "execution_count": null,
   "metadata": {},
   "outputs": [],
   "source": [
    "def model_tests(X, y, test_list):\n",
    "    '''Takes in X and y data as well as a list of dictionaries'''\n",
    "    scores = []\n",
    "    for x in test_list:\n",
    "        test_model_loop = Pipeline(steps=[\n",
    "            (x['name'], x['type'])\n",
    "        ])\n",
    "        test_model_loop.fit(X, y)\n",
    "#         score = test_model_loop.score(X, y)\n",
    "#         scores.append({'name':x['name'], 'type':x['type'], 'score':score})\n",
    "        \n",
    "        gs_pipe = GridSearchCV(estimator=test_model_loop, param_grid=x['params'])\n",
    "        gs_pipe.fit(X,y)\n",
    "        scores.append(gs_pipe.cv_results_)\n",
    "    return scores"
   ]
  }
 ],
 "metadata": {
  "kernelspec": {
   "display_name": "Python (learn-env)",
   "language": "python",
   "name": "learn-env"
  },
  "language_info": {
   "codemirror_mode": {
    "name": "ipython",
    "version": 3
   },
   "file_extension": ".py",
   "mimetype": "text/x-python",
   "name": "python",
   "nbconvert_exporter": "python",
   "pygments_lexer": "ipython3",
   "version": "3.8.5"
  }
 },
 "nbformat": 4,
 "nbformat_minor": 4
}
