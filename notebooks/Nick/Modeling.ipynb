{
 "cells": [
  {
   "cell_type": "code",
   "execution_count": 148,
   "metadata": {},
   "outputs": [],
   "source": [
    "import numpy as np\n",
    "import pandas as pd\n",
    "# settings to display all columns\n",
    "pd.set_option(\"display.max_columns\", None)\n",
    "import matplotlib.pyplot as plt\n",
    "import seaborn as sns\n",
    "\n",
    "from category_encoders.count import CountEncoder\n",
    "from category_encoders.one_hot import OneHotEncoder\n",
    "from category_encoders.leave_one_out import LeaveOneOutEncoder\n",
    "from category_encoders.cat_boost import CatBoostEncoder\n",
    "\n",
    "from sklearn.compose import ColumnTransformer\n",
    "\n",
    "from sklearn.model_selection import train_test_split\n",
    "from sklearn.experimental import enable_iterative_imputer\n",
    "from sklearn.impute import IterativeImputer\n",
    "from sklearn.preprocessing import StandardScaler, MinMaxScaler\n",
    "from sklearn.pipeline import Pipeline\n",
    "from sklearn.dummy import DummyClassifier\n",
    "from sklearn.linear_model import LogisticRegression\n",
    "from sklearn.tree import DecisionTreeClassifier\n",
    "from sklearn.ensemble import RandomForestClassifier, AdaBoostClassifier, GradientBoostingClassifier\n",
    "from sklearn.model_selection import cross_validate\n",
    "from sklearn.metrics import accuracy_score, precision_score, recall_score, f1_score, roc_auc_score\n",
    "from sklearn.metrics import roc_auc_score, plot_confusion_matrix, plot_roc_curve\n",
    "from sklearn.model_selection import GridSearchCV"
   ]
  },
  {
   "cell_type": "code",
   "execution_count": 80,
   "metadata": {},
   "outputs": [],
   "source": [
    "df = pd.read_csv('../../data/data_cleaned.csv')"
   ]
  },
  {
   "cell_type": "code",
   "execution_count": 81,
   "metadata": {},
   "outputs": [],
   "source": [
    "X = df.drop(columns='non_functional')\n",
    "y = df['non_functional']"
   ]
  },
  {
   "cell_type": "code",
   "execution_count": 82,
   "metadata": {
    "scrolled": true
   },
   "outputs": [],
   "source": [
    "num_cols = []\n",
    "sm_cat_cols = []\n",
    "lg_cat_cols = []\n",
    "\n",
    "for c in X.columns:\n",
    "    if X[c].dtype in ['float64', 'int64']:\n",
    "        num_cols.append(c)\n",
    "    elif X[c].nunique() < 25:\n",
    "        sm_cat_cols.append(c)\n",
    "    else:\n",
    "        lg_cat_cols.append(c)"
   ]
  },
  {
   "cell_type": "code",
   "execution_count": 83,
   "metadata": {},
   "outputs": [],
   "source": [
    "X_train, X_holdout, y_train, y_holdout = train_test_split(X, y,\n",
    "                                                          test_size = .10, random_state = 396)\n",
    "X_train, X_test, y_train, y_test = train_test_split(X_train, y_train,\n",
    "                                                    test_size = .25, random_state = 396)"
   ]
  },
  {
   "cell_type": "code",
   "execution_count": 84,
   "metadata": {},
   "outputs": [
    {
     "data": {
      "text/plain": [
       "((40070, 22), (40070,), (13357, 22), (13357,), (5937, 22), (5937,))"
      ]
     },
     "execution_count": 84,
     "metadata": {},
     "output_type": "execute_result"
    }
   ],
   "source": [
    "X_train.shape, y_train.shape, X_test.shape, y_test.shape, X_holdout.shape, y_holdout.shape"
   ]
  },
  {
   "cell_type": "code",
   "execution_count": 137,
   "metadata": {},
   "outputs": [],
   "source": [
    "def evaluate(estimator, X_tr, X_te, y_tr, y_te, cv=5, grid_search=False):\n",
    "    '''\n",
    "    \n",
    "    '''\n",
    "    if grid_search == False:\n",
    "        # Cross-Validate\n",
    "        output = cross_validate(estimator, X_tr, y_tr, cv=cv,\n",
    "                                scoring=['accuracy', 'precision','recall', 'f1', 'roc_auc'])\n",
    "\n",
    "        print('Results of Cross-Validation:\\n')\n",
    "        print(f'Average accuracy: {output[\"test_accuracy\"].mean()}\\\n",
    "        +/- {output[\"test_accuracy\"].std()}')\n",
    "        print(f'Average precision: {output[\"test_precision\"].mean()}\\\n",
    "        +/- {output[\"test_precision\"].std()}')\n",
    "        print(f'**Average recall: {output[\"test_recall\"].mean()}\\\n",
    "        +/- {output[\"test_recall\"].std()}')\n",
    "        print(f'Average f1 score: {output[\"test_f1\"].mean()}\\\n",
    "        +/- {output[\"test_f1\"].std()}')\n",
    "        print(f'Average roc_auc: {output[\"test_roc_auc\"].mean()}\\\n",
    "        +/- {output[\"test_roc_auc\"].std()}\\n')\n",
    "        print('+'*20)\n",
    "    \n",
    "        # Test Validate\n",
    "        estimator.fit(X_tr, y_tr)\n",
    "        tr_preds = estimator.predict(X_tr)\n",
    "        te_preds = estimator.predict(X_te)\n",
    "\n",
    "        categories = ['Functional', 'Non-Functional']\n",
    "        print('\\nResults of Train-Test Split Validation:')\n",
    "\n",
    "        plot_confusion_matrix(estimator, X_te, y_te, display_labels= categories,\n",
    "                              cmap='mako')\n",
    "\n",
    "        print(\"\\nTraining Scores:\")\n",
    "        print(f\"Train accuracy: {accuracy_score(y_tr, tr_preds)}\")\n",
    "        print(f\"Train precision: {precision_score(y_tr, tr_preds)}\")\n",
    "        print(f\"**Train recall: {recall_score(y_tr, tr_preds)}\")\n",
    "        print(f\"Train f1 score: {f1_score(y_tr, tr_preds)}\")\n",
    "        print(f\"Train roc_auc: {roc_auc_score(y_tr, tr_preds)}\\n\")\n",
    "\n",
    "        print(\"<>\"*10)\n",
    "        print(\"\\nTesting Scores:\")\n",
    "        print(f\"Test accuracy: {accuracy_score(y_te, te_preds)}\")\n",
    "        print(f\"Test precision: {precision_score(y_te, te_preds)}\")\n",
    "        print(f\"**Test recall: {recall_score(y_te, te_preds)}\")\n",
    "        print(f\"Test f1 score: {f1_score(y_te, te_preds)}\")\n",
    "        print(f\"Test roc_auc: {roc_auc_score(y_te, te_preds)}\")\n",
    "    \n",
    "    else:\n",
    "        # Grid Search functionality\n",
    "        estimator.fit(X_tr, y_tr)\n",
    "        tr_preds = estimator.predict(X_tr)\n",
    "        te_preds = estimator.predict(X_te)\n",
    "        \n",
    "        categories = ['Functional', 'Non-Functional']\n",
    "        print('\\nResults of Grid Search Train-Test Split Validation:')\n",
    "\n",
    "        plot_confusion_matrix(estimator, X_te, y_te, display_labels= categories,\n",
    "                              cmap='mako')\n",
    "\n",
    "        print(\"\\nTraining Scores:\")\n",
    "        print(f\"Train accuracy: {accuracy_score(y_tr, tr_preds)}\")\n",
    "        print(f\"Train precision: {precision_score(y_tr, tr_preds)}\")\n",
    "        print(f\"**Train recall: {recall_score(y_tr, tr_preds)}\")\n",
    "        print(f\"Train f1 score: {f1_score(y_tr, tr_preds)}\")\n",
    "        print(f\"Train roc_auc: {roc_auc_score(y_tr, tr_preds)}\\n\")\n",
    "\n",
    "        print(\"<>\"*10)\n",
    "        print(\"\\nTesting Scores:\")\n",
    "        print(f\"Test accuracy: {accuracy_score(y_te, te_preds)}\")\n",
    "        print(f\"Test precision: {precision_score(y_te, te_preds)}\")\n",
    "        print(f\"**Test recall: {recall_score(y_te, te_preds)}\")\n",
    "        print(f\"Test f1 score: {f1_score(y_te, te_preds)}\")\n",
    "        print(f\"Test roc_auc: {roc_auc_score(y_te, te_preds)}\")\n",
    "        \n",
    "        print('\\nGrid Search Results (you animal):\\n')\n",
    "        return pd.DataFrame(estimator.cv_results_)"
   ]
  },
  {
   "cell_type": "markdown",
   "metadata": {},
   "source": [
    "### Preprocessing\n",
    "\n",
    "**NUMERIC COLUMNS**\n",
    "\n",
    "- (Prob not) Create new t/f columns for construction year and population\n",
    "- IterativeImputer\n",
    "    - construction year - 0 doesn't make sense -> nan\n",
    "    - lat/long 'hidden nans' \n",
    "- MinMaxScaler - doesn't assume normal distribution\n",
    "\n",
    "**CATEGORICAL COLUMNS**\n",
    "- \"Unknown\" becomes separate category\n",
    "- OHE for small\n",
    "- CountEncoder for large¶\n",
    "\n"
   ]
  },
  {
   "cell_type": "code",
   "execution_count": 187,
   "metadata": {},
   "outputs": [],
   "source": [
    "# creating Pipelines for each column type:\n",
    "# numeric, categorical with under 25 categories, categorical with over 25 categories\n",
    "\n",
    "num_col_pipe = Pipeline(steps = [\n",
    "    ('ii', IterativeImputer(random_state=396, add_indicator=True)),\n",
    "    ('mm', MinMaxScaler())\n",
    "])\n",
    "\n",
    "sm_cat_col_pipe = Pipeline(steps = [\n",
    "    ('ohe', OneHotEncoder(handle_unknown = 'indicator'))\n",
    "])\n",
    "\n",
    "lg_cat_col_pipe = Pipeline(steps = [\n",
    "    ('count', CountEncoder(min_group_size=10, min_group_name='Other'))\n",
    "])\n",
    "\n",
    "all_cat_col_pipe = Pipeline(steps = [\n",
    "    ('catboost', CatBoostEncoder(random_state=396))\n",
    "])"
   ]
  },
  {
   "cell_type": "code",
   "execution_count": 188,
   "metadata": {},
   "outputs": [],
   "source": [
    "preprocessor = ColumnTransformer(transformers=[\n",
    "    ('numeric', num_col_pipe, num_cols),\n",
    "    ('small_cat', sm_cat_col_pipe, sm_cat_cols),\n",
    "    ('large_cat', lg_cat_col_pipe, lg_cat_cols )\n",
    "])\n",
    "\n",
    "preprocessor2 = ColumnTransformer(transformers=[\n",
    "    ('numeric', num_col_pipe, num_cols),\n",
    "    ('cat', all_cat_col_pipe, [*sm_cat_cols, *lg_cat_cols])\n",
    "])"
   ]
  },
  {
   "cell_type": "markdown",
   "metadata": {},
   "source": [
    "## Stupid Dummy Idiot Model"
   ]
  },
  {
   "cell_type": "code",
   "execution_count": 120,
   "metadata": {},
   "outputs": [
    {
     "name": "stderr",
     "output_type": "stream",
     "text": [
      "/opt/anaconda3/envs/learn-env/lib/python3.8/site-packages/sklearn/metrics/_classification.py:1221: UndefinedMetricWarning: Precision is ill-defined and being set to 0.0 due to no predicted samples. Use `zero_division` parameter to control this behavior.\n",
      "  _warn_prf(average, modifier, msg_start, len(result))\n",
      "/opt/anaconda3/envs/learn-env/lib/python3.8/site-packages/sklearn/metrics/_classification.py:1221: UndefinedMetricWarning: Precision is ill-defined and being set to 0.0 due to no predicted samples. Use `zero_division` parameter to control this behavior.\n",
      "  _warn_prf(average, modifier, msg_start, len(result))\n",
      "/opt/anaconda3/envs/learn-env/lib/python3.8/site-packages/sklearn/metrics/_classification.py:1221: UndefinedMetricWarning: Precision is ill-defined and being set to 0.0 due to no predicted samples. Use `zero_division` parameter to control this behavior.\n",
      "  _warn_prf(average, modifier, msg_start, len(result))\n",
      "/opt/anaconda3/envs/learn-env/lib/python3.8/site-packages/sklearn/metrics/_classification.py:1221: UndefinedMetricWarning: Precision is ill-defined and being set to 0.0 due to no predicted samples. Use `zero_division` parameter to control this behavior.\n",
      "  _warn_prf(average, modifier, msg_start, len(result))\n",
      "/opt/anaconda3/envs/learn-env/lib/python3.8/site-packages/sklearn/metrics/_classification.py:1221: UndefinedMetricWarning: Precision is ill-defined and being set to 0.0 due to no predicted samples. Use `zero_division` parameter to control this behavior.\n",
      "  _warn_prf(average, modifier, msg_start, len(result))\n"
     ]
    },
    {
     "name": "stdout",
     "output_type": "stream",
     "text": [
      "Results of Cross-Validation:\n",
      "\n",
      "Average accuracy: 0.5431494883953081    +/- 4.9912652857475586e-05\n",
      "Average precision: 0.0    +/- 0.0\n",
      "**Average recall: 0.0    +/- 0.0\n",
      "Average f1 score: 0.0    +/- 0.0\n",
      "Average roc_auc: 0.5    +/- 0.0\n",
      "\n",
      "++++++++++++++++++++\n",
      "\n",
      "Results of Train-Test Split Validation:\n",
      "\n",
      "Training Scores:\n",
      "Train accuracy: 0.5431494883953082\n",
      "Train precision: 0.0\n",
      "**Train recall: 0.0\n",
      "Train f1 score: 0.0\n"
     ]
    },
    {
     "name": "stderr",
     "output_type": "stream",
     "text": [
      "/opt/anaconda3/envs/learn-env/lib/python3.8/site-packages/sklearn/metrics/_classification.py:1221: UndefinedMetricWarning: Precision is ill-defined and being set to 0.0 due to no predicted samples. Use `zero_division` parameter to control this behavior.\n",
      "  _warn_prf(average, modifier, msg_start, len(result))\n"
     ]
    },
    {
     "name": "stdout",
     "output_type": "stream",
     "text": [
      "Train roc_auc: 0.5\n",
      "\n",
      "<><><><><><><><><><>\n",
      "\n",
      "Testing Scores:\n",
      "Test accuracy: 0.5414389458710789\n",
      "Test precision: 0.0\n",
      "**Test recall: 0.0\n"
     ]
    },
    {
     "name": "stderr",
     "output_type": "stream",
     "text": [
      "/opt/anaconda3/envs/learn-env/lib/python3.8/site-packages/sklearn/metrics/_classification.py:1221: UndefinedMetricWarning: Precision is ill-defined and being set to 0.0 due to no predicted samples. Use `zero_division` parameter to control this behavior.\n",
      "  _warn_prf(average, modifier, msg_start, len(result))\n"
     ]
    },
    {
     "name": "stdout",
     "output_type": "stream",
     "text": [
      "Test f1 score: 0.0\n",
      "Test roc_auc: 0.5\n"
     ]
    },
    {
     "data": {
      "image/png": "[encoded data removed]",
      "text/plain": [
       "<Figure size 432x288 with 2 Axes>"
      ]
     },
     "metadata": {
      "needs_background": "light"
     },
     "output_type": "display_data"
    }
   ],
   "source": [
    "dumbdumbdumb = logreg = Pipeline(steps=[\n",
    "    ('preprocessor', preprocessor),\n",
    "    ('classifier', DummyClassifier(strategy='most_frequent'))\n",
    "])\n",
    "\n",
    "evaluate(dumbdumbdumb, X_train, X_test, y_train, y_test, cv=5)"
   ]
  },
  {
   "cell_type": "code",
   "execution_count": 121,
   "metadata": {},
   "outputs": [
    {
     "name": "stdout",
     "output_type": "stream",
     "text": [
      "Results of Cross-Validation:\n",
      "\n",
      "Average accuracy: 0.7392063888195658    +/- 0.004427902194403162\n",
      "Average precision: 0.7799782700976967    +/- 0.0032810013117648695\n",
      "**Average recall: 0.5977812540138866    +/- 0.012305260075067815\n",
      "Average f1 score: 0.6767620981245652    +/- 0.008145521358562008\n",
      "Average roc_auc: 0.8099590590320348    +/- 0.006029401031140267\n",
      "\n",
      "++++++++++++++++++++\n",
      "\n",
      "Results of Train-Test Split Validation:\n",
      "\n",
      "Training Scores:\n",
      "Train accuracy: 0.740479161467432\n",
      "Train precision: 0.7821711512383127\n",
      "**Train recall: 0.598656178302196\n",
      "Train f1 score: 0.6782188940805148\n",
      "Train roc_auc: 0.7292123016120425\n",
      "\n",
      "<><><><><><><><><><>\n",
      "\n",
      "Testing Scores:\n",
      "Test accuracy: 0.7361683012652541\n",
      "Test precision: 0.7778252510147404\n",
      "**Test recall: 0.5944489795918367\n",
      "Test f1 score: 0.6738848787710531\n",
      "Test roc_auc: 0.7253218349286618\n"
     ]
    },
    {
     "data": {
      "image/png": "[encoded data removed]",
      "text/plain": [
       "<Figure size 432x288 with 2 Axes>"
      ]
     },
     "metadata": {
      "needs_background": "light"
     },
     "output_type": "display_data"
    }
   ],
   "source": [
    "# ~2 minutes\n",
    "logreg = Pipeline(steps=[\n",
    "    ('preprocessor', preprocessor),\n",
    "    ('classifier', LogisticRegression(random_state=396, max_iter=1000))\n",
    "])\n",
    "\n",
    "evaluate(logreg, X_train, X_test, y_train, y_test, cv=5)"
   ]
  },
  {
   "cell_type": "code",
   "execution_count": 122,
   "metadata": {},
   "outputs": [
    {
     "name": "stdout",
     "output_type": "stream",
     "text": [
      "Results of Cross-Validation:\n",
      "\n",
      "Average accuracy: 0.7577738956825555    +/- 0.004950167713787846\n",
      "Average precision: 0.7337410630172154    +/- 0.007248368655924911\n",
      "**Average recall: 0.7375178251995923    +/- 0.00692682111960049\n",
      "Average f1 score: 0.7355908708403478    +/- 0.005007315350745493\n",
      "Average roc_auc: 0.7561646360021826    +/- 0.0048085443604879465\n",
      "\n",
      "++++++++++++++++++++\n",
      "\n",
      "Results of Train-Test Split Validation:\n",
      "\n",
      "Training Scores:\n",
      "Train accuracy: 1.0\n",
      "Train precision: 1.0\n",
      "**Train recall: 1.0\n",
      "Train f1 score: 1.0\n",
      "Train roc_auc: 1.0\n",
      "\n",
      "<><><><><><><><><><>\n",
      "\n",
      "Testing Scores:\n",
      "Test accuracy: 0.7583289660851987\n",
      "Test precision: 0.734726948630692\n",
      "**Test recall: 0.7402448979591837\n",
      "Test f1 score: 0.7374756018217308\n",
      "Test roc_auc: 0.7569449047318042\n"
     ]
    },
    {
     "data": {
      "image/png": "[encoded data removed]",
      "text/plain": [
       "<Figure size 432x288 with 2 Axes>"
      ]
     },
     "metadata": {
      "needs_background": "light"
     },
     "output_type": "display_data"
    }
   ],
   "source": [
    "dt = Pipeline(steps=[\n",
    "    ('preprocessor', preprocessor),\n",
    "    ('classifier', DecisionTreeClassifier(random_state=396))\n",
    "])\n",
    "\n",
    "evaluate(dt, X_train, X_test, y_train, y_test, cv=5)"
   ]
  },
  {
   "cell_type": "code",
   "execution_count": 123,
   "metadata": {},
   "outputs": [
    {
     "name": "stdout",
     "output_type": "stream",
     "text": [
      "Results of Cross-Validation:\n",
      "\n",
      "Average accuracy: 0.8142001497379585    +/- 0.005237262147072506\n",
      "Average precision: 0.822432297441831    +/- 0.008215468603354167\n",
      "**Average recall: 0.7568010101306955    +/- 0.009703850381972872\n",
      "Average f1 score: 0.7881972882154242    +/- 0.006201610985087064\n",
      "Average roc_auc: 0.8916793348325548    +/- 0.0030553141410370947\n",
      "\n",
      "++++++++++++++++++++\n",
      "\n",
      "Results of Train-Test Split Validation:\n",
      "\n",
      "Training Scores:\n",
      "Train accuracy: 1.0\n",
      "Train precision: 1.0\n",
      "**Train recall: 1.0\n",
      "Train f1 score: 1.0\n",
      "Train roc_auc: 1.0\n",
      "\n",
      "<><><><><><><><><><>\n",
      "\n",
      "Testing Scores:\n",
      "Test accuracy: 0.8179980534551171\n",
      "Test precision: 0.8255199154035954\n",
      "**Test recall: 0.764734693877551\n",
      "Test f1 score: 0.7939655903042632\n",
      "Test roc_auc: 0.8139215504785985\n"
     ]
    },
    {
     "data": {
      "image/png": "[encoded data removed]",
      "text/plain": [
       "<Figure size 432x288 with 2 Axes>"
      ]
     },
     "metadata": {
      "needs_background": "light"
     },
     "output_type": "display_data"
    }
   ],
   "source": [
    "rf1 = Pipeline(steps=[\n",
    "    ('preprocessor', preprocessor),\n",
    "    ('classifier', RandomForestClassifier(random_state=396))\n",
    "])\n",
    "\n",
    "evaluate(rf1, X_train, X_test, y_train, y_test, cv=5)"
   ]
  },
  {
   "cell_type": "code",
   "execution_count": 191,
   "metadata": {},
   "outputs": [
    {
     "name": "stdout",
     "output_type": "stream",
     "text": [
      "Results of Cross-Validation:\n",
      "\n",
      "Average accuracy: 0.7950087347142502        +/- 0.0033027319690710423\n",
      "Average precision: 0.8165740647818529        +/- 0.006102255208584517\n",
      "**Average recall: 0.711187325747905        +/- 0.01350758929460603\n",
      "Average f1 score: 0.7601282561956108        +/- 0.005975319721692122\n",
      "Average roc_auc: 0.8749427338269669        +/- 0.00417489208755837\n",
      "\n",
      "++++++++++++++++++++\n",
      "\n",
      "Results of Train-Test Split Validation:\n",
      "\n",
      "Training Scores:\n",
      "Train accuracy: 0.8505864736710756\n",
      "Train precision: 0.8840805636964519\n",
      "**Train recall: 0.7745001638806949\n",
      "Train f1 score: 0.8256704423026526\n",
      "Train roc_auc: 0.8445419400546648\n",
      "\n",
      "<><><><><><><><><><>\n",
      "\n",
      "Testing Scores:\n",
      "Test accuracy: 0.8019764917271842\n",
      "Test precision: 0.8275602409638554\n",
      "**Test recall: 0.7177142857142857\n",
      "Test f1 score: 0.7687330593687156\n",
      "Test roc_auc: 0.7955274968394438\n"
     ]
    },
    {
     "data": {
      "image/png": "[encoded data removed]",
      "text/plain": [
       "<Figure size 432x288 with 2 Axes>"
      ]
     },
     "metadata": {
      "needs_background": "light"
     },
     "output_type": "display_data"
    }
   ],
   "source": [
    "# using CatBoost Encoding\n",
    "# ~5min\n",
    "rf2 = Pipeline(steps=[\n",
    "    ('preprocessor2', preprocessor2),\n",
    "    ('classifier', RandomForestClassifier(random_state=396))\n",
    "])\n",
    "\n",
    "evaluate(rf2, X_train, X_test, y_train, y_test, cv=5)"
   ]
  },
  {
   "cell_type": "code",
   "execution_count": 192,
   "metadata": {},
   "outputs": [
    {
     "name": "stdout",
     "output_type": "stream",
     "text": [
      "Results of Cross-Validation:\n",
      "\n",
      "Average accuracy: 0.7649613176940354        +/- 0.0028351529167100066\n",
      "Average precision: 0.7878831707153426        +/- 0.0034131006821104793\n",
      "**Average recall: 0.6644268912091091        +/- 0.00773969178217303\n",
      "Average f1 score: 0.7208767982943242        +/- 0.004556990560484588\n",
      "Average roc_auc: 0.844143274177617        +/- 0.003656754615977581\n",
      "\n",
      "++++++++++++++++++++\n",
      "\n",
      "Results of Train-Test Split Validation:\n",
      "\n",
      "Training Scores:\n",
      "Train accuracy: 0.7709508360369354\n",
      "Train precision: 0.7949463616388781\n",
      "**Train recall: 0.6719654758002841\n",
      "Train f1 score: 0.7283007696862048\n",
      "Train roc_auc: 0.7630871304750364\n",
      "\n",
      "<><><><><><><><><><>\n",
      "\n",
      "Testing Scores:\n",
      "Test accuracy: 0.7648424047316014\n",
      "Test precision: 0.7870334744132359\n",
      "**Test recall: 0.6679183673469388\n",
      "Test f1 score: 0.7226000176631635\n",
      "Test roc_auc: 0.7574243385407261\n"
     ]
    },
    {
     "data": {
      "image/png": "[encoded data removed]",
      "text/plain": [
       "<Figure size 432x288 with 2 Axes>"
      ]
     },
     "metadata": {
      "needs_background": "light"
     },
     "output_type": "display_data"
    }
   ],
   "source": [
    "abdt = Pipeline(steps=[\n",
    "    ('preprocessor', preprocessor),\n",
    "    ('classifier', AdaBoostClassifier(base_estimator=DecisionTreeClassifier(max_depth=2),\n",
    "                                      random_state=396))\n",
    "])\n",
    "\n",
    "evaluate(abdt, X_train, X_test, y_train, y_test, cv=5)"
   ]
  },
  {
   "cell_type": "code",
   "execution_count": null,
   "metadata": {},
   "outputs": [],
   "source": []
  },
  {
   "cell_type": "code",
   "execution_count": 193,
   "metadata": {},
   "outputs": [
    {
     "name": "stdout",
     "output_type": "stream",
     "text": [
      "Results of Cross-Validation:\n",
      "\n",
      "Average accuracy: 0.7669328674819067        +/- 0.0018598743083490295\n",
      "Average precision: 0.8179907790428166        +/- 0.004514305204804076\n",
      "**Average recall: 0.6300666791878795        +/- 0.0034967028259974362\n",
      "Average f1 score: 0.7118197596524022        +/- 0.002227681107918844\n",
      "Average roc_auc: 0.8451416300073922        +/- 0.002349265886792094\n",
      "\n",
      "++++++++++++++++++++\n",
      "\n",
      "Results of Train-Test Split Validation:\n",
      "\n",
      "Training Scores:\n",
      "Train accuracy: 0.7793361617169953\n",
      "Train precision: 0.8331455927907632\n",
      "**Train recall: 0.646454714301322\n",
      "Train f1 score: 0.7280221470316824\n",
      "Train roc_auc: 0.7687796453329804\n",
      "\n",
      "<><><><><><><><><><>\n",
      "\n",
      "Testing Scores:\n",
      "Test accuracy: 0.7714307104888822\n",
      "Test precision: 0.8237774030354131\n",
      "**Test recall: 0.6380408163265306\n",
      "Test f1 score: 0.7191093936884718\n",
      "Test roc_auc: 0.7612217355968937\n"
     ]
    },
    {
     "data": {
      "image/png": "[encoded data removed]",
      "text/plain": [
       "<Figure size 432x288 with 2 Axes>"
      ]
     },
     "metadata": {
      "needs_background": "light"
     },
     "output_type": "display_data"
    }
   ],
   "source": [
    "# Gradient Boost\n",
    "# using CatBoost Encoding\n",
    "# ~5min\n",
    "\n",
    "gb2 = Pipeline(steps=[\n",
    "    ('preprocessor2', preprocessor2),\n",
    "    ('gbclass', GradientBoostingClassifier())\n",
    "])\n",
    "\n",
    "evaluate(gb2, X_train, X_test, y_train, y_test, cv=5, grid_search=False)"
   ]
  },
  {
   "cell_type": "code",
   "execution_count": 194,
   "metadata": {},
   "outputs": [
    {
     "name": "stdout",
     "output_type": "stream",
     "text": [
      "Results of Cross-Validation:\n",
      "\n",
      "Average accuracy: 0.762415772398303        +/- 0.0018825078278658569\n",
      "Average precision: 0.8267894062742605        +/- 0.0039809113346007605\n",
      "**Average recall: 0.6072316418905281        +/- 0.009191904976366565\n",
      "Average f1 score: 0.7001369462955667        +/- 0.004755138840553626\n",
      "Average roc_auc: 0.8419984294959025        +/- 0.0028959003416105774\n",
      "\n",
      "++++++++++++++++++++\n",
      "\n",
      "Results of Train-Test Split Validation:\n",
      "\n",
      "Training Scores:\n",
      "Train accuracy: 0.7697529323683554\n",
      "Train precision: 0.8385533184190902\n",
      "**Train recall: 0.6142794712116246\n",
      "Train f1 score: 0.7091058141001386\n",
      "Train roc_auc: 0.7574016359917708\n",
      "\n",
      "<><><><><><><><><><>\n",
      "\n",
      "Testing Scores:\n",
      "Test accuracy: 0.7655162087295051\n",
      "Test precision: 0.8333704611271998\n",
      "**Test recall: 0.6107755102040816\n",
      "Test f1 score: 0.7049180327868853\n",
      "Test roc_auc: 0.7536731533321294\n"
     ]
    },
    {
     "data": {
      "image/png": "[encoded data removed]",
      "text/plain": [
       "<Figure size 432x288 with 2 Axes>"
      ]
     },
     "metadata": {
      "needs_background": "light"
     },
     "output_type": "display_data"
    }
   ],
   "source": [
    "# Gradient Boost\n",
    "# ~5min\n",
    "\n",
    "gb1 = Pipeline(steps=[\n",
    "    ('preprocessor', preprocessor),\n",
    "    ('gbclass', GradientBoostingClassifier())\n",
    "])\n",
    "\n",
    "evaluate(gb1, X_train, X_test, y_train, y_test, cv=5, grid_search=False)"
   ]
  },
  {
   "cell_type": "code",
   "execution_count": 190,
   "metadata": {},
   "outputs": [
    {
     "name": "stdout",
     "output_type": "stream",
     "text": [
      "Fitting 5 folds for each of 1 candidates, totalling 5 fits\n",
      "[CV] gbclass__learning_rate=0.01 .....................................\n"
     ]
    },
    {
     "name": "stderr",
     "output_type": "stream",
     "text": [
      "[Parallel(n_jobs=1)]: Using backend SequentialBackend with 1 concurrent workers.\n"
     ]
    },
    {
     "name": "stdout",
     "output_type": "stream",
     "text": [
      "[CV] ......... gbclass__learning_rate=0.01, score=0.531, total=  48.1s\n",
      "[CV] gbclass__learning_rate=0.01 .....................................\n"
     ]
    },
    {
     "name": "stderr",
     "output_type": "stream",
     "text": [
      "[Parallel(n_jobs=1)]: Done   1 out of   1 | elapsed:   48.1s remaining:    0.0s\n"
     ]
    },
    {
     "name": "stdout",
     "output_type": "stream",
     "text": [
      "[CV] ......... gbclass__learning_rate=0.01, score=0.480, total=  45.4s\n",
      "[CV] gbclass__learning_rate=0.01 .....................................\n"
     ]
    },
    {
     "name": "stderr",
     "output_type": "stream",
     "text": [
      "[Parallel(n_jobs=1)]: Done   2 out of   2 | elapsed:  1.6min remaining:    0.0s\n"
     ]
    },
    {
     "name": "stdout",
     "output_type": "stream",
     "text": [
      "[CV] ......... gbclass__learning_rate=0.01, score=0.458, total=  49.3s\n",
      "[CV] gbclass__learning_rate=0.01 .....................................\n"
     ]
    },
    {
     "name": "stderr",
     "output_type": "stream",
     "text": [
      "[Parallel(n_jobs=1)]: Done   3 out of   3 | elapsed:  2.4min remaining:    0.0s\n"
     ]
    },
    {
     "name": "stdout",
     "output_type": "stream",
     "text": [
      "[CV] ......... gbclass__learning_rate=0.01, score=0.491, total= 1.1min\n",
      "[CV] gbclass__learning_rate=0.01 .....................................\n",
      "[CV] ......... gbclass__learning_rate=0.01, score=0.478, total=  47.9s\n"
     ]
    },
    {
     "name": "stderr",
     "output_type": "stream",
     "text": [
      "[Parallel(n_jobs=1)]: Done   5 out of   5 | elapsed:  4.3min finished\n"
     ]
    },
    {
     "name": "stdout",
     "output_type": "stream",
     "text": [
      "\n",
      "Results of Grid Search Train-Test Split Validation:\n",
      "\n",
      "Training Scores:\n",
      "Train accuracy: 0.743473920638882\n",
      "Train precision: 0.8761833348954916\n",
      "**Train recall: 0.5106522451655195\n",
      "Train f1 score: 0.6452459016393443\n",
      "Train roc_auc: 0.7249778410168711\n",
      "\n",
      "<><><><><><><><><><>\n",
      "\n",
      "Testing Scores:\n",
      "Test accuracy: 0.7390881185895036\n",
      "Test precision: 0.8739376770538244\n",
      "**Test recall: 0.5036734693877551\n",
      "Test f1 score: 0.6390471258415329\n",
      "Test roc_auc: 0.7210706948708687\n",
      "\n",
      "Grid Search Results (you animal):\n",
      "\n"
     ]
    },
    {
     "data": {
      "text/html": [
       "<div>\n",
       "<style scoped>\n",
       "    .dataframe tbody tr th:only-of-type {\n",
       "        vertical-align: middle;\n",
       "    }\n",
       "\n",
       "    .dataframe tbody tr th {\n",
       "        vertical-align: top;\n",
       "    }\n",
       "\n",
       "    .dataframe thead th {\n",
       "        text-align: right;\n",
       "    }\n",
       "</style>\n",
       "<table border=\"1\" class=\"dataframe\">\n",
       "  <thead>\n",
       "    <tr style=\"text-align: right;\">\n",
       "      <th></th>\n",
       "      <th>mean_fit_time</th>\n",
       "      <th>std_fit_time</th>\n",
       "      <th>mean_score_time</th>\n",
       "      <th>std_score_time</th>\n",
       "      <th>param_gbclass__learning_rate</th>\n",
       "      <th>params</th>\n",
       "      <th>split0_test_score</th>\n",
       "      <th>split1_test_score</th>\n",
       "      <th>split2_test_score</th>\n",
       "      <th>split3_test_score</th>\n",
       "      <th>split4_test_score</th>\n",
       "      <th>mean_test_score</th>\n",
       "      <th>std_test_score</th>\n",
       "      <th>rank_test_score</th>\n",
       "    </tr>\n",
       "  </thead>\n",
       "  <tbody>\n",
       "    <tr>\n",
       "      <th>0</th>\n",
       "      <td>50.663353</td>\n",
       "      <td>6.778208</td>\n",
       "      <td>0.369618</td>\n",
       "      <td>0.09609</td>\n",
       "      <td>0.01</td>\n",
       "      <td>{'gbclass__learning_rate': 0.01}</td>\n",
       "      <td>0.530584</td>\n",
       "      <td>0.47965</td>\n",
       "      <td>0.458345</td>\n",
       "      <td>0.491396</td>\n",
       "      <td>0.477738</td>\n",
       "      <td>0.487543</td>\n",
       "      <td>0.023993</td>\n",
       "      <td>1</td>\n",
       "    </tr>\n",
       "  </tbody>\n",
       "</table>\n",
       "</div>"
      ],
      "text/plain": [
       "   mean_fit_time  std_fit_time  mean_score_time  std_score_time  \\\n",
       "0      50.663353      6.778208         0.369618         0.09609   \n",
       "\n",
       "  param_gbclass__learning_rate                            params  \\\n",
       "0                         0.01  {'gbclass__learning_rate': 0.01}   \n",
       "\n",
       "   split0_test_score  split1_test_score  split2_test_score  split3_test_score  \\\n",
       "0           0.530584            0.47965           0.458345           0.491396   \n",
       "\n",
       "   split4_test_score  mean_test_score  std_test_score  rank_test_score  \n",
       "0           0.477738         0.487543        0.023993                1  "
      ]
     },
     "execution_count": 190,
     "metadata": {},
     "output_type": "execute_result"
    },
    {
     "data": {
      "image/png": "[encoded data removed]",
      "text/plain": [
       "<Figure size 432x288 with 2 Axes>"
      ]
     },
     "metadata": {
      "needs_background": "light"
     },
     "output_type": "display_data"
    }
   ],
   "source": [
    "# Gradient Boost\n",
    "# using CatBoost Encoding\n",
    "# grid search!\n",
    "# ~5min (before grid search madness)\n",
    "\n",
    "grid = {'gbclass__learning_rate': [0.01]}\n",
    "\n",
    "gb2 = Pipeline(steps=[\n",
    "    ('preprocessor2', preprocessor2),\n",
    "    ('gbclass', GradientBoostingClassifier())\n",
    "])\n",
    "\n",
    "gb2gs = GridSearchCV(rf2, param_grid = grid,\n",
    "                     scoring = 'recall',\n",
    "                     cv = 5,\n",
    "                     verbose = 4)\n",
    "\n",
    "evaluate(gb2gs, X_train, X_test, y_train, y_test, cv=5, grid_search=True)"
   ]
  },
  {
   "cell_type": "code",
   "execution_count": null,
   "metadata": {},
   "outputs": [],
   "source": []
  },
  {
   "cell_type": "code",
   "execution_count": null,
   "metadata": {},
   "outputs": [],
   "source": []
  },
  {
   "cell_type": "code",
   "execution_count": null,
   "metadata": {},
   "outputs": [],
   "source": []
  },
  {
   "cell_type": "code",
   "execution_count": null,
   "metadata": {},
   "outputs": [],
   "source": []
  },
  {
   "cell_type": "code",
   "execution_count": null,
   "metadata": {},
   "outputs": [],
   "source": [
    "test_dict = {'dec_tree':KNeighborsClassifier(), 'lr':LogisticRegression()}\n",
    "\n",
    "def basic_model_tests(X, y, test_dict):\n",
    "    '''Takes in X and y data as well as dictionary of name:test entries to run'''\n",
    "    scores = []\n",
    "    for key, value in test_dict.items():\n",
    "        test_model_loop = Pipeline(steps=[\n",
    "            (key, value)\n",
    "        ])\n",
    "        test_model_loop.fit(X, y)\n",
    "        score = test_model_loop.score(X, y)\n",
    "        scores.append({'name':key, 'type':value, 'score':score})\n",
    "    return scores"
   ]
  },
  {
   "cell_type": "code",
   "execution_count": null,
   "metadata": {},
   "outputs": [],
   "source": [
    "test_list = [{'name':'knn', 'type': KNeighborsClassifier(), 'params':{'knn__n_neighbors': [3, 5, 7], 'knn__p': [1, 2, 3]}},\n",
    "            {'name': 'lr', 'type': LogisticRegression(), 'params':{'lr__fit_intercept':[False], 'lr__C':[1, 1000, 1e12],\n",
    "                                                                  'lr__solver':['liblinear','newton-cg', 'lbfgs']}}]\n",
    "#fit_intercept=False, C= 1e12, solver='liblinear'"
   ]
  },
  {
   "cell_type": "code",
   "execution_count": null,
   "metadata": {},
   "outputs": [],
   "source": [
    "def model_tests(X, y, test_list):\n",
    "    '''Takes in X and y data as well as a list of dictionaries'''\n",
    "    scores = []\n",
    "    for x in test_list:\n",
    "        test_model_loop = Pipeline(steps=[\n",
    "            (x['name'], x['type'])\n",
    "        ])\n",
    "        test_model_loop.fit(X, y)\n",
    "#         score = test_model_loop.score(X, y)\n",
    "#         scores.append({'name':x['name'], 'type':x['type'], 'score':score})\n",
    "        \n",
    "        gs_pipe = GridSearchCV(estimator=test_model_loop, param_grid=x['params'])\n",
    "        gs_pipe.fit(X,y)\n",
    "        scores.append(gs_pipe.cv_results_)\n",
    "    return scores"
   ]
  }
 ],
 "metadata": {
  "kernelspec": {
   "display_name": "Python (learn-env)",
   "language": "python",
   "name": "learn-env"
  },
  "language_info": {
   "codemirror_mode": {
    "name": "ipython",
    "version": 3
   },
   "file_extension": ".py",
   "mimetype": "text/x-python",
   "name": "python",
   "nbconvert_exporter": "python",
   "pygments_lexer": "ipython3",
   "version": "3.8.5"
  }
 },
 "nbformat": 4,
 "nbformat_minor": 4
}
