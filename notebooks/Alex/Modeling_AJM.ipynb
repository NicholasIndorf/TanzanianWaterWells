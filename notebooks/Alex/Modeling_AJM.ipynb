{
 "cells": [
  {
   "cell_type": "code",
   "execution_count": 1,
   "metadata": {},
   "outputs": [],
   "source": [
    "import numpy as np\n",
    "import pandas as pd\n",
    "# settings to display all columns\n",
    "pd.set_option(\"display.max_columns\", None)\n",
    "import matplotlib.pyplot as plt\n",
    "import seaborn as sns\n",
    "\n",
    "from category_encoders.count import CountEncoder\n",
    "from category_encoders.one_hot import OneHotEncoder\n",
    "\n",
    "from sklearn.compose import ColumnTransformer\n",
    "\n",
    "from sklearn.model_selection import train_test_split\n",
    "from sklearn.experimental import enable_iterative_imputer\n",
    "from sklearn.impute import IterativeImputer\n",
    "from sklearn.preprocessing import StandardScaler, MinMaxScaler\n",
    "from sklearn.pipeline import Pipeline\n",
    "from sklearn.linear_model import LogisticRegression\n",
    "from sklearn.tree import DecisionTreeClassifier\n",
    "from sklearn.ensemble import RandomForestClassifier\n",
    "from sklearn.model_selection import cross_validate\n",
    "from sklearn.metrics import accuracy_score, precision_score, recall_score, f1_score, roc_auc_score\n",
    "from sklearn.metrics import roc_auc_score, plot_confusion_matrix, plot_roc_curve\n",
    "from sklearn.model_selection import GridSearchCV"
   ]
  },
  {
   "cell_type": "code",
   "execution_count": 2,
   "metadata": {},
   "outputs": [],
   "source": [
    "df = pd.read_csv('../../data/data_cleaned.csv')"
   ]
  },
  {
   "cell_type": "code",
   "execution_count": 3,
   "metadata": {},
   "outputs": [],
   "source": [
    "X = df.drop(columns='non_functional')\n",
    "y = df['non_functional']"
   ]
  },
  {
   "cell_type": "code",
   "execution_count": 4,
   "metadata": {
    "scrolled": true
   },
   "outputs": [],
   "source": [
    "num_cols = []\n",
    "sm_cat_cols = []\n",
    "lg_cat_cols = []\n",
    "\n",
    "for c in X.columns:\n",
    "    if X[c].dtype in ['float64', 'int64']:\n",
    "        num_cols.append(c)\n",
    "    elif X[c].nunique() < 25:\n",
    "        sm_cat_cols.append(c)\n",
    "    else:\n",
    "        lg_cat_cols.append(c)"
   ]
  },
  {
   "cell_type": "code",
   "execution_count": 5,
   "metadata": {},
   "outputs": [],
   "source": [
    "X_train, X_holdout, y_train, y_holdout = train_test_split(X, y,\n",
    "                                                          test_size = .10, random_state = 396)\n",
    "X_train, X_test, y_train, y_test = train_test_split(X_train, y_train,\n",
    "                                                    test_size = .25, random_state = 396)"
   ]
  },
  {
   "cell_type": "code",
   "execution_count": 6,
   "metadata": {},
   "outputs": [
    {
     "data": {
      "text/plain": [
       "((40070, 22), (40070,), (13357, 22), (13357,), (5937, 22), (5937,))"
      ]
     },
     "execution_count": 6,
     "metadata": {},
     "output_type": "execute_result"
    }
   ],
   "source": [
    "X_train.shape, y_train.shape, X_test.shape, y_test.shape, X_holdout.shape, y_holdout.shape"
   ]
  },
  {
   "cell_type": "code",
   "execution_count": 10,
   "metadata": {},
   "outputs": [],
   "source": [
    "def evaluate(estimator, X_tr, X_te, y_tr, y_te, cv=5, grid_search=False):\n",
    "    '''\n",
    "    \n",
    "    '''\n",
    "    if grid_search == False:\n",
    "        # Cross-Validate\n",
    "        output = cross_validate(estimator, X_tr, y_tr, cv=cv,\n",
    "                                scoring=['accuracy', 'precision','recall', 'f1', 'roc_auc'])\n",
    "\n",
    "        print('Results of Cross-Validation:\\n')\n",
    "        print(f'Average accuracy: {output[\"test_accuracy\"].mean()}\\\n",
    "        +/- {output[\"test_accuracy\"].std()}')\n",
    "        print(f'Average precision: {output[\"test_precision\"].mean()}\\\n",
    "        +/- {output[\"test_precision\"].std()}')\n",
    "        print(f'**Average recall: {output[\"test_recall\"].mean()}\\\n",
    "        +/- {output[\"test_recall\"].std()}')\n",
    "        print(f'Average f1 score: {output[\"test_f1\"].mean()}\\\n",
    "        +/- {output[\"test_f1\"].std()}')\n",
    "        print(f'Average roc_auc: {output[\"test_roc_auc\"].mean()}\\\n",
    "        +/- {output[\"test_roc_auc\"].std()}\\n')\n",
    "        print('+'*20)\n",
    "    \n",
    "        # Test Validate\n",
    "        estimator.fit(X_tr, y_tr)\n",
    "        tr_preds = estimator.predict(X_tr)\n",
    "        te_preds = estimator.predict(X_te)\n",
    "\n",
    "        categories = ['Functional', 'Non-Functional']\n",
    "        print('\\nResults of Train-Test Split Validation:')\n",
    "\n",
    "        plot_confusion_matrix(estimator, X_te, y_te, display_labels= categories,\n",
    "                              cmap='mako')\n",
    "\n",
    "        print(\"\\nTraining Scores:\")\n",
    "        print(f\"Train accuracy: {accuracy_score(y_tr, tr_preds)}\")\n",
    "        print(f\"Train precision: {precision_score(y_tr, tr_preds)}\")\n",
    "        print(f\"**Train recall: {recall_score(y_tr, tr_preds)}\")\n",
    "        print(f\"Train f1 score: {f1_score(y_tr, tr_preds)}\")\n",
    "        print(f\"Train roc_auc: {roc_auc_score(y_tr, tr_preds)}\\n\")\n",
    "\n",
    "        print(\"<>\"*10)\n",
    "        print(\"\\nTesting Scores:\")\n",
    "        print(f\"Test accuracy: {accuracy_score(y_te, te_preds)}\")\n",
    "        print(f\"Test precision: {precision_score(y_te, te_preds)}\")\n",
    "        print(f\"**Test recall: {recall_score(y_te, te_preds)}\")\n",
    "        print(f\"Test f1 score: {f1_score(y_te, te_preds)}\")\n",
    "        print(f\"Test roc_auc: {roc_auc_score(y_te, te_preds)}\")\n",
    "    \n",
    "    else:\n",
    "        estimator.fit(X_tr, y_tr)\n",
    "        tr_preds = estimator.predict(X_tr)\n",
    "        te_preds = estimator.predict(X_te)\n",
    "\n",
    "        categories = ['Functional', 'Non-Functional']\n",
    "        print('\\nResults of Train-Test Split Validation:')\n",
    "\n",
    "        plot_confusion_matrix(estimator, X_te, y_te, display_labels= categories,\n",
    "                              cmap='mako')\n",
    "\n",
    "        print(\"\\nTraining Scores:\")\n",
    "        print(f\"Train accuracy: {accuracy_score(y_tr, tr_preds)}\")\n",
    "        print(f\"Train precision: {precision_score(y_tr, tr_preds)}\")\n",
    "        print(f\"**Train recall: {recall_score(y_tr, tr_preds)}\")\n",
    "        print(f\"Train f1 score: {f1_score(y_tr, tr_preds)}\")\n",
    "        print(f\"Train roc_auc: {roc_auc_score(y_tr, tr_preds)}\\n\")\n",
    "\n",
    "        print(\"<>\"*10)\n",
    "        print(\"\\nTesting Scores:\")\n",
    "        print(f\"Test accuracy: {accuracy_score(y_te, te_preds)}\")\n",
    "        print(f\"Test precision: {precision_score(y_te, te_preds)}\")\n",
    "        print(f\"**Test recall: {recall_score(y_te, te_preds)}\")\n",
    "        print(f\"Test f1 score: {f1_score(y_te, te_preds)}\")\n",
    "        print(f\"Test roc_auc: {roc_auc_score(y_te, te_preds)}\")"
   ]
  },
  {
   "cell_type": "markdown",
   "metadata": {},
   "source": [
    "### Preprocessing\n",
    "\n",
    "**NUMERIC COLUMNS**\n",
    "\n",
    "- (Prob not) Create new t/f columns for construction year and population\n",
    "- IterativeImputer\n",
    "    - construction year - 0 doesn't make sense -> nan\n",
    "    - lat/long 'hidden nans' \n",
    "- MinMaxScaler - doesn't assume normal distribution\n",
    "\n",
    "**CATEGORICAL COLUMNS**\n",
    "- \"Unknown\" becomes separate category\n",
    "- OHE for small\n",
    "- CountEncoder for large¶\n",
    "\n"
   ]
  },
  {
   "cell_type": "code",
   "execution_count": 11,
   "metadata": {},
   "outputs": [],
   "source": [
    "# creating Pipelines for each column type:\n",
    "# numeric, categorical with under 25 categories, categorical with over 25 categories\n",
    "\n",
    "num_col_pipe = Pipeline(steps = [\n",
    "    ('ii', IterativeImputer(random_state=396, add_indicator=True)),\n",
    "    ('mm', MinMaxScaler())\n",
    "])\n",
    "\n",
    "sm_cat_col_pipe = Pipeline(steps = [\n",
    "    ('ohe', OneHotEncoder(handle_unknown = 'indicator'))\n",
    "])\n",
    "\n",
    "lg_cat_col_pipe = Pipeline(steps = [\n",
    "    ('count', CountEncoder(min_group_size=10, min_group_name='Other'))\n",
    "])"
   ]
  },
  {
   "cell_type": "code",
   "execution_count": 13,
   "metadata": {},
   "outputs": [],
   "source": [
    "preprocessor = ColumnTransformer(transformers=[\n",
    "    ('numeric', num_col_pipe, num_cols),\n",
    "    ('small_cat', sm_cat_col_pipe, sm_cat_cols),\n",
    "    ('large_cat', lg_cat_col_pipe, lg_cat_cols )\n",
    "])"
   ]
  },
  {
   "cell_type": "markdown",
   "metadata": {},
   "source": [
    "## Stupid Dummy Idiot Model"
   ]
  },
  {
   "cell_type": "code",
   "execution_count": null,
   "metadata": {},
   "outputs": [],
   "source": []
  },
  {
   "cell_type": "code",
   "execution_count": null,
   "metadata": {},
   "outputs": [],
   "source": [
    "logreg = Pipeline(steps=[\n",
    "    ('preprocessor', preprocessor),\n",
    "    ('classifier', LogisticRegression(random_state=396, max_iter=1000))\n",
    "])\n",
    "\n",
    "evaluate(logreg, X_train, X_test, y_train, y_test, cross_val=True, cv=5)"
   ]
  },
  {
   "cell_type": "code",
   "execution_count": null,
   "metadata": {},
   "outputs": [],
   "source": [
    "dt = Pipeline(steps=[\n",
    "    ('preprocessor', preprocessor),\n",
    "    ('classifier', DecisionTreeClassifier(random_state=396))\n",
    "])\n",
    "\n",
    "evaluate(dt, X_train, X_test, y_train, y_test, cross_val=True, cv=5)"
   ]
  },
  {
   "cell_type": "code",
   "execution_count": null,
   "metadata": {},
   "outputs": [],
   "source": [
    "rf = Pipeline(steps=[\n",
    "    ('preprocessor', preprocessor),\n",
    "    ('classifier', RandomForestClassifier(random_state=396))\n",
    "])\n",
    "\n",
    "evaluate(rf, X_train, X_test, y_train, y_test, cross_val=True, cv=5)"
   ]
  },
  {
   "cell_type": "code",
   "execution_count": null,
   "metadata": {},
   "outputs": [],
   "source": [
    "rf = Pipeline(steps=[\n",
    "    ('preprocessor', preprocessor),\n",
    "    ('classifier', RandomForestClassifier(random_state=5))\n",
    "])\n",
    "evaluate(rf, X_train, X_test, y_train, y_test, cross_val=False, cv=5)"
   ]
  },
  {
   "cell_type": "markdown",
   "metadata": {},
   "source": [
    "## Slightly less dummy models"
   ]
  },
  {
   "cell_type": "code",
   "execution_count": null,
   "metadata": {},
   "outputs": [],
   "source": [
    "logreg2 = Pipeline(steps=[\n",
    "    ('preprocessor', preprocessor),\n",
    "    ('classifier', LogisticRegression(random_state=396, penalty='l1', solver = 'liblinear', max_iter=1000))\n",
    "])\n",
    "\n",
    "evaluate(logreg2, X_train, X_test, y_train, y_test, cross_val=True, cv=5)"
   ]
  },
  {
   "cell_type": "code",
   "execution_count": null,
   "metadata": {},
   "outputs": [],
   "source": [
    "logreg3 = Pipeline(steps=[\n",
    "    ('preprocessor', preprocessor),\n",
    "    ('classifier', LogisticRegression(random_state=396, solver = 'liblinear', max_iter=1000))\n",
    "])\n",
    "\n",
    "evaluate(logreg3, X_train, X_test, y_train, y_test, cross_val=True, cv=5)"
   ]
  },
  {
   "cell_type": "code",
   "execution_count": null,
   "metadata": {},
   "outputs": [],
   "source": [
    "logreg3 = Pipeline(steps=[\n",
    "    ('preprocessor', preprocessor),\n",
    "    ('classifier', LogisticRegression(random_state=396, solver = 'newton-cg', max_iter=1000))\n",
    "])\n",
    "\n",
    "evaluate(logreg3, X_train, X_test, y_train, y_test, cross_val=True, cv=5)"
   ]
  },
  {
   "cell_type": "code",
   "execution_count": null,
   "metadata": {},
   "outputs": [],
   "source": [
    "logreg4 = Pipeline(steps=[\n",
    "    ('preprocessor', preprocessor),\n",
    "    ('classifier', LogisticRegression(random_state=396, max_iter=500))\n",
    "])\n",
    "\n",
    "evaluate(logreg4, X_train, X_test, y_train, y_test, cross_val=True, cv=5)"
   ]
  },
  {
   "cell_type": "code",
   "execution_count": null,
   "metadata": {},
   "outputs": [],
   "source": []
  },
  {
   "cell_type": "code",
   "execution_count": null,
   "metadata": {},
   "outputs": [],
   "source": [
    "# test_dict = {'dec_tree':KNeighborsClassifier(), 'lr':LogisticRegression()}\n",
    "\n",
    "def basic_model_tests(X, y, test_dict):\n",
    "    '''Takes in X and y data as well as dictionary of name:test entries to run'''\n",
    "    scores = []\n",
    "    for key, value in test_dict.items():\n",
    "        test_model_loop = Pipeline(steps=[\n",
    "            (key, value)\n",
    "        ])\n",
    "        test_model_loop.fit(X, y)\n",
    "        score = test_model_loop.score(X, y)\n",
    "        scores.append({'name':key, 'type':value, 'score':score})\n",
    "    return scores"
   ]
  },
  {
   "cell_type": "code",
   "execution_count": null,
   "metadata": {},
   "outputs": [],
   "source": [
    "def model_tests(X, y, test_list):\n",
    "    '''Takes in X and y data as well as a list of dictionaries'''\n",
    "    scores = []\n",
    "    for x in test_list:\n",
    "        test_model_loop = Pipeline(steps=[\n",
    "            (x['name'], x['type'])\n",
    "        ])\n",
    "        test_model_loop.fit(X, y)\n",
    "#         score = test_model_loop.score(X, y)\n",
    "#         scores.append({'name':x['name'], 'type':x['type'], 'score':score})\n",
    "        \n",
    "        gs_pipe = GridSearchCV(estimator=test_model_loop, param_grid=x['params'])\n",
    "        gs_pipe.fit(X,y)\n",
    "        print('Best Params: {}'.format(gs_pipe.best_params_))\n",
    "        print('Best Score: {}'.format(gs_pipe.best_score_))\n",
    "\n",
    "        scores = gs_pipe.cv_results_\n",
    "    return scores"
   ]
  },
  {
   "cell_type": "code",
   "execution_count": null,
   "metadata": {},
   "outputs": [],
   "source": []
  },
  {
   "cell_type": "code",
   "execution_count": null,
   "metadata": {},
   "outputs": [],
   "source": [
    "dt_test_list = [{'name':'dt', 'type':DecisionTreeClassifier(), 'params':{'dt__random_state': [396],\n",
    "                                                                      'dt__criterion': ['gini', 'entropy'],\n",
    "                                                                     'dt__max_features': [None, 'sqrt', 'log2'],\n",
    "                                                                     'dt__max_depth':[20,40,80]}}]\n",
    "#fit_intercept=False, C= 1e12, solver='liblinear'"
   ]
  },
  {
   "cell_type": "code",
   "execution_count": null,
   "metadata": {
    "scrolled": true
   },
   "outputs": [],
   "source": [
    "dt_tests = model_tests(X_train_processed, y_train, test_list)"
   ]
  },
  {
   "cell_type": "code",
   "execution_count": null,
   "metadata": {},
   "outputs": [],
   "source": [
    "dt2 = Pipeline(steps=[\n",
    "    ('preprocessor', preprocessor),\n",
    "    ('classifier', DecisionTreeClassifier(random_state=396, criterion='gini', max_depth=20))\n",
    "])\n",
    "\n",
    "evaluate(dt2, X_train, X_test, y_train, y_test, cross_val=True, cv=5)"
   ]
  },
  {
   "cell_type": "code",
   "execution_count": null,
   "metadata": {},
   "outputs": [],
   "source": [
    "dt2 = Pipeline(steps=[\n",
    "    ('preprocessor', preprocessor),\n",
    "    ('classifier', DecisionTreeClassifier(random_state=396, criterion='gini', max_depth=20))\n",
    "])\n",
    "\n",
    "evaluate(dt2, X_train, X_test, y_train, y_test, cross_val=False, cv=5)"
   ]
  },
  {
   "cell_type": "code",
   "execution_count": null,
   "metadata": {
    "scrolled": true
   },
   "outputs": [],
   "source": [
    "dt3 = Pipeline(steps=[\n",
    "    ('preprocessor', preprocessor),\n",
    "    ('classifier', DecisionTreeClassifier(random_state=396, criterion='gini', max_depth=10))\n",
    "])\n",
    "\n",
    "evaluate(dt3, X_train, X_test, y_train, y_test, cross_val=False, cv=5)"
   ]
  },
  {
   "cell_type": "code",
   "execution_count": null,
   "metadata": {},
   "outputs": [],
   "source": [
    "dt4 = Pipeline(steps=[\n",
    "    ('preprocessor', preprocessor),\n",
    "    ('classifier', DecisionTreeClassifier(random_state=396, criterion='gini', max_depth=30))\n",
    "])\n",
    "\n",
    "evaluate(dt4, X_train, X_test, y_train, y_test, cross_val=False, cv=5)"
   ]
  },
  {
   "cell_type": "code",
   "execution_count": null,
   "metadata": {},
   "outputs": [],
   "source": [
    "\n",
    "dt_tests_df = pd.DataFrame(dt_tests)"
   ]
  },
  {
   "cell_type": "code",
   "execution_count": null,
   "metadata": {},
   "outputs": [],
   "source": [
    "dt_tests_df.head()"
   ]
  },
  {
   "cell_type": "code",
   "execution_count": 15,
   "metadata": {},
   "outputs": [],
   "source": [
    "rf_test_list = {\n",
    "    'rf__n_estimators': [10, 50, 100],\n",
    "    'rf__criterion': ['gini', 'entropy'],\n",
    "    'rf__max_depth':[None, 5, 20],\n",
    "    'rf__class_weight' : [None, 'balanced']}\n",
    "#fit_intercept=False, C= 1e12, solver='liblinear'"
   ]
  },
  {
   "cell_type": "code",
   "execution_count": 14,
   "metadata": {},
   "outputs": [],
   "source": [
    "pipeline = Pipeline([\n",
    "    ('preprocessor', preprocessor),\n",
    "    ('rf', RandomForestClassifier())\n",
    "])"
   ]
  },
  {
   "cell_type": "code",
   "execution_count": 16,
   "metadata": {},
   "outputs": [],
   "source": [
    "cv = GridSearchCV(pipeline, param_grid=rf_test_list)\n",
    "cv.fit(X_train, y_train)"
   ]
  },
  {
   "cell_type": "code",
   "execution_count": 17,
   "metadata": {},
   "outputs": [
    {
     "data": {
      "text/plain": [
       "GridSearchCV(estimator=Pipeline(steps=[('preprocessor',\n",
       "                                        ColumnTransformer(transformers=[('numeric',\n",
       "                                                                         Pipeline(steps=[('ii',\n",
       "                                                                                          IterativeImputer(add_indicator=True,\n",
       "                                                                                                           random_state=396)),\n",
       "                                                                                         ('mm',\n",
       "                                                                                          MinMaxScaler())]),\n",
       "                                                                         ['id',\n",
       "                                                                          'amount_tsh',\n",
       "                                                                          'gps_height',\n",
       "                                                                          'longitude',\n",
       "                                                                          'latitude',\n",
       "                                                                          'population',\n",
       "                                                                          'construction_year']),\n",
       "                                                                        ('small_cat',\n",
       "                                                                         Pipeline(steps=[('ohe',\n",
       "                                                                                          OneHotEncoder(handle_unkn...\n",
       "                                                                          'waterpoint_type_group']),\n",
       "                                                                        ('large_cat',\n",
       "                                                                         Pipeline(steps=[('count',\n",
       "                                                                                          CountEncoder(combine_min_nan_groups=True,\n",
       "                                                                                                       min_group_name='Other',\n",
       "                                                                                                       min_group_size=10))]),\n",
       "                                                                         ['funder',\n",
       "                                                                          'installer',\n",
       "                                                                          'lga'])])),\n",
       "                                       ('rf', RandomForestClassifier())]),\n",
       "             param_grid={'rf__class_weight': [None, 'balanced'],\n",
       "                         'rf__criterion': ['gini', 'entropy'],\n",
       "                         'rf__max_depth': [None, 5, 20],\n",
       "                         'rf__n_estimators': [10, 50, 100]})"
      ]
     },
     "execution_count": 17,
     "metadata": {},
     "output_type": "execute_result"
    }
   ],
   "source": []
  },
  {
   "cell_type": "code",
   "execution_count": 19,
   "metadata": {},
   "outputs": [
    {
     "name": "stdout",
     "output_type": "stream",
     "text": [
      "Best Params: {'rf__class_weight': 'balanced', 'rf__criterion': 'entropy', 'rf__max_depth': 20, 'rf__n_estimators': 100}\n",
      "Best Score: 0.8163963064636885\n"
     ]
    }
   ],
   "source": [
    "print('Best Params: {}'.format(cv.best_params_))\n",
    "print('Best Score: {}'.format(cv.best_score_))\n",
    "\n",
    "cv_scores = cv.cv_results_\n",
    " "
   ]
  },
  {
   "cell_type": "code",
   "execution_count": 20,
   "metadata": {},
   "outputs": [],
   "source": [
    "rf_test2_list = {\n",
    "    'rf__n_estimators': [125,150],\n",
    "    'rf__criterion': ['entropy'],\n",
    "    'rf__max_depth':[25,50],\n",
    "    'rf__class_weight' : ['balanced']}"
   ]
  },
  {
   "cell_type": "code",
   "execution_count": 21,
   "metadata": {},
   "outputs": [
    {
     "data": {
      "text/plain": [
       "GridSearchCV(estimator=Pipeline(steps=[('preprocessor',\n",
       "                                        ColumnTransformer(transformers=[('numeric',\n",
       "                                                                         Pipeline(steps=[('ii',\n",
       "                                                                                          IterativeImputer(add_indicator=True,\n",
       "                                                                                                           random_state=396)),\n",
       "                                                                                         ('mm',\n",
       "                                                                                          MinMaxScaler())]),\n",
       "                                                                         ['id',\n",
       "                                                                          'amount_tsh',\n",
       "                                                                          'gps_height',\n",
       "                                                                          'longitude',\n",
       "                                                                          'latitude',\n",
       "                                                                          'population',\n",
       "                                                                          'construction_year']),\n",
       "                                                                        ('small_cat',\n",
       "                                                                         Pipeline(steps=[('ohe',\n",
       "                                                                                          OneHotEncoder(handle_unkn...\n",
       "                                                                          'source_class',\n",
       "                                                                          'waterpoint_type_group']),\n",
       "                                                                        ('large_cat',\n",
       "                                                                         Pipeline(steps=[('count',\n",
       "                                                                                          CountEncoder(combine_min_nan_groups=True,\n",
       "                                                                                                       min_group_name='Other',\n",
       "                                                                                                       min_group_size=10))]),\n",
       "                                                                         ['funder',\n",
       "                                                                          'installer',\n",
       "                                                                          'lga'])])),\n",
       "                                       ('rf', RandomForestClassifier())]),\n",
       "             param_grid={'rf__class_weight': ['balanced'],\n",
       "                         'rf__criterion': ['entropy'],\n",
       "                         'rf__max_depth': [25, 50],\n",
       "                         'rf__n_estimators': [125, 150]})"
      ]
     },
     "execution_count": 21,
     "metadata": {},
     "output_type": "execute_result"
    }
   ],
   "source": [
    "cv2 = GridSearchCV(pipeline, param_grid=rf_test2_list)\n",
    "cv2.fit(X_train, y_train)"
   ]
  },
  {
   "cell_type": "code",
   "execution_count": 22,
   "metadata": {},
   "outputs": [
    {
     "name": "stdout",
     "output_type": "stream",
     "text": [
      "Best Params: {'rf__class_weight': 'balanced', 'rf__criterion': 'entropy', 'rf__max_depth': 25, 'rf__n_estimators': 150}\n",
      "Best Score: 0.816446219116546\n"
     ]
    }
   ],
   "source": [
    "print('Best Params: {}'.format(cv2.best_params_))\n",
    "print('Best Score: {}'.format(cv2.best_score_))\n",
    "\n",
    "cv2_scores = cv2.cv_results_\n",
    " "
   ]
  },
  {
   "cell_type": "code",
   "execution_count": 26,
   "metadata": {},
   "outputs": [],
   "source": [
    "estimator = Pipeline([\n",
    "    ('preprocessor', preprocessor),\n",
    "    ('rf', RandomForestClassifier(class_weight='balanced', criterion='entropy', max_depth=5, n_estimators=200))\n",
    "])"
   ]
  },
  {
   "cell_type": "code",
   "execution_count": 27,
   "metadata": {},
   "outputs": [
    {
     "name": "stdout",
     "output_type": "stream",
     "text": [
      "Results of Cross-Validation:\n",
      "\n",
      "Average accuracy: 0.7397554280009982        +/- 0.004678629016073833\n",
      "Average precision: 0.7768073608049973        +/- 0.006354756504311561\n",
      "**Average recall: 0.6040625865712826        +/- 0.017548096259159814\n",
      "Average f1 score: 0.6794353194284297        +/- 0.00982181205170732\n",
      "Average roc_auc: 0.8106804321039913        +/- 0.004068094271709051\n",
      "\n",
      "++++++++++++++++++++\n",
      "\n",
      "Results of Train-Test Split Validation:\n",
      "\n",
      "Training Scores:\n",
      "Train accuracy: 0.7408035937110058\n",
      "Train precision: 0.7853025936599424\n",
      "**Train recall: 0.5954331913033978\n",
      "Train f1 score: 0.6773131175045051\n",
      "Train roc_auc: 0.7292549158134339\n",
      "\n",
      "<><><><><><><><><><>\n",
      "\n",
      "Testing Scores:\n",
      "Test accuracy: 0.7364677697087669\n",
      "Test precision: 0.7808928186327366\n",
      "**Test recall: 0.5911836734693877\n",
      "Test f1 score: 0.6729232484668277\n",
      "Test roc_auc: 0.7253484739028355\n"
     ]
    },
    {
     "data": {
      "image/png": "[encoded data removed]",
      "text/plain": [
       "<Figure size 432x288 with 2 Axes>"
      ]
     },
     "metadata": {
      "needs_background": "light"
     },
     "output_type": "display_data"
    }
   ],
   "source": [
    "evaluate(estimator, X_train, X_test, y_train, y_test, cv=5, grid_search=False)"
   ]
  },
  {
   "cell_type": "code",
   "execution_count": 28,
   "metadata": {},
   "outputs": [],
   "source": [
    "estimator2 = Pipeline([\n",
    "    ('preprocessor', preprocessor),\n",
    "    ('rf', RandomForestClassifier(class_weight='balanced', criterion='entropy', max_depth=10, n_estimators=150))\n",
    "])"
   ]
  },
  {
   "cell_type": "code",
   "execution_count": 29,
   "metadata": {},
   "outputs": [
    {
     "name": "stdout",
     "output_type": "stream",
     "text": [
      "Results of Cross-Validation:\n",
      "\n",
      "Average accuracy: 0.778163214374844        +/- 0.0021762145601788648\n",
      "Average precision: 0.8124912456861815        +/- 0.005650520513596466\n",
      "**Average recall: 0.6689054674785861        +/- 0.010569685758163045\n",
      "Average f1 score: 0.7336533496799695        +/- 0.004668091891683296\n",
      "Average roc_auc: 0.8594066784519574        +/- 0.0027919063282110666\n",
      "\n",
      "++++++++++++++++++++\n",
      "\n",
      "Results of Train-Test Split Validation:\n",
      "\n",
      "Training Scores:\n",
      "Train accuracy: 0.7967307212378338\n",
      "Train precision: 0.8392201375442345\n",
      "**Train recall: 0.6866054845405878\n",
      "Train f1 score: 0.7552804735150076\n",
      "Train roc_auc: 0.7879820291660851\n",
      "\n",
      "<><><><><><><><><><>\n",
      "\n",
      "Testing Scores:\n",
      "Test accuracy: 0.7771954780265029\n",
      "Test precision: 0.8120911793855302\n",
      "**Test recall: 0.6688979591836735\n",
      "Test f1 score: 0.7335720680393911\n",
      "Test roc_auc: 0.7689069441936066\n"
     ]
    },
    {
     "data": {
      "image/png": "[encoded data removed]",
      "text/plain": [
       "<Figure size 432x288 with 2 Axes>"
      ]
     },
     "metadata": {
      "needs_background": "light"
     },
     "output_type": "display_data"
    }
   ],
   "source": [
    "evaluate(estimator2, X_train, X_test, y_train, y_test, cv=5, grid_search=False)"
   ]
  },
  {
   "cell_type": "code",
   "execution_count": null,
   "metadata": {},
   "outputs": [],
   "source": []
  },
  {
   "cell_type": "code",
   "execution_count": null,
   "metadata": {},
   "outputs": [],
   "source": []
  },
  {
   "cell_type": "code",
   "execution_count": null,
   "metadata": {},
   "outputs": [],
   "source": []
  },
  {
   "cell_type": "code",
   "execution_count": null,
   "metadata": {},
   "outputs": [],
   "source": [
    "def evaluate2(estimator, X_tr, X_te, y_tr, y_te, cross_val=True, cv=5):\n",
    "    '''\n",
    "    \n",
    "    '''\n",
    "    if cross_val == True:\n",
    "        output = cross_validate(estimator, X_tr, y_tr, cv=cv,\n",
    "                                scoring=['accuracy', 'precision','recall', 'f1', 'roc_auc'])\n",
    "\n",
    "        print(f'Average accuracy: {output[\"test_accuracy\"].mean()}\\\n",
    "        +/- {output[\"test_accuracy\"].std()}')\n",
    "        print(f'Average precision: {output[\"test_precision\"].mean()}\\\n",
    "        +/- {output[\"test_precision\"].std()}')\n",
    "        print(f'Average recall: {output[\"test_recall\"].mean()}\\\n",
    "        +/- {output[\"test_recall\"].std()}')\n",
    "        print(f'Average f1 score: {output[\"test_f1\"].mean()}\\\n",
    "        +/- {output[\"test_f1\"].std()}')\n",
    "        print(f'Average roc_auc: {output[\"test_roc_auc\"].mean()}\\\n",
    "        +/- {output[\"test_roc_auc\"].std()}')\n",
    "    \n",
    "    else:\n",
    "        estimator.fit(X_tr, y_tr)\n",
    "        tr_preds = estimator.predict(X_tr)\n",
    "        te_preds = estimator.predict(X_te)\n",
    "    \n",
    "        categories = ['Functional', 'Non-Functional']\n",
    "        plot_confusion_matrix(estimator, X_te, y_te, display_labels= categories)\n",
    "    \n",
    "        print(\"Training Scores:\")\n",
    "        print(f\"Train accuracy: {accuracy_score(y_tr, tr_preds)}\")\n",
    "        print(f\"Train precision: {precision_score(y_tr, tr_preds)}\")\n",
    "        print(f\"Train recall: {recall_score(y_tr, tr_preds)}\")\n",
    "        print(f\"Train f1 score: {f1_score(y_tr, tr_preds)}\")\n",
    "        print(f\"Train roc_auc: {roc_auc_score(y_tr, tr_preds)}\")\n",
    "\n",
    "        print(\"<>\"*10)\n",
    "        print(\"Testing Scores:\")\n",
    "        print(f\"Test accuracy: {accuracy_score(y_te, te_preds)}\")\n",
    "        print(f\"Test precision: {precision_score(y_te, te_preds)}\")\n",
    "        print(f\"Test recall: {recall_score(y_te, te_preds)}\")\n",
    "        print(f\"Test f1 score: {f1_score(y_te, te_preds)}\")\n",
    "        print(f\"Test roc_auc: {roc_auc_score(y_te, te_preds)}\")"
   ]
  }
 ],
 "metadata": {
  "kernelspec": {
   "display_name": "Python (learn-env)",
   "language": "python",
   "name": "learn-env"
  },
  "language_info": {
   "codemirror_mode": {
    "name": "ipython",
    "version": 3
   },
   "file_extension": ".py",
   "mimetype": "text/x-python",
   "name": "python",
   "nbconvert_exporter": "python",
   "pygments_lexer": "ipython3",
   "version": "3.8.5"
  }
 },
 "nbformat": 4,
 "nbformat_minor": 4
}
