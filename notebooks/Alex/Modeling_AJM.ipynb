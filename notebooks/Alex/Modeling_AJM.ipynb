{
 "cells": [
  {
   "cell_type": "code",
   "execution_count": 1,
   "metadata": {},
   "outputs": [],
   "source": [
    "import numpy as np\n",
    "import pandas as pd\n",
    "# settings to display all columns\n",
    "pd.set_option(\"display.max_columns\", None)\n",
    "import matplotlib.pyplot as plt\n",
    "import seaborn as sns\n",
    "\n",
    "from category_encoders.count import CountEncoder\n",
    "from category_encoders.one_hot import OneHotEncoder\n",
    "\n",
    "from sklearn.compose import ColumnTransformer\n",
    "\n",
    "from sklearn.model_selection import train_test_split\n",
    "from sklearn.experimental import enable_iterative_imputer\n",
    "from sklearn.impute import IterativeImputer\n",
    "from sklearn.preprocessing import StandardScaler, MinMaxScaler\n",
    "from sklearn.pipeline import Pipeline\n",
    "from sklearn.linear_model import LogisticRegression\n",
    "from sklearn.tree import DecisionTreeClassifier\n",
    "from sklearn.ensemble import RandomForestClassifier\n",
    "from sklearn.model_selection import cross_validate\n",
    "from sklearn.metrics import accuracy_score, precision_score, recall_score, f1_score, roc_auc_score\n",
    "from sklearn.metrics import roc_auc_score, plot_confusion_matrix, plot_roc_curve\n",
    "from sklearn.model_selection import GridSearchCV"
   ]
  },
  {
   "cell_type": "code",
   "execution_count": 2,
   "metadata": {},
   "outputs": [],
   "source": [
    "df = pd.read_csv('../../data/data_cleaned.csv')"
   ]
  },
  {
   "cell_type": "code",
   "execution_count": 3,
   "metadata": {},
   "outputs": [],
   "source": [
    "X = df.drop(columns='non_functional')\n",
    "y = df['non_functional']"
   ]
  },
  {
   "cell_type": "code",
   "execution_count": 4,
   "metadata": {
    "scrolled": true
   },
   "outputs": [],
   "source": [
    "num_cols = []\n",
    "sm_cat_cols = []\n",
    "lg_cat_cols = []\n",
    "\n",
    "for c in X.columns:\n",
    "    if X[c].dtype in ['float64', 'int64']:\n",
    "        num_cols.append(c)\n",
    "    elif X[c].nunique() < 25:\n",
    "        sm_cat_cols.append(c)\n",
    "    else:\n",
    "        lg_cat_cols.append(c)"
   ]
  },
  {
   "cell_type": "code",
   "execution_count": 5,
   "metadata": {},
   "outputs": [],
   "source": [
    "X_train, X_holdout, y_train, y_holdout = train_test_split(X, y,\n",
    "                                                          test_size = .10, random_state = 396)\n",
    "X_train, X_test, y_train, y_test = train_test_split(X_train, y_train,\n",
    "                                                    test_size = .25, random_state = 396)"
   ]
  },
  {
   "cell_type": "code",
   "execution_count": 6,
   "metadata": {},
   "outputs": [
    {
     "data": {
      "text/plain": [
       "((40070, 22), (40070,), (13357, 22), (13357,), (5937, 22), (5937,))"
      ]
     },
     "execution_count": 6,
     "metadata": {},
     "output_type": "execute_result"
    }
   ],
   "source": [
    "X_train.shape, y_train.shape, X_test.shape, y_test.shape, X_holdout.shape, y_holdout.shape"
   ]
  },
  {
   "cell_type": "code",
   "execution_count": 7,
   "metadata": {},
   "outputs": [],
   "source": [
    "def evaluate(estimator, X_tr, X_te, y_tr, y_te, cv=5, grid_search=False):\n",
    "    '''\n",
    "    \n",
    "    '''\n",
    "    if grid_search == False:\n",
    "        # Cross-Validate\n",
    "        output = cross_validate(estimator, X_tr, y_tr, cv=cv,\n",
    "                                scoring=['accuracy', 'precision','recall', 'f1', 'roc_auc'])\n",
    "\n",
    "        print('Results of Cross-Validation:\\n')\n",
    "        print(f'Average accuracy: {output[\"test_accuracy\"].mean()}\\\n",
    "        +/- {output[\"test_accuracy\"].std()}')\n",
    "        print(f'Average precision: {output[\"test_precision\"].mean()}\\\n",
    "        +/- {output[\"test_precision\"].std()}')\n",
    "        print(f'**Average recall: {output[\"test_recall\"].mean()}\\\n",
    "        +/- {output[\"test_recall\"].std()}')\n",
    "        print(f'Average f1 score: {output[\"test_f1\"].mean()}\\\n",
    "        +/- {output[\"test_f1\"].std()}')\n",
    "        print(f'Average roc_auc: {output[\"test_roc_auc\"].mean()}\\\n",
    "        +/- {output[\"test_roc_auc\"].std()}\\n')\n",
    "        print('+'*20)\n",
    "    \n",
    "        # Test Validate\n",
    "        estimator.fit(X_tr, y_tr)\n",
    "        tr_preds = estimator.predict(X_tr)\n",
    "        te_preds = estimator.predict(X_te)\n",
    "\n",
    "        categories = ['Functional', 'Non-Functional']\n",
    "        print('\\nResults of Train-Test Split Validation:')\n",
    "\n",
    "        plot_confusion_matrix(estimator, X_te, y_te, display_labels= categories,\n",
    "                              cmap='mako')\n",
    "\n",
    "        print(\"\\nTraining Scores:\")\n",
    "        print(f\"Train accuracy: {accuracy_score(y_tr, tr_preds)}\")\n",
    "        print(f\"Train precision: {precision_score(y_tr, tr_preds)}\")\n",
    "        print(f\"**Train recall: {recall_score(y_tr, tr_preds)}\")\n",
    "        print(f\"Train f1 score: {f1_score(y_tr, tr_preds)}\")\n",
    "        print(f\"Train roc_auc: {roc_auc_score(y_tr, tr_preds)}\\n\")\n",
    "\n",
    "        print(\"<>\"*10)\n",
    "        print(\"\\nTesting Scores:\")\n",
    "        print(f\"Test accuracy: {accuracy_score(y_te, te_preds)}\")\n",
    "        print(f\"Test precision: {precision_score(y_te, te_preds)}\")\n",
    "        print(f\"**Test recall: {recall_score(y_te, te_preds)}\")\n",
    "        print(f\"Test f1 score: {f1_score(y_te, te_preds)}\")\n",
    "        print(f\"Test roc_auc: {roc_auc_score(y_te, te_preds)}\")\n",
    "    \n",
    "    else:\n",
    "        estimator.fit(X_tr, y_tr)\n",
    "        tr_preds = estimator.predict(X_tr)\n",
    "        te_preds = estimator.predict(X_te)\n",
    "\n",
    "        categories = ['Functional', 'Non-Functional']\n",
    "        print('\\nResults of Train-Test Split Validation:')\n",
    "\n",
    "        plot_confusion_matrix(estimator, X_te, y_te, display_labels= categories,\n",
    "                              cmap='mako')\n",
    "\n",
    "        print(\"\\nTraining Scores:\")\n",
    "        print(f\"Train accuracy: {accuracy_score(y_tr, tr_preds)}\")\n",
    "        print(f\"Train precision: {precision_score(y_tr, tr_preds)}\")\n",
    "        print(f\"**Train recall: {recall_score(y_tr, tr_preds)}\")\n",
    "        print(f\"Train f1 score: {f1_score(y_tr, tr_preds)}\")\n",
    "        print(f\"Train roc_auc: {roc_auc_score(y_tr, tr_preds)}\\n\")\n",
    "\n",
    "        print(\"<>\"*10)\n",
    "        print(\"\\nTesting Scores:\")\n",
    "        print(f\"Test accuracy: {accuracy_score(y_te, te_preds)}\")\n",
    "        print(f\"Test precision: {precision_score(y_te, te_preds)}\")\n",
    "        print(f\"**Test recall: {recall_score(y_te, te_preds)}\")\n",
    "        print(f\"Test f1 score: {f1_score(y_te, te_preds)}\")\n",
    "        print(f\"Test roc_auc: {roc_auc_score(y_te, te_preds)}\")"
   ]
  },
  {
   "cell_type": "markdown",
   "metadata": {},
   "source": [
    "### Preprocessing\n",
    "\n",
    "**NUMERIC COLUMNS**\n",
    "\n",
    "- (Prob not) Create new t/f columns for construction year and population\n",
    "- IterativeImputer\n",
    "    - construction year - 0 doesn't make sense -> nan\n",
    "    - lat/long 'hidden nans' \n",
    "- MinMaxScaler - doesn't assume normal distribution\n",
    "\n",
    "**CATEGORICAL COLUMNS**\n",
    "- \"Unknown\" becomes separate category\n",
    "- OHE for small\n",
    "- CountEncoder for large¶\n",
    "\n"
   ]
  },
  {
   "cell_type": "code",
   "execution_count": 8,
   "metadata": {},
   "outputs": [],
   "source": [
    "# creating Pipelines for each column type:\n",
    "# numeric, categorical with under 25 categories, categorical with over 25 categories\n",
    "\n",
    "num_col_pipe = Pipeline(steps = [\n",
    "    ('ii', IterativeImputer(random_state=396, add_indicator=True)),\n",
    "    ('mm', MinMaxScaler())\n",
    "])\n",
    "\n",
    "sm_cat_col_pipe = Pipeline(steps = [\n",
    "    ('ohe', OneHotEncoder(handle_unknown = 'indicator'))\n",
    "])\n",
    "\n",
    "lg_cat_col_pipe = Pipeline(steps = [\n",
    "    ('count', CountEncoder(min_group_size=10, min_group_name='Other'))\n",
    "])"
   ]
  },
  {
   "cell_type": "code",
   "execution_count": 9,
   "metadata": {},
   "outputs": [],
   "source": [
    "preprocessor = ColumnTransformer(transformers=[\n",
    "    ('numeric', num_col_pipe, num_cols),\n",
    "    ('small_cat', sm_cat_col_pipe, sm_cat_cols),\n",
    "    ('large_cat', lg_cat_col_pipe, lg_cat_cols )\n",
    "])"
   ]
  },
  {
   "cell_type": "markdown",
   "metadata": {},
   "source": [
    "## Stupid Dummy Idiot Model"
   ]
  },
  {
   "cell_type": "code",
   "execution_count": null,
   "metadata": {},
   "outputs": [],
   "source": []
  },
  {
   "cell_type": "code",
   "execution_count": 11,
   "metadata": {},
   "outputs": [
    {
     "name": "stdout",
     "output_type": "stream",
     "text": [
      "Results of Cross-Validation:\n",
      "\n",
      "Average accuracy: 0.7402295982031445        +/- 0.0027783464737094967\n",
      "Average precision: 0.7833084394457173        +/- 0.0033639162026954227\n",
      "**Average recall: 0.5963618765767442        +/- 0.005002666292811779\n",
      "Average f1 score: 0.6771615995549407        +/- 0.004077426228519864\n",
      "Average roc_auc: 0.8121279677780825        +/- 0.0053279546931561846\n",
      "\n",
      "++++++++++++++++++++\n",
      "\n",
      "Results of Train-Test Split Validation:\n",
      "\n",
      "Training Scores:\n",
      "Train accuracy: 0.7335163463938108\n",
      "Train precision: 0.7814344746162928\n",
      "**Train recall: 0.578498852835136\n",
      "Train f1 score: 0.6648251616548433\n",
      "Train roc_auc: 0.7212012735045006\n",
      "\n",
      "<><><><><><><><><><>\n",
      "\n",
      "Testing Scores:\n",
      "Test accuracy: 0.7285318559556787\n",
      "Test precision: 0.7769895810241632\n",
      "**Test recall: 0.5722448979591837\n",
      "Test f1 score: 0.6590823617901467\n",
      "Test roc_auc: 0.7165704578291493\n"
     ]
    },
    {
     "data": {
      "image/png": "[encoded data removed]",
      "text/plain": [
       "<Figure size 432x288 with 2 Axes>"
      ]
     },
     "metadata": {
      "needs_background": "light"
     },
     "output_type": "display_data"
    }
   ],
   "source": [
    "logreg = Pipeline(steps=[\n",
    "    ('preprocessor', preprocessor),\n",
    "    ('classifier', LogisticRegression(random_state=396, max_iter=1000))\n",
    "])\n",
    "\n",
    "evaluate(logreg, X_train, X_test, y_train, y_test, cv=5, grid_search=False)"
   ]
  },
  {
   "cell_type": "code",
   "execution_count": 12,
   "metadata": {},
   "outputs": [
    {
     "name": "stdout",
     "output_type": "stream",
     "text": [
      "Results of Cross-Validation:\n",
      "\n",
      "Average accuracy: 0.7577738956825555        +/- 0.004950167713787846\n",
      "Average precision: 0.7337410630172154        +/- 0.007248368655924911\n",
      "**Average recall: 0.7375178251995923        +/- 0.00692682111960049\n",
      "Average f1 score: 0.7355908708403478        +/- 0.005007315350745493\n",
      "Average roc_auc: 0.7561646360021826        +/- 0.0048085443604879465\n",
      "\n",
      "++++++++++++++++++++\n",
      "\n",
      "Results of Train-Test Split Validation:\n",
      "\n",
      "Training Scores:\n",
      "Train accuracy: 1.0\n",
      "Train precision: 1.0\n",
      "**Train recall: 1.0\n",
      "Train f1 score: 1.0\n",
      "Train roc_auc: 1.0\n",
      "\n",
      "<><><><><><><><><><>\n",
      "\n",
      "Testing Scores:\n",
      "Test accuracy: 0.7583289660851987\n",
      "Test precision: 0.734726948630692\n",
      "**Test recall: 0.7402448979591837\n",
      "Test f1 score: 0.7374756018217308\n",
      "Test roc_auc: 0.7569449047318042\n"
     ]
    },
    {
     "data": {
      "image/png": "[encoded data removed]",
      "text/plain": [
       "<Figure size 432x288 with 2 Axes>"
      ]
     },
     "metadata": {
      "needs_background": "light"
     },
     "output_type": "display_data"
    }
   ],
   "source": [
    "dt = Pipeline(steps=[\n",
    "    ('preprocessor', preprocessor),\n",
    "    ('classifier', DecisionTreeClassifier(random_state=396))\n",
    "])\n",
    "\n",
    "evaluate(dt, X_train, X_test, y_train, y_test, cv=5, grid_search=False)"
   ]
  },
  {
   "cell_type": "code",
   "execution_count": 13,
   "metadata": {},
   "outputs": [
    {
     "name": "stdout",
     "output_type": "stream",
     "text": [
      "Results of Cross-Validation:\n",
      "\n",
      "Average accuracy: 0.8142001497379585        +/- 0.005237262147072506\n",
      "Average precision: 0.822432297441831        +/- 0.008215468603354167\n",
      "**Average recall: 0.7568010101306955        +/- 0.009703850381972872\n",
      "Average f1 score: 0.7881972882154242        +/- 0.006201610985087064\n",
      "Average roc_auc: 0.8916793348325548        +/- 0.0030553141410370947\n",
      "\n",
      "++++++++++++++++++++\n",
      "\n",
      "Results of Train-Test Split Validation:\n",
      "\n",
      "Training Scores:\n",
      "Train accuracy: 1.0\n",
      "Train precision: 1.0\n",
      "**Train recall: 1.0\n",
      "Train f1 score: 1.0\n",
      "Train roc_auc: 1.0\n",
      "\n",
      "<><><><><><><><><><>\n",
      "\n",
      "Testing Scores:\n",
      "Test accuracy: 0.8179980534551171\n",
      "Test precision: 0.8255199154035954\n",
      "**Test recall: 0.764734693877551\n",
      "Test f1 score: 0.7939655903042632\n",
      "Test roc_auc: 0.8139215504785985\n"
     ]
    },
    {
     "data": {
      "image/png": "[encoded data removed]",
      "text/plain": [
       "<Figure size 432x288 with 2 Axes>"
      ]
     },
     "metadata": {
      "needs_background": "light"
     },
     "output_type": "display_data"
    }
   ],
   "source": [
    "rf = Pipeline(steps=[\n",
    "    ('preprocessor', preprocessor),\n",
    "    ('classifier', RandomForestClassifier(random_state=396))\n",
    "])\n",
    "\n",
    "evaluate(rf, X_train, X_test, y_train, y_test, cv=5, grid_search=False)"
   ]
  },
  {
   "cell_type": "code",
   "execution_count": 14,
   "metadata": {},
   "outputs": [
    {
     "name": "stdout",
     "output_type": "stream",
     "text": [
      "Results of Cross-Validation:\n",
      "\n",
      "Average accuracy: 0.8134764162715248        +/- 0.004130554752118509\n",
      "Average precision: 0.8220466579245258        +/- 0.006083035139407714\n",
      "**Average recall: 0.7552715375179148        +/- 0.008101609047447599\n",
      "Average f1 score: 0.7872106040727355        +/- 0.005041048249127777\n",
      "Average roc_auc: 0.8918217031947048        +/- 0.002296845391185429\n",
      "\n",
      "++++++++++++++++++++\n",
      "\n",
      "Results of Train-Test Split Validation:\n",
      "\n",
      "Training Scores:\n",
      "Train accuracy: 1.0\n",
      "Train precision: 1.0\n",
      "**Train recall: 1.0\n",
      "Train f1 score: 1.0\n",
      "Train roc_auc: 1.0\n",
      "\n",
      "<><><><><><><><><><>\n",
      "\n",
      "Testing Scores:\n",
      "Test accuracy: 0.8188964587856554\n",
      "Test precision: 0.8269230769230769\n",
      "**Test recall: 0.7652244897959184\n",
      "Test f1 score: 0.7948783176460612\n",
      "Test roc_auc: 0.8147886829510566\n"
     ]
    },
    {
     "data": {
      "image/png": "[encoded data removed]",
      "text/plain": [
       "<Figure size 432x288 with 2 Axes>"
      ]
     },
     "metadata": {
      "needs_background": "light"
     },
     "output_type": "display_data"
    }
   ],
   "source": [
    "rf = Pipeline(steps=[\n",
    "    ('preprocessor', preprocessor),\n",
    "    ('classifier', RandomForestClassifier(random_state=5))\n",
    "])\n",
    "evaluate(rf, X_train, X_test, y_train, y_test, cv=5, grid_search=False)"
   ]
  },
  {
   "cell_type": "markdown",
   "metadata": {},
   "source": [
    "## Slightly less dummy models"
   ]
  },
  {
   "cell_type": "code",
   "execution_count": 16,
   "metadata": {},
   "outputs": [
    {
     "name": "stdout",
     "output_type": "stream",
     "text": [
      "Results of Cross-Validation:\n",
      "\n",
      "Average accuracy: 0.7482904916396306        +/- 0.0028117707226265384\n",
      "Average precision: 0.7900477661794632        +/- 0.0018429432142914293\n",
      "**Average recall: 0.6115474473657789        +/- 0.007451429555809331\n",
      "Average f1 score: 0.6894076017551017        +/- 0.0049591131258770165\n",
      "Average roc_auc: 0.8202443573403901        +/- 0.0033093557321074193\n",
      "\n",
      "++++++++++++++++++++\n",
      "\n",
      "Results of Train-Test Split Validation:\n",
      "\n",
      "Training Scores:\n",
      "Train accuracy: 0.7497130022460694\n",
      "Train precision: 0.7910542232224488\n",
      "**Train recall: 0.6144433519064787\n",
      "Train f1 score: 0.691652574942352\n",
      "Train roc_auc: 0.7389667595775732\n",
      "\n",
      "<><><><><><><><><><>\n",
      "\n",
      "Testing Scores:\n",
      "Test accuracy: 0.7423074043572658\n",
      "Test precision: 0.7811779501152798\n",
      "**Test recall: 0.6084897959183674\n",
      "Test f1 score: 0.6841042584434656\n",
      "Test roc_auc: 0.7320656944193606\n"
     ]
    },
    {
     "data": {
      "image/png": "[encoded data removed]",
      "text/plain": [
       "<Figure size 432x288 with 2 Axes>"
      ]
     },
     "metadata": {
      "needs_background": "light"
     },
     "output_type": "display_data"
    }
   ],
   "source": [
    "logreg2 = Pipeline(steps=[\n",
    "    ('preprocessor', preprocessor),\n",
    "    ('classifier', LogisticRegression(random_state=396, penalty='l1', solver = 'liblinear', max_iter=1000))\n",
    "])\n",
    "\n",
    "evaluate(logreg2, X_train, X_test, y_train, y_test, cv=5, grid_search=False)"
   ]
  },
  {
   "cell_type": "code",
   "execution_count": 17,
   "metadata": {},
   "outputs": [
    {
     "name": "stdout",
     "output_type": "stream",
     "text": [
      "Results of Cross-Validation:\n",
      "\n",
      "Average accuracy: 0.7474419765410532        +/- 0.002470550271178383\n",
      "Average precision: 0.7898704946058936        +/- 0.0006842906890581806\n",
      "**Average recall: 0.6092532309875851        +/- 0.007082866273016163\n",
      "Average f1 score: 0.6878817722044015        +/- 0.004604418740762549\n",
      "Average roc_auc: 0.819513894244109        +/- 0.0035418523650038725\n",
      "\n",
      "++++++++++++++++++++\n",
      "\n",
      "Results of Train-Test Split Validation:\n",
      "\n",
      "Training Scores:\n",
      "Train accuracy: 0.7466433740953332\n",
      "Train precision: 0.7874365482233503\n",
      "**Train recall: 0.6101278269419862\n",
      "Train f1 score: 0.6875346260387811\n",
      "Train roc_auc: 0.7357981535003996\n",
      "\n",
      "<><><><><><><><><><>\n",
      "\n",
      "Testing Scores:\n",
      "Test accuracy: 0.7396870554765291\n",
      "Test precision: 0.7795608108108109\n",
      "**Test recall: 0.6027755102040816\n",
      "Test f1 score: 0.6798637326213055\n",
      "Test roc_auc: 0.7292085515622179\n"
     ]
    },
    {
     "data": {
      "image/png": "[encoded data removed]",
      "text/plain": [
       "<Figure size 432x288 with 2 Axes>"
      ]
     },
     "metadata": {
      "needs_background": "light"
     },
     "output_type": "display_data"
    }
   ],
   "source": [
    "logreg3 = Pipeline(steps=[\n",
    "    ('preprocessor', preprocessor),\n",
    "    ('classifier', LogisticRegression(random_state=396, solver = 'liblinear', max_iter=1000))\n",
    "])\n",
    "\n",
    "evaluate(logreg3, X_train, X_test, y_train, y_test, cv=5, grid_search=False)"
   ]
  },
  {
   "cell_type": "code",
   "execution_count": 18,
   "metadata": {},
   "outputs": [
    {
     "name": "stderr",
     "output_type": "stream",
     "text": [
      "C:\\Users\\alexm\\anaconda3\\envs\\learn-env\\lib\\site-packages\\scipy\\optimize\\linesearch.py:437: LineSearchWarning: Rounding errors prevent the line search from converging\n",
      "  warn(msg, LineSearchWarning)\n",
      "C:\\Users\\alexm\\anaconda3\\envs\\learn-env\\lib\\site-packages\\scipy\\optimize\\linesearch.py:327: LineSearchWarning: The line search algorithm did not converge\n",
      "  warn('The line search algorithm did not converge', LineSearchWarning)\n",
      "C:\\Users\\alexm\\anaconda3\\envs\\learn-env\\lib\\site-packages\\sklearn\\utils\\optimize.py:204: UserWarning: Line Search failed\n",
      "  warnings.warn('Line Search failed')\n",
      "C:\\Users\\alexm\\anaconda3\\envs\\learn-env\\lib\\site-packages\\scipy\\optimize\\linesearch.py:477: LineSearchWarning: The line search algorithm did not converge\n",
      "  warn('The line search algorithm did not converge', LineSearchWarning)\n",
      "C:\\Users\\alexm\\anaconda3\\envs\\learn-env\\lib\\site-packages\\scipy\\optimize\\linesearch.py:327: LineSearchWarning: The line search algorithm did not converge\n",
      "  warn('The line search algorithm did not converge', LineSearchWarning)\n",
      "C:\\Users\\alexm\\anaconda3\\envs\\learn-env\\lib\\site-packages\\scipy\\optimize\\linesearch.py:477: LineSearchWarning: The line search algorithm did not converge\n",
      "  warn('The line search algorithm did not converge', LineSearchWarning)\n",
      "C:\\Users\\alexm\\anaconda3\\envs\\learn-env\\lib\\site-packages\\scipy\\optimize\\linesearch.py:327: LineSearchWarning: The line search algorithm did not converge\n",
      "  warn('The line search algorithm did not converge', LineSearchWarning)\n",
      "C:\\Users\\alexm\\anaconda3\\envs\\learn-env\\lib\\site-packages\\scipy\\optimize\\linesearch.py:477: LineSearchWarning: The line search algorithm did not converge\n",
      "  warn('The line search algorithm did not converge', LineSearchWarning)\n",
      "C:\\Users\\alexm\\anaconda3\\envs\\learn-env\\lib\\site-packages\\scipy\\optimize\\linesearch.py:327: LineSearchWarning: The line search algorithm did not converge\n",
      "  warn('The line search algorithm did not converge', LineSearchWarning)\n",
      "C:\\Users\\alexm\\anaconda3\\envs\\learn-env\\lib\\site-packages\\scipy\\optimize\\linesearch.py:477: LineSearchWarning: The line search algorithm did not converge\n",
      "  warn('The line search algorithm did not converge', LineSearchWarning)\n",
      "C:\\Users\\alexm\\anaconda3\\envs\\learn-env\\lib\\site-packages\\scipy\\optimize\\linesearch.py:327: LineSearchWarning: The line search algorithm did not converge\n",
      "  warn('The line search algorithm did not converge', LineSearchWarning)\n",
      "C:\\Users\\alexm\\anaconda3\\envs\\learn-env\\lib\\site-packages\\scipy\\optimize\\linesearch.py:477: LineSearchWarning: The line search algorithm did not converge\n",
      "  warn('The line search algorithm did not converge', LineSearchWarning)\n",
      "C:\\Users\\alexm\\anaconda3\\envs\\learn-env\\lib\\site-packages\\scipy\\optimize\\linesearch.py:327: LineSearchWarning: The line search algorithm did not converge\n",
      "  warn('The line search algorithm did not converge', LineSearchWarning)\n",
      "C:\\Users\\alexm\\anaconda3\\envs\\learn-env\\lib\\site-packages\\scipy\\optimize\\linesearch.py:477: LineSearchWarning: The line search algorithm did not converge\n",
      "  warn('The line search algorithm did not converge', LineSearchWarning)\n",
      "C:\\Users\\alexm\\anaconda3\\envs\\learn-env\\lib\\site-packages\\scipy\\optimize\\linesearch.py:327: LineSearchWarning: The line search algorithm did not converge\n",
      "  warn('The line search algorithm did not converge', LineSearchWarning)\n"
     ]
    },
    {
     "name": "stdout",
     "output_type": "stream",
     "text": [
      "Results of Cross-Validation:\n",
      "\n",
      "Average accuracy: 0.7482405789867732        +/- 0.002876588776325215\n",
      "Average precision: 0.7899754747252306        +/- 0.0018110771791149851\n",
      "**Average recall: 0.6114927876471423        +/- 0.007515241444927253\n",
      "Average f1 score: 0.6893456308149278        +/- 0.005038490689583234\n",
      "Average roc_auc: 0.8202122551030652        +/- 0.0032577240113827056\n",
      "\n",
      "++++++++++++++++++++\n"
     ]
    },
    {
     "name": "stderr",
     "output_type": "stream",
     "text": [
      "C:\\Users\\alexm\\anaconda3\\envs\\learn-env\\lib\\site-packages\\scipy\\optimize\\linesearch.py:437: LineSearchWarning: Rounding errors prevent the line search from converging\n",
      "  warn(msg, LineSearchWarning)\n",
      "C:\\Users\\alexm\\anaconda3\\envs\\learn-env\\lib\\site-packages\\scipy\\optimize\\linesearch.py:327: LineSearchWarning: The line search algorithm did not converge\n",
      "  warn('The line search algorithm did not converge', LineSearchWarning)\n",
      "C:\\Users\\alexm\\anaconda3\\envs\\learn-env\\lib\\site-packages\\sklearn\\utils\\optimize.py:204: UserWarning: Line Search failed\n",
      "  warnings.warn('Line Search failed')\n"
     ]
    },
    {
     "name": "stdout",
     "output_type": "stream",
     "text": [
      "\n",
      "Results of Train-Test Split Validation:\n",
      "\n",
      "Training Scores:\n",
      "Train accuracy: 0.7497878712253556\n",
      "Train precision: 0.7913441238564392\n",
      "**Train recall: 0.6142794712116246\n",
      "Train f1 score: 0.6916594907122647\n",
      "Train roc_auc: 0.7390226615385452\n",
      "\n",
      "<><><><><><><><><><>\n",
      "\n",
      "Testing Scores:\n",
      "Test accuracy: 0.7425320056899004\n",
      "Test precision: 0.7816694630872483\n",
      "**Test recall: 0.6084897959183674\n",
      "Test f1 score: 0.6842926650142293\n",
      "Test roc_auc: 0.7322731059237855\n"
     ]
    },
    {
     "data": {
      "image/png": "[encoded data removed]",
      "text/plain": [
       "<Figure size 432x288 with 2 Axes>"
      ]
     },
     "metadata": {
      "needs_background": "light"
     },
     "output_type": "display_data"
    }
   ],
   "source": [
    "logreg3 = Pipeline(steps=[\n",
    "    ('preprocessor', preprocessor),\n",
    "    ('classifier', LogisticRegression(random_state=396, solver = 'newton-cg', max_iter=1000))\n",
    "])\n",
    "\n",
    "evaluate(logreg3, X_train, X_test, y_train, y_test, grid_search=False, cv=5)"
   ]
  },
  {
   "cell_type": "code",
   "execution_count": 20,
   "metadata": {},
   "outputs": [
    {
     "name": "stdout",
     "output_type": "stream",
     "text": [
      "Results of Cross-Validation:\n",
      "\n",
      "Average accuracy: 0.7402295982031445        +/- 0.0027783464737094967\n",
      "Average precision: 0.7833084394457173        +/- 0.0033639162026954227\n",
      "**Average recall: 0.5963618765767442        +/- 0.005002666292811779\n",
      "Average f1 score: 0.6771615995549407        +/- 0.004077426228519864\n",
      "Average roc_auc: 0.8121279677780825        +/- 0.0053279546931561846\n",
      "\n",
      "++++++++++++++++++++\n",
      "\n",
      "Results of Train-Test Split Validation:\n",
      "\n",
      "Training Scores:\n",
      "Train accuracy: 0.7335163463938108\n",
      "Train precision: 0.7814344746162928\n",
      "**Train recall: 0.578498852835136\n",
      "Train f1 score: 0.6648251616548433\n",
      "Train roc_auc: 0.7212012735045006\n",
      "\n",
      "<><><><><><><><><><>\n",
      "\n",
      "Testing Scores:\n",
      "Test accuracy: 0.7285318559556787\n",
      "Test precision: 0.7769895810241632\n",
      "**Test recall: 0.5722448979591837\n",
      "Test f1 score: 0.6590823617901467\n",
      "Test roc_auc: 0.7165704578291493\n"
     ]
    },
    {
     "data": {
      "image/png": "[encoded data removed]",
      "text/plain": [
       "<Figure size 432x288 with 2 Axes>"
      ]
     },
     "metadata": {
      "needs_background": "light"
     },
     "output_type": "display_data"
    }
   ],
   "source": [
    "logreg4 = Pipeline(steps=[\n",
    "    ('preprocessor', preprocessor),\n",
    "    ('classifier', LogisticRegression(random_state=396, max_iter=500))\n",
    "])\n",
    "\n",
    "evaluate(logreg4, X_train, X_test, y_train, y_test, cv=5, grid_search=False)"
   ]
  },
  {
   "cell_type": "code",
   "execution_count": null,
   "metadata": {},
   "outputs": [],
   "source": []
  },
  {
   "cell_type": "code",
   "execution_count": null,
   "metadata": {},
   "outputs": [],
   "source": [
    "# test_dict = {'dec_tree':KNeighborsClassifier(), 'lr':LogisticRegression()}\n",
    "\n",
    "def basic_model_tests(X, y, test_dict):\n",
    "    '''Takes in X and y data as well as dictionary of name:test entries to run'''\n",
    "    scores = []\n",
    "    for key, value in test_dict.items():\n",
    "        test_model_loop = Pipeline(steps=[\n",
    "            (key, value)\n",
    "        ])\n",
    "        test_model_loop.fit(X, y)\n",
    "        score = test_model_loop.score(X, y)\n",
    "        scores.append({'name':key, 'type':value, 'score':score})\n",
    "    return scores"
   ]
  },
  {
   "cell_type": "code",
   "execution_count": null,
   "metadata": {},
   "outputs": [],
   "source": [
    "def model_tests(X, y, test_list):\n",
    "    '''Takes in X and y data as well as a list of dictionaries'''\n",
    "    scores = []\n",
    "    for x in test_list:\n",
    "        test_model_loop = Pipeline(steps=[\n",
    "            (x['name'], x['type'])\n",
    "        ])\n",
    "        test_model_loop.fit(X, y)\n",
    "#         score = test_model_loop.score(X, y)\n",
    "#         scores.append({'name':x['name'], 'type':x['type'], 'score':score})\n",
    "        \n",
    "        gs_pipe = GridSearchCV(estimator=test_model_loop, param_grid=x['params'])\n",
    "        gs_pipe.fit(X,y)\n",
    "        print('Best Params: {}'.format(gs_pipe.best_params_))\n",
    "        print('Best Score: {}'.format(gs_pipe.best_score_))\n",
    "\n",
    "        scores = gs_pipe.cv_results_\n",
    "    return scores"
   ]
  },
  {
   "cell_type": "code",
   "execution_count": null,
   "metadata": {},
   "outputs": [],
   "source": []
  },
  {
   "cell_type": "code",
   "execution_count": 21,
   "metadata": {},
   "outputs": [],
   "source": [
    "# dt_test_list = [{'name':'dt', 'type':DecisionTreeClassifier(), 'params':{'dt__random_state': [396],\n",
    "#                                                                       'dt__criterion': ['gini', 'entropy'],\n",
    "#                                                                      'dt__max_features': [None, 'sqrt', 'log2'],\n",
    "#                                                                      'dt__max_depth':[20,40,80]}}]\n",
    "# #fit_intercept=False, C= 1e12, solver='liblinear'"
   ]
  },
  {
   "cell_type": "code",
   "execution_count": null,
   "metadata": {
    "scrolled": true
   },
   "outputs": [],
   "source": [
    "# dt_tests = model_tests(X_train_processed, y_train, test_list)"
   ]
  },
  {
   "cell_type": "code",
   "execution_count": 22,
   "metadata": {},
   "outputs": [
    {
     "name": "stdout",
     "output_type": "stream",
     "text": [
      "Results of Cross-Validation:\n",
      "\n",
      "Average accuracy: 0.7667831295233342        +/- 0.004808871056290031\n",
      "Average precision: 0.7629096456331637        +/- 0.011803755176704223\n",
      "**Average recall: 0.710751032589813        +/- 0.01002098532737539\n",
      "Average f1 score: 0.7357724132902197        +/- 0.004163005391149528\n",
      "Average roc_auc: 0.78036064062519        +/- 0.008118255845425424\n",
      "\n",
      "++++++++++++++++++++\n",
      "\n",
      "Results of Train-Test Split Validation:\n",
      "\n",
      "Training Scores:\n",
      "Train accuracy: 0.9294983778387821\n",
      "Train precision: 0.9495324931761426\n",
      "**Train recall: 0.8931497869550967\n",
      "Train f1 score: 0.920478536242083\n",
      "Train roc_auc: 0.9266107324777322\n",
      "\n",
      "<><><><><><><><><><>\n",
      "\n",
      "Testing Scores:\n",
      "Test accuracy: 0.7676873549449726\n",
      "Test precision: 0.7624175060784995\n",
      "**Test recall: 0.7167346938775511\n",
      "Test f1 score: 0.7388706555583608\n",
      "Test roc_auc: 0.7637877009210765\n"
     ]
    },
    {
     "data": {
      "image/png": "[encoded data removed]",
      "text/plain": [
       "<Figure size 432x288 with 2 Axes>"
      ]
     },
     "metadata": {
      "needs_background": "light"
     },
     "output_type": "display_data"
    }
   ],
   "source": [
    "dt2 = Pipeline(steps=[\n",
    "    ('preprocessor', preprocessor),\n",
    "    ('classifier', DecisionTreeClassifier(random_state=396, criterion='gini', max_depth=20))\n",
    "])\n",
    "\n",
    "evaluate(dt2, X_train, X_test, y_train, y_test, cv=5, grid_search=False)"
   ]
  },
  {
   "cell_type": "code",
   "execution_count": null,
   "metadata": {},
   "outputs": [],
   "source": []
  },
  {
   "cell_type": "code",
   "execution_count": 23,
   "metadata": {
    "scrolled": true
   },
   "outputs": [
    {
     "name": "stdout",
     "output_type": "stream",
     "text": [
      "Results of Cross-Validation:\n",
      "\n",
      "Average accuracy: 0.7513351634639381        +/- 0.004048313089809771\n",
      "Average precision: 0.8144512911659344        +/- 0.012650507838438409\n",
      "**Average recall: 0.5907905087217606        +/- 0.020033101916462074\n",
      "Average f1 score: 0.6844450934580009        +/- 0.009960356481590544\n",
      "Average roc_auc: 0.8087657406247469        +/- 0.009053511381641321\n",
      "\n",
      "++++++++++++++++++++\n",
      "\n",
      "Results of Train-Test Split Validation:\n",
      "\n",
      "Training Scores:\n",
      "Train accuracy: 0.7787871225355628\n",
      "Train precision: 0.842051876539632\n",
      "**Train recall: 0.6348738118649623\n",
      "Train f1 score: 0.7239317304098668\n",
      "Train roc_auc: 0.7673542005474416\n",
      "\n",
      "<><><><><><><><><><>\n",
      "\n",
      "Testing Scores:\n",
      "Test accuracy: 0.7536123380998727\n",
      "Test precision: 0.8091186736474695\n",
      "**Test recall: 0.6055510204081632\n",
      "Test f1 score: 0.6926883929405173\n",
      "Test roc_auc: 0.7422804880801879\n"
     ]
    },
    {
     "data": {
      "image/png": "[encoded data removed]",
      "text/plain": [
       "<Figure size 432x288 with 2 Axes>"
      ]
     },
     "metadata": {
      "needs_background": "light"
     },
     "output_type": "display_data"
    }
   ],
   "source": [
    "dt3 = Pipeline(steps=[\n",
    "    ('preprocessor', preprocessor),\n",
    "    ('classifier', DecisionTreeClassifier(random_state=396, criterion='gini', max_depth=10))\n",
    "])\n",
    "\n",
    "evaluate(dt3, X_train, X_test, y_train, y_test, grid_search=False, cv=5)"
   ]
  },
  {
   "cell_type": "code",
   "execution_count": 24,
   "metadata": {},
   "outputs": [
    {
     "name": "stdout",
     "output_type": "stream",
     "text": [
      "Results of Cross-Validation:\n",
      "\n",
      "Average accuracy: 0.7600948340404292        +/- 0.005363346223786279\n",
      "Average precision: 0.7380681541140518        +/- 0.007759109912472844\n",
      "**Average recall: 0.7362614274093129        +/- 0.006398764904479241\n",
      "Average f1 score: 0.7371336065961267        +/- 0.005308276432503022\n",
      "Average roc_auc: 0.7602808724438996        +/- 0.0044669571149520415\n",
      "\n",
      "++++++++++++++++++++\n",
      "\n",
      "Results of Train-Test Split Validation:\n",
      "\n",
      "Training Scores:\n",
      "Train accuracy: 0.9912652857499377\n",
      "Train precision: 0.9927011305015915\n",
      "**Train recall: 0.9881459630722168\n",
      "Train f1 score: 0.9904183092422252\n",
      "Train roc_auc: 0.9910174770332597\n",
      "\n",
      "<><><><><><><><><><>\n",
      "\n",
      "Testing Scores:\n",
      "Test accuracy: 0.7601257767462754\n",
      "Test precision: 0.738526865915401\n",
      "**Test recall: 0.7382857142857143\n",
      "Test f1 score: 0.7384062704114958\n",
      "Test roc_auc: 0.7584542509481671\n"
     ]
    },
    {
     "data": {
      "image/png": "[encoded data removed]",
      "text/plain": [
       "<Figure size 432x288 with 2 Axes>"
      ]
     },
     "metadata": {
      "needs_background": "light"
     },
     "output_type": "display_data"
    }
   ],
   "source": [
    "dt4 = Pipeline(steps=[\n",
    "    ('preprocessor', preprocessor),\n",
    "    ('classifier', DecisionTreeClassifier(random_state=396, criterion='gini', max_depth=30))\n",
    "])\n",
    "\n",
    "evaluate(dt4, X_train, X_test, y_train, y_test, grid_search=False, cv=5)"
   ]
  },
  {
   "cell_type": "code",
   "execution_count": null,
   "metadata": {},
   "outputs": [],
   "source": [
    "\n",
    "# dt_tests_df = pd.DataFrame(dt_tests)"
   ]
  },
  {
   "cell_type": "code",
   "execution_count": null,
   "metadata": {},
   "outputs": [],
   "source": [
    "# dt_tests_df.head()"
   ]
  },
  {
   "cell_type": "code",
   "execution_count": 25,
   "metadata": {},
   "outputs": [],
   "source": [
    "rf_test_list = {\n",
    "    'rf__n_estimators': [10, 50, 100],\n",
    "    'rf__criterion': ['gini', 'entropy'],\n",
    "    'rf__max_depth':[None, 5, 20],\n",
    "    'rf__class_weight' : [None, 'balanced']}\n",
    "#fit_intercept=False, C= 1e12, solver='liblinear'"
   ]
  },
  {
   "cell_type": "code",
   "execution_count": 26,
   "metadata": {},
   "outputs": [],
   "source": [
    "pipeline = Pipeline([\n",
    "    ('preprocessor', preprocessor),\n",
    "    ('rf', RandomForestClassifier())\n",
    "])"
   ]
  },
  {
   "cell_type": "code",
   "execution_count": 16,
   "metadata": {},
   "outputs": [],
   "source": [
    "cv = GridSearchCV(pipeline, param_grid=rf_test_list)\n",
    "cv.fit(X_train, y_train)"
   ]
  },
  {
   "cell_type": "code",
   "execution_count": 17,
   "metadata": {},
   "outputs": [
    {
     "data": {
      "text/plain": [
       "GridSearchCV(estimator=Pipeline(steps=[('preprocessor',\n",
       "                                        ColumnTransformer(transformers=[('numeric',\n",
       "                                                                         Pipeline(steps=[('ii',\n",
       "                                                                                          IterativeImputer(add_indicator=True,\n",
       "                                                                                                           random_state=396)),\n",
       "                                                                                         ('mm',\n",
       "                                                                                          MinMaxScaler())]),\n",
       "                                                                         ['id',\n",
       "                                                                          'amount_tsh',\n",
       "                                                                          'gps_height',\n",
       "                                                                          'longitude',\n",
       "                                                                          'latitude',\n",
       "                                                                          'population',\n",
       "                                                                          'construction_year']),\n",
       "                                                                        ('small_cat',\n",
       "                                                                         Pipeline(steps=[('ohe',\n",
       "                                                                                          OneHotEncoder(handle_unkn...\n",
       "                                                                          'waterpoint_type_group']),\n",
       "                                                                        ('large_cat',\n",
       "                                                                         Pipeline(steps=[('count',\n",
       "                                                                                          CountEncoder(combine_min_nan_groups=True,\n",
       "                                                                                                       min_group_name='Other',\n",
       "                                                                                                       min_group_size=10))]),\n",
       "                                                                         ['funder',\n",
       "                                                                          'installer',\n",
       "                                                                          'lga'])])),\n",
       "                                       ('rf', RandomForestClassifier())]),\n",
       "             param_grid={'rf__class_weight': [None, 'balanced'],\n",
       "                         'rf__criterion': ['gini', 'entropy'],\n",
       "                         'rf__max_depth': [None, 5, 20],\n",
       "                         'rf__n_estimators': [10, 50, 100]})"
      ]
     },
     "execution_count": 17,
     "metadata": {},
     "output_type": "execute_result"
    }
   ],
   "source": []
  },
  {
   "cell_type": "code",
   "execution_count": 19,
   "metadata": {},
   "outputs": [
    {
     "name": "stdout",
     "output_type": "stream",
     "text": [
      "Best Params: {'rf__class_weight': 'balanced', 'rf__criterion': 'entropy', 'rf__max_depth': 20, 'rf__n_estimators': 100}\n",
      "Best Score: 0.8163963064636885\n"
     ]
    }
   ],
   "source": [
    "print('Best Params: {}'.format(cv.best_params_))\n",
    "print('Best Score: {}'.format(cv.best_score_))\n",
    "\n",
    "cv_scores = cv.cv_results_\n",
    " "
   ]
  },
  {
   "cell_type": "markdown",
   "metadata": {},
   "source": [
    "Output from above: Best Params: {'rf__class_weight': 'balanced', 'rf__criterion': 'entropy', 'rf__max_depth': 20, 'rf__n_estimators': 100}\n",
    "Best Score: 0.8163963064636885"
   ]
  },
  {
   "cell_type": "code",
   "execution_count": 27,
   "metadata": {},
   "outputs": [],
   "source": [
    "rf_test2_list = {\n",
    "    'rf__n_estimators': [125,150],\n",
    "    'rf__criterion': ['entropy'],\n",
    "    'rf__max_depth':[25,50],\n",
    "    'rf__class_weight' : ['balanced']}"
   ]
  },
  {
   "cell_type": "code",
   "execution_count": 21,
   "metadata": {},
   "outputs": [
    {
     "data": {
      "text/plain": [
       "GridSearchCV(estimator=Pipeline(steps=[('preprocessor',\n",
       "                                        ColumnTransformer(transformers=[('numeric',\n",
       "                                                                         Pipeline(steps=[('ii',\n",
       "                                                                                          IterativeImputer(add_indicator=True,\n",
       "                                                                                                           random_state=396)),\n",
       "                                                                                         ('mm',\n",
       "                                                                                          MinMaxScaler())]),\n",
       "                                                                         ['id',\n",
       "                                                                          'amount_tsh',\n",
       "                                                                          'gps_height',\n",
       "                                                                          'longitude',\n",
       "                                                                          'latitude',\n",
       "                                                                          'population',\n",
       "                                                                          'construction_year']),\n",
       "                                                                        ('small_cat',\n",
       "                                                                         Pipeline(steps=[('ohe',\n",
       "                                                                                          OneHotEncoder(handle_unkn...\n",
       "                                                                          'source_class',\n",
       "                                                                          'waterpoint_type_group']),\n",
       "                                                                        ('large_cat',\n",
       "                                                                         Pipeline(steps=[('count',\n",
       "                                                                                          CountEncoder(combine_min_nan_groups=True,\n",
       "                                                                                                       min_group_name='Other',\n",
       "                                                                                                       min_group_size=10))]),\n",
       "                                                                         ['funder',\n",
       "                                                                          'installer',\n",
       "                                                                          'lga'])])),\n",
       "                                       ('rf', RandomForestClassifier())]),\n",
       "             param_grid={'rf__class_weight': ['balanced'],\n",
       "                         'rf__criterion': ['entropy'],\n",
       "                         'rf__max_depth': [25, 50],\n",
       "                         'rf__n_estimators': [125, 150]})"
      ]
     },
     "execution_count": 21,
     "metadata": {},
     "output_type": "execute_result"
    }
   ],
   "source": [
    "cv2 = GridSearchCV(pipeline, param_grid=rf_test2_list)\n",
    "cv2.fit(X_train, y_train)"
   ]
  },
  {
   "cell_type": "code",
   "execution_count": 22,
   "metadata": {},
   "outputs": [
    {
     "name": "stdout",
     "output_type": "stream",
     "text": [
      "Best Params: {'rf__class_weight': 'balanced', 'rf__criterion': 'entropy', 'rf__max_depth': 25, 'rf__n_estimators': 150}\n",
      "Best Score: 0.816446219116546\n"
     ]
    }
   ],
   "source": [
    "print('Best Params: {}'.format(cv2.best_params_))\n",
    "print('Best Score: {}'.format(cv2.best_score_))\n",
    "\n",
    "cv2_scores = cv2.cv_results_\n",
    " "
   ]
  },
  {
   "cell_type": "markdown",
   "metadata": {},
   "source": [
    "Output from above: Best Params: {'rf__class_weight': 'balanced', 'rf__criterion': 'entropy', 'rf__max_depth': 25, 'rf__n_estimators': 150}\n",
    "Best Score: 0.816446219116546"
   ]
  },
  {
   "cell_type": "code",
   "execution_count": 28,
   "metadata": {},
   "outputs": [],
   "source": [
    "estimator = Pipeline([\n",
    "    ('preprocessor', preprocessor),\n",
    "    ('rf', RandomForestClassifier(class_weight='balanced', criterion='entropy', max_depth=5, n_estimators=200))\n",
    "])"
   ]
  },
  {
   "cell_type": "code",
   "execution_count": 29,
   "metadata": {},
   "outputs": [
    {
     "name": "stdout",
     "output_type": "stream",
     "text": [
      "Results of Cross-Validation:\n",
      "\n",
      "Average accuracy: 0.7373596206638383        +/- 0.004437316248123621\n",
      "Average precision: 0.7720927624358531        +/- 0.004013340337579525\n",
      "**Average recall: 0.6031349377492339        +/- 0.010638972672257375\n",
      "Average f1 score: 0.6771892321438824        +/- 0.007460839883088123\n",
      "Average roc_auc: 0.8104246955376488        +/- 0.0041031790164184085\n",
      "\n",
      "++++++++++++++++++++\n",
      "\n",
      "Results of Train-Test Split Validation:\n",
      "\n",
      "Training Scores:\n",
      "Train accuracy: 0.7406538557524333\n",
      "Train precision: 0.7897203104407673\n",
      "**Train recall: 0.5892057248989402\n",
      "Train f1 score: 0.6748842447753722\n",
      "Train roc_auc: 0.7286223441623906\n",
      "\n",
      "<><><><><><><><><><>\n",
      "\n",
      "Testing Scores:\n",
      "Test accuracy: 0.7372164408175489\n",
      "Test precision: 0.7862929713159623\n",
      "**Test recall: 0.5862857142857143\n",
      "Test f1 score: 0.6717171717171717\n",
      "Test roc_auc: 0.7256649810366623\n"
     ]
    },
    {
     "data": {
      "image/png": "[encoded data removed]",
      "text/plain": [
       "<Figure size 432x288 with 2 Axes>"
      ]
     },
     "metadata": {
      "needs_background": "light"
     },
     "output_type": "display_data"
    }
   ],
   "source": [
    "evaluate(estimator, X_train, X_test, y_train, y_test, cv=5, grid_search=False)"
   ]
  },
  {
   "cell_type": "code",
   "execution_count": 30,
   "metadata": {},
   "outputs": [],
   "source": [
    "estimator2 = Pipeline([\n",
    "    ('preprocessor', preprocessor),\n",
    "    ('rf', RandomForestClassifier(class_weight='balanced', criterion='entropy', max_depth=10, n_estimators=150))\n",
    "])"
   ]
  },
  {
   "cell_type": "code",
   "execution_count": 32,
   "metadata": {},
   "outputs": [
    {
     "name": "stdout",
     "output_type": "stream",
     "text": [
      "Results of Cross-Validation:\n",
      "\n",
      "Average accuracy: 0.7788619915148491        +/- 0.0027727365934277276\n",
      "Average precision: 0.814016437333698        +/- 0.003370961178799237\n",
      "**Average recall: 0.6687962524676312        +/- 0.009538832594568523\n",
      "Average f1 score: 0.7342431972612486        +/- 0.005077345229238339\n",
      "Average roc_auc: 0.8591773892582232        +/- 0.0029279138803406696\n",
      "\n",
      "++++++++++++++++++++\n",
      "\n",
      "Results of Train-Test Split Validation:\n",
      "\n",
      "Training Scores:\n",
      "Train accuracy: 0.79940104816571\n",
      "Train precision: 0.8432736025675315\n",
      "**Train recall: 0.6889544411668306\n",
      "Train f1 score: 0.7583428537069328\n",
      "Train roc_auc: 0.7906268254354645\n",
      "\n",
      "<><><><><><><><><><>\n",
      "\n",
      "Testing Scores:\n",
      "Test accuracy: 0.7798158269072396\n",
      "Test precision: 0.8181454836131095\n",
      "**Test recall: 0.6684081632653062\n",
      "Test f1 score: 0.7357354658999012\n",
      "Test roc_auc: 0.7712892586238035\n"
     ]
    },
    {
     "data": {
      "image/png": "[encoded data removed]",
      "text/plain": [
       "<Figure size 432x288 with 2 Axes>"
      ]
     },
     "metadata": {
      "needs_background": "light"
     },
     "output_type": "display_data"
    }
   ],
   "source": [
    "evaluate(estimator2, X_train, X_test, y_train, y_test, cv=5, grid_search=False)"
   ]
  },
  {
   "cell_type": "code",
   "execution_count": 33,
   "metadata": {},
   "outputs": [],
   "source": [
    "estimator_rf_basic = Pipeline([\n",
    "    ('preprocessor', preprocessor),\n",
    "    ('rf', RandomForestClassifier(random_state=369))\n",
    "])"
   ]
  },
  {
   "cell_type": "code",
   "execution_count": 35,
   "metadata": {},
   "outputs": [
    {
     "name": "stdout",
     "output_type": "stream",
     "text": [
      "Results of Cross-Validation:\n",
      "\n",
      "Average accuracy: 0.8134015472922386        +/- 0.003941677756501877\n",
      "Average precision: 0.8226913986571345        +/- 0.006334886670623301\n",
      "**Average recall: 0.7541788652767722        +/- 0.009625544416807096\n",
      "Average f1 score: 0.7868915512581947        +/- 0.005123214517301098\n",
      "Average roc_auc: 0.8918058322566587        +/- 0.002209489528770924\n",
      "\n",
      "++++++++++++++++++++\n",
      "\n",
      "Results of Train-Test Split Validation:\n",
      "\n",
      "Training Scores:\n",
      "Train accuracy: 0.9999251310207138\n",
      "Train precision: 1.0\n",
      "**Train recall: 0.9998361193051458\n",
      "Train f1 score: 0.9999180529378021\n",
      "Train roc_auc: 0.999918059652573\n",
      "\n",
      "<><><><><><><><><><>\n",
      "\n",
      "Testing Scores:\n",
      "Test accuracy: 0.8197199970053156\n",
      "Test precision: 0.8273736128236745\n",
      "**Test recall: 0.7668571428571429\n",
      "Test f1 score: 0.7959667852906287\n",
      "Test roc_auc: 0.8156741466498104\n"
     ]
    },
    {
     "data": {
      "image/png": "[encoded data removed]",
      "text/plain": [
       "<Figure size 432x288 with 2 Axes>"
      ]
     },
     "metadata": {
      "needs_background": "light"
     },
     "output_type": "display_data"
    }
   ],
   "source": [
    "evaluate(estimator_rf_basic, X_train, X_test, y_train, y_test, cv=5, grid_search=False)"
   ]
  },
  {
   "cell_type": "code",
   "execution_count": null,
   "metadata": {},
   "outputs": [],
   "source": []
  },
  {
   "cell_type": "code",
   "execution_count": 38,
   "metadata": {},
   "outputs": [],
   "source": [
    "estimator_rf_best = Pipeline([\n",
    "    ('preprocessor', preprocessor),\n",
    "    ('rf', RandomForestClassifier(criterion='entropy', max_depth=20, n_estimators=100,  random_state=369))\n",
    "])"
   ]
  },
  {
   "cell_type": "code",
   "execution_count": 39,
   "metadata": {},
   "outputs": [
    {
     "name": "stdout",
     "output_type": "stream",
     "text": [
      "Results of Cross-Validation:\n",
      "\n",
      "Average accuracy: 0.8149737958572499        +/- 0.003961222343778333\n",
      "Average precision: 0.8461435807672849        +/- 0.003972011236290002\n",
      "**Average recall: 0.7272474221990363        +/- 0.008978221827099694\n",
      "Average f1 score: 0.7821714162390789        +/- 0.005596031071483234\n",
      "Average roc_auc: 0.8949406589234747        +/- 0.0017927355345901891\n",
      "\n",
      "++++++++++++++++++++\n",
      "\n",
      "Results of Train-Test Split Validation:\n",
      "\n",
      "Training Scores:\n",
      "Train accuracy: 0.9409034190167207\n",
      "Train precision: 0.9789638177665585\n",
      "**Train recall: 0.8897629192614444\n",
      "Train f1 score: 0.9322344322344323\n",
      "Train roc_auc: 0.936840658307436\n",
      "\n",
      "<><><><><><><><><><>\n",
      "\n",
      "Testing Scores:\n",
      "Test accuracy: 0.8185221232312645\n",
      "Test precision: 0.8481655691439323\n",
      "**Test recall: 0.736\n",
      "Test f1 score: 0.788111888111888\n",
      "Test roc_auc: 0.8122063053097345\n"
     ]
    },
    {
     "data": {
      "image/png": "[encoded data removed]",
      "text/plain": [
       "<Figure size 432x288 with 2 Axes>"
      ]
     },
     "metadata": {
      "needs_background": "light"
     },
     "output_type": "display_data"
    }
   ],
   "source": [
    "evaluate(estimator_rf_best, X_train, X_test, y_train, y_test, cv=5, grid_search=False)"
   ]
  },
  {
   "cell_type": "code",
   "execution_count": null,
   "metadata": {},
   "outputs": [],
   "source": [
    "def evaluate2(estimator, X_tr, X_te, y_tr, y_te, cross_val=True, cv=5):\n",
    "    '''\n",
    "    \n",
    "    '''\n",
    "    if cross_val == True:\n",
    "        output = cross_validate(estimator, X_tr, y_tr, cv=cv,\n",
    "                                scoring=['accuracy', 'precision','recall', 'f1', 'roc_auc'])\n",
    "\n",
    "        print(f'Average accuracy: {output[\"test_accuracy\"].mean()}\\\n",
    "        +/- {output[\"test_accuracy\"].std()}')\n",
    "        print(f'Average precision: {output[\"test_precision\"].mean()}\\\n",
    "        +/- {output[\"test_precision\"].std()}')\n",
    "        print(f'Average recall: {output[\"test_recall\"].mean()}\\\n",
    "        +/- {output[\"test_recall\"].std()}')\n",
    "        print(f'Average f1 score: {output[\"test_f1\"].mean()}\\\n",
    "        +/- {output[\"test_f1\"].std()}')\n",
    "        print(f'Average roc_auc: {output[\"test_roc_auc\"].mean()}\\\n",
    "        +/- {output[\"test_roc_auc\"].std()}')\n",
    "    \n",
    "    else:\n",
    "        estimator.fit(X_tr, y_tr)\n",
    "        tr_preds = estimator.predict(X_tr)\n",
    "        te_preds = estimator.predict(X_te)\n",
    "    \n",
    "        categories = ['Functional', 'Non-Functional']\n",
    "        plot_confusion_matrix(estimator, X_te, y_te, display_labels= categories)\n",
    "    \n",
    "        print(\"Training Scores:\")\n",
    "        print(f\"Train accuracy: {accuracy_score(y_tr, tr_preds)}\")\n",
    "        print(f\"Train precision: {precision_score(y_tr, tr_preds)}\")\n",
    "        print(f\"Train recall: {recall_score(y_tr, tr_preds)}\")\n",
    "        print(f\"Train f1 score: {f1_score(y_tr, tr_preds)}\")\n",
    "        print(f\"Train roc_auc: {roc_auc_score(y_tr, tr_preds)}\")\n",
    "\n",
    "        print(\"<>\"*10)\n",
    "        print(\"Testing Scores:\")\n",
    "        print(f\"Test accuracy: {accuracy_score(y_te, te_preds)}\")\n",
    "        print(f\"Test precision: {precision_score(y_te, te_preds)}\")\n",
    "        print(f\"Test recall: {recall_score(y_te, te_preds)}\")\n",
    "        print(f\"Test f1 score: {f1_score(y_te, te_preds)}\")\n",
    "        print(f\"Test roc_auc: {roc_auc_score(y_te, te_preds)}\")"
   ]
  }
 ],
 "metadata": {
  "kernelspec": {
   "display_name": "Python (learn-env)",
   "language": "python",
   "name": "learn-env"
  },
  "language_info": {
   "codemirror_mode": {
    "name": "ipython",
    "version": 3
   },
   "file_extension": ".py",
   "mimetype": "text/x-python",
   "name": "python",
   "nbconvert_exporter": "python",
   "pygments_lexer": "ipython3",
   "version": "3.8.5"
  }
 },
 "nbformat": 4,
 "nbformat_minor": 4
}
