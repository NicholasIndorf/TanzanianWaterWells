{
 "cells": [
  {
   "cell_type": "markdown",
   "metadata": {},
   "source": [
    "# Tanzanian Water Wells"
   ]
  },
  {
   "cell_type": "code",
   "execution_count": 103,
   "metadata": {},
   "outputs": [],
   "source": [
    "import numpy as np\n",
    "import pandas as pd\n",
    "# settings to display all columns\n",
    "pd.set_option(\"display.max_columns\", None)\n",
    "import matplotlib.pyplot as plt\n",
    "import seaborn as sns"
   ]
  },
  {
   "cell_type": "markdown",
   "metadata": {},
   "source": [
    "## Project Overview\n",
    "Our group has been hired by Tanzania's Ministry of Water to develop a classification model that will assist Tanzania's Ministry of Water in predicting the status of the waterpoints they oversee. Although the waterpoint statuses could be described in a number of ways - e.g. whether it is functional but needs repair - our model will perform a binary classification to determine if the waterpoint is functioning as exepected or not.\n",
    "\n",
    "\n",
    "## Business Problem\n",
    "While the country of Tanzania has abundant water resources including Lake Victoria, the largest lake in Africa, nearly 50% of the waterpoints overseen by the Ministry of Water are non-functional, leaving large segments of the population without a reliable or potable source of water. The Ministry has decided to address this issue by having a predicitve model created that will allow them to identify the functionality of waterpoints. The model needed to take into consideration the fact that if wells were incorrectly identified as being functional then communities would be left without water, and conversely if the model identified working wells as broken the Ministry would not be able to allocate their resources effectively. Since this model is being used in a purely predictive context, its complexity is irrelevant -- it only matters how well it optimizes on these points. Since communities without water is the more tragic of the two considerations, we focused on optimizing for correctly identifying non-functional wells when they are indeed non-functional. This yielded our 'postive' target, being non-functional, as well as our metric, which is recall (true non-functional / (true non-functional + false functional))."
   ]
  },
  {
   "cell_type": "markdown",
   "metadata": {},
   "source": [
    "**Note:** 'well', 'pump', 'watersource', etc. etc. are all used interchangeably to refer to the target, which is its function status"
   ]
  },
  {
   "cell_type": "markdown",
   "metadata": {},
   "source": [
    "## Data Understanding\n",
    "\n",
    "This data comes to us from the major stakeholder -- the Tanzanian Ministry of Water. It is intended that our model be as accurate as possible for the data that we're given so that in the future, the Tanzanian government can use new data it has collected in order to predict the function state of a water pump for which it has data.\n",
    "\n",
    "The data is a collection of information on each water pump, split into mostly descriptors and not much quantitative information."
   ]
  },
  {
   "cell_type": "markdown",
   "metadata": {},
   "source": [
    "### Columns\n",
    "\n",
    "There are 40 columns in the dataset, not including our predictor feature 'status'. There are 31 categorical columns and 9 numeric columns. A description of the columns can be found [here](https://www.drivendata.org/competitions/7/pump-it-up-data-mining-the-water-table/page/25/#features_list).\n",
    "\n"
   ]
  },
  {
   "cell_type": "code",
   "execution_count": 104,
   "metadata": {},
   "outputs": [],
   "source": [
    "# import well status and data information\n",
    "status = pd.read_csv('data/status.csv', index_col='id')\n",
    "data = pd.read_csv('data/data.csv', index_col='id')"
   ]
  },
  {
   "cell_type": "code",
   "execution_count": 105,
   "metadata": {},
   "outputs": [],
   "source": [
    "# merge both on pump id\n",
    "df = pd.merge(status, data, on='id')"
   ]
  },
  {
   "cell_type": "code",
   "execution_count": 106,
   "metadata": {
    "scrolled": true
   },
   "outputs": [
    {
     "data": {
      "text/html": [
       "<div>\n",
       "<style scoped>\n",
       "    .dataframe tbody tr th:only-of-type {\n",
       "        vertical-align: middle;\n",
       "    }\n",
       "\n",
       "    .dataframe tbody tr th {\n",
       "        vertical-align: top;\n",
       "    }\n",
       "\n",
       "    .dataframe thead th {\n",
       "        text-align: right;\n",
       "    }\n",
       "</style>\n",
       "<table border=\"1\" class=\"dataframe\">\n",
       "  <thead>\n",
       "    <tr style=\"text-align: right;\">\n",
       "      <th></th>\n",
       "      <th>status_group</th>\n",
       "      <th>amount_tsh</th>\n",
       "      <th>date_recorded</th>\n",
       "      <th>funder</th>\n",
       "      <th>gps_height</th>\n",
       "      <th>installer</th>\n",
       "      <th>longitude</th>\n",
       "      <th>latitude</th>\n",
       "      <th>wpt_name</th>\n",
       "      <th>num_private</th>\n",
       "      <th>basin</th>\n",
       "      <th>subvillage</th>\n",
       "      <th>region</th>\n",
       "      <th>region_code</th>\n",
       "      <th>district_code</th>\n",
       "      <th>lga</th>\n",
       "      <th>ward</th>\n",
       "      <th>population</th>\n",
       "      <th>public_meeting</th>\n",
       "      <th>recorded_by</th>\n",
       "      <th>scheme_management</th>\n",
       "      <th>scheme_name</th>\n",
       "      <th>permit</th>\n",
       "      <th>construction_year</th>\n",
       "      <th>extraction_type</th>\n",
       "      <th>extraction_type_group</th>\n",
       "      <th>extraction_type_class</th>\n",
       "      <th>management</th>\n",
       "      <th>management_group</th>\n",
       "      <th>payment</th>\n",
       "      <th>payment_type</th>\n",
       "      <th>water_quality</th>\n",
       "      <th>quality_group</th>\n",
       "      <th>quantity</th>\n",
       "      <th>quantity_group</th>\n",
       "      <th>source</th>\n",
       "      <th>source_type</th>\n",
       "      <th>source_class</th>\n",
       "      <th>waterpoint_type</th>\n",
       "      <th>waterpoint_type_group</th>\n",
       "    </tr>\n",
       "    <tr>\n",
       "      <th>id</th>\n",
       "      <th></th>\n",
       "      <th></th>\n",
       "      <th></th>\n",
       "      <th></th>\n",
       "      <th></th>\n",
       "      <th></th>\n",
       "      <th></th>\n",
       "      <th></th>\n",
       "      <th></th>\n",
       "      <th></th>\n",
       "      <th></th>\n",
       "      <th></th>\n",
       "      <th></th>\n",
       "      <th></th>\n",
       "      <th></th>\n",
       "      <th></th>\n",
       "      <th></th>\n",
       "      <th></th>\n",
       "      <th></th>\n",
       "      <th></th>\n",
       "      <th></th>\n",
       "      <th></th>\n",
       "      <th></th>\n",
       "      <th></th>\n",
       "      <th></th>\n",
       "      <th></th>\n",
       "      <th></th>\n",
       "      <th></th>\n",
       "      <th></th>\n",
       "      <th></th>\n",
       "      <th></th>\n",
       "      <th></th>\n",
       "      <th></th>\n",
       "      <th></th>\n",
       "      <th></th>\n",
       "      <th></th>\n",
       "      <th></th>\n",
       "      <th></th>\n",
       "      <th></th>\n",
       "      <th></th>\n",
       "    </tr>\n",
       "  </thead>\n",
       "  <tbody>\n",
       "    <tr>\n",
       "      <th>69572</th>\n",
       "      <td>functional</td>\n",
       "      <td>6000.0</td>\n",
       "      <td>2011-03-14</td>\n",
       "      <td>Roman</td>\n",
       "      <td>1390</td>\n",
       "      <td>Roman</td>\n",
       "      <td>34.938093</td>\n",
       "      <td>-9.856322</td>\n",
       "      <td>none</td>\n",
       "      <td>0</td>\n",
       "      <td>Lake Nyasa</td>\n",
       "      <td>Mnyusi B</td>\n",
       "      <td>Iringa</td>\n",
       "      <td>11</td>\n",
       "      <td>5</td>\n",
       "      <td>Ludewa</td>\n",
       "      <td>Mundindi</td>\n",
       "      <td>109</td>\n",
       "      <td>True</td>\n",
       "      <td>GeoData Consultants Ltd</td>\n",
       "      <td>VWC</td>\n",
       "      <td>Roman</td>\n",
       "      <td>False</td>\n",
       "      <td>1999</td>\n",
       "      <td>gravity</td>\n",
       "      <td>gravity</td>\n",
       "      <td>gravity</td>\n",
       "      <td>vwc</td>\n",
       "      <td>user-group</td>\n",
       "      <td>pay annually</td>\n",
       "      <td>annually</td>\n",
       "      <td>soft</td>\n",
       "      <td>good</td>\n",
       "      <td>enough</td>\n",
       "      <td>enough</td>\n",
       "      <td>spring</td>\n",
       "      <td>spring</td>\n",
       "      <td>groundwater</td>\n",
       "      <td>communal standpipe</td>\n",
       "      <td>communal standpipe</td>\n",
       "    </tr>\n",
       "    <tr>\n",
       "      <th>8776</th>\n",
       "      <td>functional</td>\n",
       "      <td>0.0</td>\n",
       "      <td>2013-03-06</td>\n",
       "      <td>Grumeti</td>\n",
       "      <td>1399</td>\n",
       "      <td>GRUMETI</td>\n",
       "      <td>34.698766</td>\n",
       "      <td>-2.147466</td>\n",
       "      <td>Zahanati</td>\n",
       "      <td>0</td>\n",
       "      <td>Lake Victoria</td>\n",
       "      <td>Nyamara</td>\n",
       "      <td>Mara</td>\n",
       "      <td>20</td>\n",
       "      <td>2</td>\n",
       "      <td>Serengeti</td>\n",
       "      <td>Natta</td>\n",
       "      <td>280</td>\n",
       "      <td>NaN</td>\n",
       "      <td>GeoData Consultants Ltd</td>\n",
       "      <td>Other</td>\n",
       "      <td>NaN</td>\n",
       "      <td>True</td>\n",
       "      <td>2010</td>\n",
       "      <td>gravity</td>\n",
       "      <td>gravity</td>\n",
       "      <td>gravity</td>\n",
       "      <td>wug</td>\n",
       "      <td>user-group</td>\n",
       "      <td>never pay</td>\n",
       "      <td>never pay</td>\n",
       "      <td>soft</td>\n",
       "      <td>good</td>\n",
       "      <td>insufficient</td>\n",
       "      <td>insufficient</td>\n",
       "      <td>rainwater harvesting</td>\n",
       "      <td>rainwater harvesting</td>\n",
       "      <td>surface</td>\n",
       "      <td>communal standpipe</td>\n",
       "      <td>communal standpipe</td>\n",
       "    </tr>\n",
       "    <tr>\n",
       "      <th>34310</th>\n",
       "      <td>functional</td>\n",
       "      <td>25.0</td>\n",
       "      <td>2013-02-25</td>\n",
       "      <td>Lottery Club</td>\n",
       "      <td>686</td>\n",
       "      <td>World vision</td>\n",
       "      <td>37.460664</td>\n",
       "      <td>-3.821329</td>\n",
       "      <td>Kwa Mahundi</td>\n",
       "      <td>0</td>\n",
       "      <td>Pangani</td>\n",
       "      <td>Majengo</td>\n",
       "      <td>Manyara</td>\n",
       "      <td>21</td>\n",
       "      <td>4</td>\n",
       "      <td>Simanjiro</td>\n",
       "      <td>Ngorika</td>\n",
       "      <td>250</td>\n",
       "      <td>True</td>\n",
       "      <td>GeoData Consultants Ltd</td>\n",
       "      <td>VWC</td>\n",
       "      <td>Nyumba ya mungu pipe scheme</td>\n",
       "      <td>True</td>\n",
       "      <td>2009</td>\n",
       "      <td>gravity</td>\n",
       "      <td>gravity</td>\n",
       "      <td>gravity</td>\n",
       "      <td>vwc</td>\n",
       "      <td>user-group</td>\n",
       "      <td>pay per bucket</td>\n",
       "      <td>per bucket</td>\n",
       "      <td>soft</td>\n",
       "      <td>good</td>\n",
       "      <td>enough</td>\n",
       "      <td>enough</td>\n",
       "      <td>dam</td>\n",
       "      <td>dam</td>\n",
       "      <td>surface</td>\n",
       "      <td>communal standpipe multiple</td>\n",
       "      <td>communal standpipe</td>\n",
       "    </tr>\n",
       "    <tr>\n",
       "      <th>67743</th>\n",
       "      <td>non functional</td>\n",
       "      <td>0.0</td>\n",
       "      <td>2013-01-28</td>\n",
       "      <td>Unicef</td>\n",
       "      <td>263</td>\n",
       "      <td>UNICEF</td>\n",
       "      <td>38.486161</td>\n",
       "      <td>-11.155298</td>\n",
       "      <td>Zahanati Ya Nanyumbu</td>\n",
       "      <td>0</td>\n",
       "      <td>Ruvuma / Southern Coast</td>\n",
       "      <td>Mahakamani</td>\n",
       "      <td>Mtwara</td>\n",
       "      <td>90</td>\n",
       "      <td>63</td>\n",
       "      <td>Nanyumbu</td>\n",
       "      <td>Nanyumbu</td>\n",
       "      <td>58</td>\n",
       "      <td>True</td>\n",
       "      <td>GeoData Consultants Ltd</td>\n",
       "      <td>VWC</td>\n",
       "      <td>NaN</td>\n",
       "      <td>True</td>\n",
       "      <td>1986</td>\n",
       "      <td>submersible</td>\n",
       "      <td>submersible</td>\n",
       "      <td>submersible</td>\n",
       "      <td>vwc</td>\n",
       "      <td>user-group</td>\n",
       "      <td>never pay</td>\n",
       "      <td>never pay</td>\n",
       "      <td>soft</td>\n",
       "      <td>good</td>\n",
       "      <td>dry</td>\n",
       "      <td>dry</td>\n",
       "      <td>machine dbh</td>\n",
       "      <td>borehole</td>\n",
       "      <td>groundwater</td>\n",
       "      <td>communal standpipe multiple</td>\n",
       "      <td>communal standpipe</td>\n",
       "    </tr>\n",
       "    <tr>\n",
       "      <th>19728</th>\n",
       "      <td>functional</td>\n",
       "      <td>0.0</td>\n",
       "      <td>2011-07-13</td>\n",
       "      <td>Action In A</td>\n",
       "      <td>0</td>\n",
       "      <td>Artisan</td>\n",
       "      <td>31.130847</td>\n",
       "      <td>-1.825359</td>\n",
       "      <td>Shuleni</td>\n",
       "      <td>0</td>\n",
       "      <td>Lake Victoria</td>\n",
       "      <td>Kyanyamisa</td>\n",
       "      <td>Kagera</td>\n",
       "      <td>18</td>\n",
       "      <td>1</td>\n",
       "      <td>Karagwe</td>\n",
       "      <td>Nyakasimbi</td>\n",
       "      <td>0</td>\n",
       "      <td>True</td>\n",
       "      <td>GeoData Consultants Ltd</td>\n",
       "      <td>NaN</td>\n",
       "      <td>NaN</td>\n",
       "      <td>True</td>\n",
       "      <td>0</td>\n",
       "      <td>gravity</td>\n",
       "      <td>gravity</td>\n",
       "      <td>gravity</td>\n",
       "      <td>other</td>\n",
       "      <td>other</td>\n",
       "      <td>never pay</td>\n",
       "      <td>never pay</td>\n",
       "      <td>soft</td>\n",
       "      <td>good</td>\n",
       "      <td>seasonal</td>\n",
       "      <td>seasonal</td>\n",
       "      <td>rainwater harvesting</td>\n",
       "      <td>rainwater harvesting</td>\n",
       "      <td>surface</td>\n",
       "      <td>communal standpipe</td>\n",
       "      <td>communal standpipe</td>\n",
       "    </tr>\n",
       "  </tbody>\n",
       "</table>\n",
       "</div>"
      ],
      "text/plain": [
       "         status_group  amount_tsh date_recorded        funder  gps_height  \\\n",
       "id                                                                          \n",
       "69572      functional      6000.0    2011-03-14         Roman        1390   \n",
       "8776       functional         0.0    2013-03-06       Grumeti        1399   \n",
       "34310      functional        25.0    2013-02-25  Lottery Club         686   \n",
       "67743  non functional         0.0    2013-01-28        Unicef         263   \n",
       "19728      functional         0.0    2011-07-13   Action In A           0   \n",
       "\n",
       "          installer  longitude   latitude              wpt_name  num_private  \\\n",
       "id                                                                             \n",
       "69572         Roman  34.938093  -9.856322                  none            0   \n",
       "8776        GRUMETI  34.698766  -2.147466              Zahanati            0   \n",
       "34310  World vision  37.460664  -3.821329           Kwa Mahundi            0   \n",
       "67743        UNICEF  38.486161 -11.155298  Zahanati Ya Nanyumbu            0   \n",
       "19728       Artisan  31.130847  -1.825359               Shuleni            0   \n",
       "\n",
       "                         basin  subvillage   region  region_code  \\\n",
       "id                                                                 \n",
       "69572               Lake Nyasa    Mnyusi B   Iringa           11   \n",
       "8776             Lake Victoria     Nyamara     Mara           20   \n",
       "34310                  Pangani     Majengo  Manyara           21   \n",
       "67743  Ruvuma / Southern Coast  Mahakamani   Mtwara           90   \n",
       "19728            Lake Victoria  Kyanyamisa   Kagera           18   \n",
       "\n",
       "       district_code        lga        ward  population public_meeting  \\\n",
       "id                                                                       \n",
       "69572              5     Ludewa    Mundindi         109           True   \n",
       "8776               2  Serengeti       Natta         280            NaN   \n",
       "34310              4  Simanjiro     Ngorika         250           True   \n",
       "67743             63   Nanyumbu    Nanyumbu          58           True   \n",
       "19728              1    Karagwe  Nyakasimbi           0           True   \n",
       "\n",
       "                   recorded_by scheme_management                  scheme_name  \\\n",
       "id                                                                              \n",
       "69572  GeoData Consultants Ltd               VWC                        Roman   \n",
       "8776   GeoData Consultants Ltd             Other                          NaN   \n",
       "34310  GeoData Consultants Ltd               VWC  Nyumba ya mungu pipe scheme   \n",
       "67743  GeoData Consultants Ltd               VWC                          NaN   \n",
       "19728  GeoData Consultants Ltd               NaN                          NaN   \n",
       "\n",
       "      permit  construction_year extraction_type extraction_type_group  \\\n",
       "id                                                                      \n",
       "69572  False               1999         gravity               gravity   \n",
       "8776    True               2010         gravity               gravity   \n",
       "34310   True               2009         gravity               gravity   \n",
       "67743   True               1986     submersible           submersible   \n",
       "19728   True                  0         gravity               gravity   \n",
       "\n",
       "      extraction_type_class management management_group         payment  \\\n",
       "id                                                                        \n",
       "69572               gravity        vwc       user-group    pay annually   \n",
       "8776                gravity        wug       user-group       never pay   \n",
       "34310               gravity        vwc       user-group  pay per bucket   \n",
       "67743           submersible        vwc       user-group       never pay   \n",
       "19728               gravity      other            other       never pay   \n",
       "\n",
       "      payment_type water_quality quality_group      quantity quantity_group  \\\n",
       "id                                                                            \n",
       "69572     annually          soft          good        enough         enough   \n",
       "8776     never pay          soft          good  insufficient   insufficient   \n",
       "34310   per bucket          soft          good        enough         enough   \n",
       "67743    never pay          soft          good           dry            dry   \n",
       "19728    never pay          soft          good      seasonal       seasonal   \n",
       "\n",
       "                     source           source_type source_class  \\\n",
       "id                                                               \n",
       "69572                spring                spring  groundwater   \n",
       "8776   rainwater harvesting  rainwater harvesting      surface   \n",
       "34310                   dam                   dam      surface   \n",
       "67743           machine dbh              borehole  groundwater   \n",
       "19728  rainwater harvesting  rainwater harvesting      surface   \n",
       "\n",
       "                   waterpoint_type waterpoint_type_group  \n",
       "id                                                        \n",
       "69572           communal standpipe    communal standpipe  \n",
       "8776            communal standpipe    communal standpipe  \n",
       "34310  communal standpipe multiple    communal standpipe  \n",
       "67743  communal standpipe multiple    communal standpipe  \n",
       "19728           communal standpipe    communal standpipe  "
      ]
     },
     "execution_count": 106,
     "metadata": {},
     "output_type": "execute_result"
    }
   ],
   "source": [
    "# drop duplicates\n",
    "df.drop_duplicates(inplace=True)\n",
    "df.head()"
   ]
  },
  {
   "cell_type": "code",
   "execution_count": 107,
   "metadata": {},
   "outputs": [
    {
     "data": {
      "text/plain": [
       "functional                 32237\n",
       "non functional             22813\n",
       "functional needs repair     4314\n",
       "Name: status_group, dtype: int64"
      ]
     },
     "execution_count": 107,
     "metadata": {},
     "output_type": "execute_result"
    }
   ],
   "source": [
    "# status counts\n",
    "df['status_group'].value_counts()"
   ]
  },
  {
   "cell_type": "code",
   "execution_count": null,
   "metadata": {},
   "outputs": [],
   "source": [
    "# visualize\n",
    "fig, ax = plt.subplots()\n",
    "sns.barplot(x=df['status_group'].value_counts().index, y=df['status_group'].value_counts(), ax=ax)\n",
    "ax.set_title('Waterpoint Functionality')\n",
    "ax.set_ylabel('Count')\n",
    "plt.savefig('images/waterpoint_functionality_initial.png');"
   ]
  },
  {
   "cell_type": "markdown",
   "metadata": {},
   "source": [
    "Based on the breakdown of the groups, we decided to turn our status column into a binary to make our classification process more straightforward. \n",
    "\n",
    "The 'functional needs repair' classification will be grouped in with the non-functional classification. The idea being, maintenance and repair will still be valuable on a damagaged waterpoint. It makes sense for our stakeholder to include in damaged waterpoints with this group because they are looking for where to direct their attention. It would be much more costly to the people of the area for a damaged waterpoint to be classified as completely functional and not get any additional attention (or water). "
   ]
  },
  {
   "cell_type": "code",
   "execution_count": null,
   "metadata": {},
   "outputs": [],
   "source": [
    "# combine 'functional needs repair' into 'non functional'\n",
    "df.loc[df['status_group'] == 'functional needs repair', 'status_group'] = 'non functional'"
   ]
  },
  {
   "cell_type": "markdown",
   "metadata": {},
   "source": [
    "After our status combination, our split shows a much more balanced distribution of our data."
   ]
  },
  {
   "cell_type": "code",
   "execution_count": null,
   "metadata": {},
   "outputs": [],
   "source": [
    "# Visualizing our breakdown\n",
    "\n",
    "fig, ax = plt.subplots(figsize=(10,8))\n",
    "plt.style.use('seaborn-talk')\n",
    "palette = sns.color_palette(\"mako\", n_colors = 2)\n",
    "palette.reverse()\n",
    "sns.barplot(x=df['status_group'].value_counts().index, y=df['status_group'].value_counts(),\n",
    "           palette=palette)\n",
    "ax.set_title('Waterpoint Functionality', fontsize=25)\n",
    "ax.set_xticklabels(['Functional', 'Non-Functional'], fontsize=20)\n",
    "ax.tick_params(axis='y', labelsize=20)\n",
    "ax.set_ylabel('Count', fontsize=20)\n",
    "plt.savefig('images/waterpoint_functionality.png');"
   ]
  },
  {
   "cell_type": "markdown",
   "metadata": {},
   "source": [
    "We can now start diving into our numerical and categorical columns, as well as looking for null values and other problematic values in the dataset."
   ]
  },
  {
   "cell_type": "code",
   "execution_count": null,
   "metadata": {},
   "outputs": [],
   "source": [
    "# information on the full dataset\n",
    "df.info()"
   ]
  },
  {
   "cell_type": "code",
   "execution_count": null,
   "metadata": {},
   "outputs": [],
   "source": [
    "df.describe()"
   ]
  },
  {
   "cell_type": "code",
   "execution_count": null,
   "metadata": {},
   "outputs": [],
   "source": [
    "# separate into numerical and categorical features\n",
    "cat_cols = []\n",
    "num_cols = []\n",
    "for col in df.columns:\n",
    "    if df[col].dtype in ['object']:\n",
    "        cat_cols.append(col)\n",
    "    else:\n",
    "        num_cols.append(col)"
   ]
  },
  {
   "cell_type": "markdown",
   "metadata": {},
   "source": [
    "We would like to get a better idea of the distribution of our numerical features."
   ]
  },
  {
   "cell_type": "code",
   "execution_count": null,
   "metadata": {},
   "outputs": [],
   "source": [
    "# visualize numericals\n",
    "fig, axes = plt.subplots(nrows=len(num_cols),figsize=(20,30))\n",
    "plt.tight_layout()\n",
    "for i, col in enumerate(num_cols):\n",
    "    sns.histplot(df[col], bins=50, ax=axes[i])"
   ]
  },
  {
   "cell_type": "markdown",
   "metadata": {},
   "source": [
    "**Initial Numerical Column Impressions**\n",
    "\n",
    "Very little of our numerical data can be classified as having a normal distribution. Because of this, we will avoid using a StandardScaler. We can see problems in our longitude data as it is not possible for there to be a longitude of 0 in Tanzania. We also see that there is a large proportion of 0 values in population and construction year that we will address later. \n",
    "\n",
    "It doesn't matter that `amount_tsh` has a large propportion of 0s. The data dictionary describes it as \"amount_tsh - Total static head (amount water available to waterpoint)\". This might seem quite bad, because this makes it sound like the total water available is 0 for over 70% of water points. However, this is an incorrect description for Total Static Head, as shown [here](../../notebooks/Nick/images/total_static_head.jpeg). It's simply the distance from the surface of the source to the surface of the access point, so actually having '0' is a good thing."
   ]
  },
  {
   "cell_type": "code",
   "execution_count": null,
   "metadata": {},
   "outputs": [],
   "source": [
    "# percent 0 in each column\n",
    "(df == 0).sum(axis=0)/len(data)*100"
   ]
  },
  {
   "cell_type": "markdown",
   "metadata": {},
   "source": [
    "After reviewing the zeros in each category, we noticed that there are 0 values in the longitude column. There are no longitudinal coordinates in Tanzania with a value of zero. We know these values are errors so we will replace them and the latidudinal coordinates associated with them with NAN. "
   ]
  },
  {
   "cell_type": "code",
   "execution_count": null,
   "metadata": {},
   "outputs": [],
   "source": [
    "# Number of rows with problem 0 longitude values \n",
    "(df['longitude'] == 0).sum()"
   ]
  },
  {
   "cell_type": "code",
   "execution_count": null,
   "metadata": {},
   "outputs": [],
   "source": [
    "# All 0 longitude values have the same value count, showing us this is an error\n",
    "\n",
    "df[df['longitude'] == 0]['latitude'].value_counts()"
   ]
  },
  {
   "cell_type": "code",
   "execution_count": null,
   "metadata": {},
   "outputs": [],
   "source": [
    "# transform incorrect long/lat to nulls \n",
    "df.loc[(df['longitude']== 0), ('longitude','latitude')] = np.nan"
   ]
  },
  {
   "cell_type": "markdown",
   "metadata": {},
   "source": [
    "We also will transform our contruction year with a value of 0 to NAN. We do not want this 0 value to have a negative impact on our model so replacing it is necessary. "
   ]
  },
  {
   "cell_type": "code",
   "execution_count": null,
   "metadata": {},
   "outputs": [],
   "source": [
    "# transform construction year 0 to nulls\n",
    "df.loc[(df['construction_year']== 0), 'construction_year'] = np.nan"
   ]
  },
  {
   "cell_type": "code",
   "execution_count": null,
   "metadata": {
    "scrolled": true
   },
   "outputs": [],
   "source": [
    "# check out upper tail of amount_tsh\n",
    "df['amount_tsh'].sort_values(ascending=False).head(30)"
   ]
  },
  {
   "cell_type": "markdown",
   "metadata": {},
   "source": [
    "Although it is not indicated in our data description, we assume that the population is being measured in units of 100."
   ]
  },
  {
   "cell_type": "code",
   "execution_count": null,
   "metadata": {
    "scrolled": true
   },
   "outputs": [],
   "source": [
    "# check out upper tail of population\n",
    "df['population'].sort_values(ascending=False).head(30)"
   ]
  },
  {
   "cell_type": "code",
   "execution_count": null,
   "metadata": {},
   "outputs": [],
   "source": [
    "# percent null in each column\n",
    "df.isna().sum()/len(data)*100"
   ]
  },
  {
   "cell_type": "markdown",
   "metadata": {},
   "source": [
    "Looking through the characteristics of unique values in our columns as well as the number of unique values in each column. This is important because it will inform how we move forward with preprocessing."
   ]
  },
  {
   "cell_type": "code",
   "execution_count": null,
   "metadata": {},
   "outputs": [],
   "source": [
    "#Looking through the characteristics of unique values in our columns\n",
    "for col in df.columns:\n",
    "    print(f'{col}:')\n",
    "    print(df[col].value_counts(normalize=True))\n",
    "    print(df[col].nunique())\n",
    "    print('<>'*5)"
   ]
  },
  {
   "cell_type": "code",
   "execution_count": null,
   "metadata": {},
   "outputs": [],
   "source": [
    "#Dialing in on the specifics of just our categorical columns\n",
    "for col in cat_cols:\n",
    "    print(f'{col}:')\n",
    "    print(df[col].value_counts(normalize=True))\n",
    "    print('<>'*5)"
   ]
  },
  {
   "cell_type": "code",
   "execution_count": null,
   "metadata": {
    "scrolled": true
   },
   "outputs": [],
   "source": [
    "# A quick look at our row value count, unique value count\n",
    "# top category and freqency of that top category for each categorical feature \n",
    "df[cat_cols].describe()"
   ]
  },
  {
   "cell_type": "code",
   "execution_count": null,
   "metadata": {},
   "outputs": [],
   "source": [
    "#Checking for hidden empty values\n",
    "((df[cat_cols] == 'None')|(df[cat_cols] == 'none')).sum(axis=0)/len(data)*100"
   ]
  },
  {
   "cell_type": "code",
   "execution_count": null,
   "metadata": {},
   "outputs": [],
   "source": [
    "((df[cat_cols] == 'Unknown')|(df[cat_cols] == 'unknown')).sum(axis=0)/len(data)*100"
   ]
  },
  {
   "cell_type": "code",
   "execution_count": null,
   "metadata": {},
   "outputs": [],
   "source": [
    "df[cat_cols].isna().sum()"
   ]
  },
  {
   "cell_type": "code",
   "execution_count": null,
   "metadata": {},
   "outputs": [],
   "source": [
    "(df[cat_cols] == 0).sum()"
   ]
  },
  {
   "cell_type": "markdown",
   "metadata": {},
   "source": [
    "After spending time looking for a variety of representations of empty or null values in our categorical columns, we replace them all with Unknown for better categorization."
   ]
  },
  {
   "cell_type": "code",
   "execution_count": null,
   "metadata": {},
   "outputs": [],
   "source": [
    "df[cat_cols] = df[cat_cols].replace(to_replace=['none','None','unknown', 0, np.nan],\n",
    "                                    value='Unknown')"
   ]
  },
  {
   "cell_type": "code",
   "execution_count": null,
   "metadata": {},
   "outputs": [],
   "source": [
    "(df[cat_cols] == 'Unknown').sum()"
   ]
  },
  {
   "cell_type": "markdown",
   "metadata": {},
   "source": [
    "We can now more accurately understand how unknown or empty values are represented in each feature across our dataset. "
   ]
  },
  {
   "cell_type": "markdown",
   "metadata": {},
   "source": [
    "As we explore the data, we will unpack some of the meaning behind the data and look for columns that are not relevant to our model. We are also now able to make decisions on dealing with the kept data. We used the data that was the most descriptive because our best-performing model downstream is able handle large amounts of categorical information. \n",
    "\n",
    "## Categorical feature determinations:\n",
    "\n",
    "### Dropped Columns\n",
    "\n",
    "The following columns will be dropped because they contain an exact duplicate of an existing column or data that is better represented in another column. \n",
    "\n",
    "- num_private\n",
    "- region_code \n",
    "- district_code\n",
    "- date_recorded \n",
    "- wpt_name\n",
    "- recorded_by \n",
    "- scheme_name\n",
    "- extraction_type_group\n",
    "- extraction_type_class\n",
    "- management_group\n",
    "- payment_type\n",
    "- quality_group\n",
    "- quantity_group\n",
    "- source_type\n",
    "- source_class\n",
    "- waterpoint_type_group\n",
    "\n",
    "### OneHotEncoder Processing\n",
    "The following columns have less than 25 unique values, making them good candidates for [OneHotEncoder](https://scikit-learn.org/stable/modules/generated/sklearn.preprocessing.OneHotEncoder.html). The cutoff criteria was set to keep our post processing column count from getting too large relative to our number of rows in our dataset.\n",
    "\n",
    "- basin\n",
    "- region\n",
    "- public_meeting\n",
    "- scheme_management\n",
    "- permit\n",
    "- extraction_type\n",
    "- management\n",
    "- payment\n",
    "- water_quality\n",
    "- quantity\n",
    "- source\n",
    "- waterpoint_type\n",
    "\n",
    "### Categorical Encoder Processing  \n",
    "\n",
    "The following features have over 100 unique value counts, making them poor candidates for OneHotEncoder. To preserve the size of our post processing dataset we used [Count Encoding](https://contrib.scikit-learn.org/category_encoders/count.html). \n",
    "\n",
    "- funder \n",
    "- installer\n",
    "- subvillage\n",
    "- lga \n",
    "- ward\n",
    "\n",
    "### Numerical Processing\n",
    "\n",
    "Because our numerical data holds non-normal distributions, we used a [MinMaxScaler](https://scikit-learn.org/stable/modules/generated/sklearn.preprocessing.MinMaxScaler.html) to standardize our data. We also used an [Iterative Imputer](https://scikit-learn.org/stable/modules/generated/sklearn.impute.IterativeImputer.html) to deal with the few null values we identified.\n",
    "\n",
    "- amount_tsh\n",
    "- gps_height\n",
    "- longitude\n",
    "- latitude\n",
    "- population\n",
    "- construction_year\n"
   ]
  },
  {
   "cell_type": "code",
   "execution_count": null,
   "metadata": {},
   "outputs": [],
   "source": [
    "drop_cols = ['num_private', 'region_code', 'district_code', 'date_recorded', 'wpt_name',\n",
    "             'recorded_by', 'scheme_name', 'extraction_type_group', 'extraction_type_class',\n",
    "             'management_group', 'payment_type', 'quality_group', 'quantity_group',\n",
    "             'source_type', 'source_class', 'waterpoint_type_group']\n",
    "df_post = df.drop(columns=drop_cols)"
   ]
  },
  {
   "cell_type": "markdown",
   "metadata": {},
   "source": [
    "We are making our status column binary for usability. "
   ]
  },
  {
   "cell_type": "code",
   "execution_count": null,
   "metadata": {},
   "outputs": [],
   "source": [
    "# binary encode status_group into `non_functional` with 1 = non_functional, 0 = functional\n",
    "df_post.rename(columns={'status_group':'non_functional'}, inplace=True)\n",
    "df_post['non_functional']\\\n",
    "= df_post['non_functional'].apply(lambda x: 1 if x == 'non functional' else 0)"
   ]
  },
  {
   "cell_type": "code",
   "execution_count": null,
   "metadata": {},
   "outputs": [],
   "source": [
    "df_post.to_csv('data/data_cleaned.csv')"
   ]
  },
  {
   "cell_type": "markdown",
   "metadata": {},
   "source": [
    "## Limitations\n",
    "\n",
    "Overall, this data does a half-way serviceable job of presenting features that have relevance to the target functionality state. It's decently clean, and it presents geographical information, data about the well itself, the water that flows through it, and the groups involved in its operation. However, it's also not as ideal as it could be. We don't get a lot of information from the few numerical features, especially not as much as we would expect from this type of column. Furthermore, some categorical features like those relating to the water could probably be much more valuable if they were presented as quantifiable information. The huge proportion of categorical features in comparison to the numerical would suggest that the best model for this data would be non-parametric, as parametric models tend to perform better with a higher proportion of numerical features.\n",
    "\n",
    "While our model might perform decently well with the provided data, I would strongly suggest that the Government of Tanzania revisit their data collection methods to provide more robust and predictive information."
   ]
  }
 ],
 "metadata": {
  "kernelspec": {
   "display_name": "Python (learn-env)",
   "language": "python",
   "name": "learn-env"
  },
  "language_info": {
   "codemirror_mode": {
    "name": "ipython",
    "version": 3
   },
   "file_extension": ".py",
   "mimetype": "text/x-python",
   "name": "python",
   "nbconvert_exporter": "python",
   "pygments_lexer": "ipython3",
   "version": "3.8.5"
  }
 },
 "nbformat": 4,
 "nbformat_minor": 4
}
